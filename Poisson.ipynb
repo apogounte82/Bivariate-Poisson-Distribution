{
 "cells": [
  {
   "cell_type": "markdown",
   "metadata": {},
   "source": [
    "# Challenging the accuracy of Bivariate Poisson Distribution for Football Predictions"
   ]
  },
  {
   "cell_type": "markdown",
   "metadata": {},
   "source": [
    "# Purpose of the analysis"
   ]
  },
  {
   "cell_type": "raw",
   "metadata": {},
   "source": [
    "The purpose of the analysis is, by applying the Bivariate Poisson Distribution on each one of the 132K footbal matches included in our dataset:\n",
    "\n",
    "1. to depict, how close the probabilities calculated are to the actual results.\n",
    "2. to suggest possible ways to correct the outcome.\n",
    "3. to investigate a scenario of betting on draws with value, after the corrections prediscussed."
   ]
  },
  {
   "cell_type": "markdown",
   "metadata": {},
   "source": [
    "# Poisson Distribution "
   ]
  },
  {
   "cell_type": "raw",
   "metadata": {},
   "source": [
    "In probability theory and statistics, the Poisson distribution named after French mathematician Siméon Denis Poisson, is a discrete probability distribution that expresses the probability of a given number of events occurring in a fixed interval of time or space if these events occur with a known constant mean rate and independently of the time since the last event. The Poisson distribution can also be used for the number of events in other specified intervals such as distance, area or volume.\n",
    "\n",
    "For instance, a call center receives an average of 180 calls per hour, 24 hours a day. The calls are independent; receiving one does not change the probability of when the next one will arrive. The number of calls received during any minute has a Poisson probability distribution: the most likely numbers are 2 and 3 but 1 and 4 are also likely and there is a small probability of it being as low as zero and a very small probability it could be 10. Another example is the number of decay events that occur from a radioactive source in a given observation period.\n",
    "\n",
    "https://en.wikipedia.org/wiki/Poisson_distribution"
   ]
  },
  {
   "cell_type": "markdown",
   "metadata": {},
   "source": [
    "# Bivariate Poisson for Football"
   ]
  },
  {
   "cell_type": "raw",
   "metadata": {},
   "source": [
    "To apply the Bivariate Poisson distribution  for football, one assumes that the probability of a goal being scored happens independently of the time since the last goal, and the time period is given by the length of a football match, meaning 90 minutes.Therefore the assumption is  that the number of goals scored are independent random variables that are Poisson distributed. \n",
    "\n",
    "So, the bivariate poisson distribution has been proposed and used to predict each team's probability of scoring exactly 0,1,2,3, etc goals, using a transformed 'mean', rather than the actual mean of the goals the team scores or concedes. \n",
    "\n",
    "To explain it further and better using an example, let us assume that, the hometeam, scores on avg 1.5 goals at home. One could use a simple Poisson distribution, to calculate the probabilities for that team scoring 0,1,2,3 goals, BUT, he would miss one important factor: whom is the hometeam competing against and  in what kind of league does this team compete in? A high scoring league, a low scoring league,or a neutral one? \n",
    "\n",
    "The bivariate poisson distibution for soccer does exactly the above. It incorporates, two more factors, in order to \n",
    "calculate the 'transformed' mean (aka  team goal expectancy) for the home team and the away team, which  probably gives a more realistic estimate, due to the fact that it takes into consideration the 'strength' of the  teams competing against each other."
   ]
  },
  {
   "cell_type": "markdown",
   "metadata": {},
   "source": [
    "# Introduction to the dataset"
   ]
  },
  {
   "cell_type": "raw",
   "metadata": {},
   "source": [
    "The dataset consists of ~ 132K football matches, from 150 countries around the world, from various leagues, covering the period between 2015-2020. It should also be noted that the first matchdays were excluded, in order for the league averages and the team averages to start to converge and be more realistic, in terms of statistical depth. To be more specific, all the teams have played at least 10 games, meaning all the data are processed after 10 matchdays of each league.\n",
    "\n",
    "What this means in other words, and by using an example, is that, for Premier League, a league with 20 teams, therefore 10 games per matchday, the league's averages are calculated with a N of at least 100. Each team's averages, have a N at least 5(because we assume that half the games are played as a home team, and half as an away team)\n",
    "\n",
    "There is no doubt that, the furthest down in the season we are, the more representative the numbers will be, but still, 10 games, is a good starting point.\n",
    "\n",
    "The data colection was possible by web scrapping betexplorer.com.\n"
   ]
  },
  {
   "cell_type": "code",
   "execution_count": 2,
   "metadata": {},
   "outputs": [],
   "source": [
    "%%capture\n",
    "from scipy.stats import poisson\n",
    "import matplotlib.pyplot as plt\n",
    "import pandas as pd\n",
    "import numpy as np\n",
    "import seaborn as sns\n",
    "pd.options.display.max_rows = 1999\n",
    "pd.options.display.max_columns = 1999\n",
    "\n",
    "import glob\n",
    "\n",
    "pd.set_option('display.max_columns', 200)\n",
    "pd.set_option('display.max_rows', 100)\n",
    "my_list = []\n",
    "for file in glob.glob(\"C:/Users/someuser/Downloads/data/*\" + \".csv\"):\n",
    "    try:\n",
    "#         print(file)\n",
    "        x = pd.read_csv(file, encoding = 'latin1')\n",
    "        my_list.append(x)\n",
    "        #print(x.columns)\n",
    "        #     print(file, len(x.columns))\n",
    "    except:\n",
    "        continue\n",
    "final = pd.concat(my_list)\n",
    "final_test =pd.concat(my_list)\n",
    "\n",
    "print(final_test.info())\n",
    "\n",
    "\n",
    "\n",
    "sample = final_test\n",
    "sample = sample.rename(columns = {'Ora' : 'time', 'League' : 'league', 'Date' : 'date', 'FTGH' :'homegoals',\n",
    "                       'FTGA' : 'awaygoals'})\n",
    "sample.head()\n",
    "\n",
    "\n",
    "sample['rov2,5'] = round(sample['oddover'],1)\n",
    "\n",
    "sample['gagnota'] = 1 / sample['oddassavg'] +  1/ sample['oddxavg']  +  1 / sample['odddiploavg']\n",
    "\n",
    "\n",
    "sample['assnogagnota'] = sample['oddassavg'] * sample['gagnota']\n",
    "sample['xnogagnota'] = sample['oddxavg'] * sample['gagnota']\n",
    "sample['diplonogagnota'] = sample['odddiploavg'] * sample['gagnota']\n",
    "\n",
    "\n",
    "sample['homegind'] = sample['sphgfavg'] * sample['spawgagavg']\n",
    "\n",
    "sample['awgind'] = sample['sphgagavg'] * sample['spawgfavg']\n",
    "sample['date2'] = pd.to_datetime(sample['date'],dayfirst = True, errors = 'coerce')\n",
    "sample['year'] = sample['date2'].dt.year\n",
    "sample['month'] = sample['date2'].dt.month\n",
    "sample.head(10)\n",
    "\n",
    "\n",
    "\n",
    "\n",
    "for col in ['homegoals', 'awaygoals','oddassavg', 'oddxavg', 'odddiploavg', 'oddunder', 'oddover'] : \n",
    "    sample[col] = pd.to_numeric(sample[col], errors = 'coerce')\n",
    "\n",
    "\n",
    "sample['homeunder1,5'] =  sample['homegoals'].apply(lambda x : 1 if x <2 else 0)  \n",
    "sample['awayunder1,5'] =  sample['awaygoals'].apply(lambda x : 1 if x <2 else 0) \n",
    "\n",
    "    \n",
    "sample['x'] = np.where(sample['homegoals'] == sample['awaygoals'],1,0)\n",
    "sample['u15'] = np.where((sample['homegoals'] + sample['awaygoals'])<2,1,0)\n",
    "sample['ov25'] = np.where((sample['homegoals'] + sample['awaygoals'])>2,1,0)\n",
    "\n",
    "under15dict = {\n",
    "1.5 : 5,\n",
    "1.6 : 4.60,\n",
    "1.7  : 4.05,\n",
    "1.8  : 3.8,\n",
    "1.9 :  3.5,\n",
    "2  :  3.3,  \n",
    "2.1  : 3.1,\n",
    "2.2 : 2.9,\n",
    "2.3  :  2.8,\n",
    "2.4 : 2.65,\n",
    "2.5 : 2.5,\n",
    "2.6 : 2.42,\n",
    "2.7 : 2.35,\n",
    "2.8 : 2.25,\n",
    "2.9 : 2.17,\n",
    "3 :  2.1 }\n",
    "\n",
    "\n",
    "\n",
    "over35dict = {\n",
    "1.5 :  2.3,\n",
    "1.6  :   2.45,\n",
    "1.7  :   2.7,\n",
    "1.8 : 3,\n",
    "1.9 :  3.2,\n",
    "2  :  3.45 ,\n",
    "2.1 : 3.75 ,\n",
    "2.2 : 4 ,\n",
    "2.3  :  4.25,\n",
    "2.4 : 4.55,\n",
    "2.5 : 4.85,\n",
    "2.6 : 5.15,\n",
    "2.7 : 5.4,\n",
    "2.8 : 5.85,\n",
    "2.9 : 6,\n",
    "3   :  6.2  }\n",
    "\n",
    "sample['oddunder1,5'] = sample['rov2,5'].map(under15dict)\n",
    "sample['oddover3,5'] = sample['rov2,5'].map(over35dict)   \n",
    "\n",
    "sample['oddover3,5gg'] = 1.1*sample['oddover3,5']\n",
    "\n",
    "\n",
    "\n",
    "sample['Country'] = sample['Country'].astype(str)\n",
    "sample['league'] = sample['league'].astype(str)\n",
    "\n",
    "\n",
    "sample['league'] = sample['league'].apply(lambda s : s.replace(\".\" , \"\"))\n",
    "sample['league'] = sample['league'].apply(lambda s : s.replace(\",\" , \"\"))\n",
    "\n",
    "\n",
    "import re\n",
    "\n",
    "def xaxa2(s):\n",
    "    try:\n",
    "      # splitting the s string, on the occurence of the regex, which is four digits, and returning the first element of the list created from the split\n",
    "        a  =  re.compile(r'\\d{4}').split(s)[0]\n",
    "        return a\n",
    "    except TypeError:\n",
    "        return 'not_splitted'\n",
    "\n",
    "# Applying it on  a column\n",
    "sample['league2'] = sample['league'].apply(lambda x : xaxa2(x))\n",
    "\n",
    "# Creating empty strings, back and forth\n",
    "sample['Country2'] = sample['Country'].apply(lambda x : ' ' + str(x) + ' ')\n",
    "\n",
    "# Concatenating the two columns\n",
    "sample['Country - League'] = sample.Country2.str.cat(sample.league2)\n",
    "\n",
    "\n",
    "\n",
    "df = sample\n",
    "df['homeover05'] =  df['homegoals'].apply(lambda x : 1 if x > 0 else 0)\n",
    "df['homeover15'] =  df['homegoals'].apply(lambda x : 1 if x > 1 else 0)\n",
    "df['homeover25'] =  df['homegoals'].apply(lambda x : 1 if x > 2 else 0)\n",
    "df['homeover35'] =  df['homegoals'].apply(lambda x : 1 if x > 3 else 0)\n",
    "df['awayover05'] =  df['awaygoals'].apply(lambda x : 1 if x > 0 else 0)\n",
    "df['awayover15'] =  df['awaygoals'].apply(lambda x : 1 if x > 1 else 0)\n",
    "df['awayover25'] =  df['awaygoals'].apply(lambda x : 1 if x > 2 else 0)\n",
    "df['awayover35'] =  df['awaygoals'].apply(lambda x : 1 if x > 3 else 0)\n",
    "\n",
    "df['oddassavgr'] = round(df['oddassavg'],1)\n",
    "\n",
    "# Letting 5 special matches to have passed\n",
    "df = df[df['Games_HaH'] >= 5]\n",
    "\n",
    "\n",
    "df['homegind'] = df['sphgfavg'] *  df['spawgagavg']\n",
    "df['awaygind'] = df['spawgfavg'] *  df['sphgagavg']\n",
    "\n",
    "\n",
    "df['homeodddev'] =  (1 / df['H_Win_odd_avg']) - (1 / df['oddassavg'])\n",
    "df['awayodddev'] = (1 / df['A_Win_odd_avg'])  - ( 1 / df['odddiploavg'])\n",
    "\n",
    "df['date2'] = pd.to_datetime(df['date'], errors = 'coerce', dayfirst=True)\n",
    "\n",
    "df['month'] = df['date2'].dt.month\n",
    "df['year'] = df['date2'].dt.year\n",
    "\n",
    "df.info()\n",
    "\n"
   ]
  },
  {
   "cell_type": "markdown",
   "metadata": {},
   "source": [
    "# Number of games per year"
   ]
  },
  {
   "cell_type": "code",
   "execution_count": 3,
   "metadata": {},
   "outputs": [
    {
     "data": {
      "text/plain": [
       "year\n",
       "2015    17270\n",
       "2016     4149\n",
       "2017    20943\n",
       "2018    35746\n",
       "2019    20643\n",
       "2020    18979\n",
       "2021     2109\n",
       "Name: homegoals, dtype: int64"
      ]
     },
     "execution_count": 3,
     "metadata": {},
     "output_type": "execute_result"
    }
   ],
   "source": [
    "df.groupby(['year'])['homegoals'].size()"
   ]
  },
  {
   "cell_type": "markdown",
   "metadata": {},
   "source": [
    "# Distribution of Home Goals"
   ]
  },
  {
   "cell_type": "code",
   "execution_count": 4,
   "metadata": {},
   "outputs": [
    {
     "data": {
      "image/png": "[encoded data removed]",
      "text/plain": [
       "<Figure size 432x288 with 1 Axes>"
      ]
     },
     "metadata": {
      "needs_background": "light"
     },
     "output_type": "display_data"
    }
   ],
   "source": [
    "sns.distplot(df['homegoals'],kde=False)\n",
    "plt.title('Distribution of home goals')\n",
    "plt.show()"
   ]
  },
  {
   "cell_type": "raw",
   "metadata": {},
   "source": [
    "Right Skewed distribution as expected, and quite obviously, the majority of the home goals lie between 0-2"
   ]
  },
  {
   "cell_type": "markdown",
   "metadata": {},
   "source": [
    "# Away Goals Distribution"
   ]
  },
  {
   "cell_type": "code",
   "execution_count": 5,
   "metadata": {},
   "outputs": [
    {
     "data": {
      "image/png": "[encoded data removed]",
      "text/plain": [
       "<Figure size 432x288 with 1 Axes>"
      ]
     },
     "metadata": {
      "needs_background": "light"
     },
     "output_type": "display_data"
    }
   ],
   "source": [
    "sns.distplot(df['awaygoals'],kde=False)\n",
    "plt.title('Distribution of away goals')\n",
    "plt.show()"
   ]
  },
  {
   "cell_type": "raw",
   "metadata": {},
   "source": [
    "The distribution of the away goals is also right skewed, but as depicted, the majority of the goals now is 0 or 1, which is a probable indication that the away team has a slight disadvantage and overall tends to score less goals than the home team."
   ]
  },
  {
   "cell_type": "markdown",
   "metadata": {},
   "source": [
    "# Thorough explanation of the calculation of the transformed mean(goal expectancy) for each opponent"
   ]
  },
  {
   "cell_type": "raw",
   "metadata": {},
   "source": [
    "                            HOME TEAM TRANSFORMED MEAN\n",
    "                            \n",
    "Assuming that the home team scores 1.5 goals on average at home, the away team concedes 1.8 goals on average as guest, and the avg home goals scored in the league, up till that date of the match, is 1.3.\n",
    "\n",
    "The attacking strength of the home team is : 1.5 / 1.3 =  1.154\n",
    "The defensive strength of the away team is : 1.8 / 1.3 =  1.385\n",
    "Reminding that the league avg is : 1.3\n",
    "\n",
    "In the end, the transformed mean for the home team is calculated as: \n",
    "\n",
    "home_team_transformed_mean = 1.154 * 1.385 * 1.3 = 2.07\n",
    "\n",
    "Using the 2.07 as an input into the poisson distribution, the probabilities for the home team scoring 0,1,2,3, etc goals are calculated below."
   ]
  },
  {
   "cell_type": "code",
   "execution_count": 6,
   "metadata": {},
   "outputs": [
    {
     "name": "stdout",
     "output_type": "stream",
     "text": [
      "Prob of home team scoring 0 goals is: 0.13\n",
      "Prob of home team scoring 1 goals is: 0.26\n",
      "Prob of home team scoring 2 goals is: 0.27\n",
      "Prob of home team scoring 3 goals is: 0.19\n",
      "Prob of home team scoring 4 goals is: 0.1\n",
      "Prob of home team scoring 5 goals is: 0.04\n",
      "Prob of home team scoring 6 goals is: 0.01\n",
      "Prob of home team scoring 7 goals is: 0.0\n",
      "Prob of home team scoring 8 goals is: 0.0\n",
      "Prob of home team scoring 9 goals is: 0.0\n"
     ]
    }
   ],
   "source": [
    "def poisson2(x):\n",
    "    \"\"\"Function to calculate poisson distribution probabilities, x = the transformed mean  \"\"\"\n",
    "    rv = poisson(x)\n",
    "    for i in range(0,10):\n",
    "        print('Prob of home team scoring ' + str(i) + ' goals is:',round(rv.pmf(i),2))\n",
    "poisson2(2.07)"
   ]
  },
  {
   "cell_type": "raw",
   "metadata": {},
   "source": [
    "                            AWAY TEAM TRANSFORMED MEAN \n",
    "                                        \n",
    "The home team concedes 0.7 goals on average at home, the away team scores 0.8 goals on average as guest, and the avg away goals scored in the league, up till that date of the match, is 1.1.\n",
    "\n",
    "The defensive strength of the home team is : 0.7 / 1.1 =  0.636\n",
    "The attacking strength of the away team is : 0.8 / 1.1 =  0.727\n",
    "Reminding that the league away teams goal avg is : 1.1\n",
    "\n",
    "In the end, the transformed mean for the home team is calculated as: \n",
    "\n",
    "away_team_transformed_mean = 0.636 * 0.727 * 1.1 = 0.51\n",
    "\n",
    "Using the 0.51 as an input into the poisson distribution, the probabilities for the away team scoring 0,1,2,3, etc goals are calculated below"
   ]
  },
  {
   "cell_type": "code",
   "execution_count": 7,
   "metadata": {},
   "outputs": [
    {
     "name": "stdout",
     "output_type": "stream",
     "text": [
      "Prob of away team scoring 0 goals is: 0.6\n",
      "Prob of away team scoring 1 goals is: 0.31\n",
      "Prob of away team scoring 2 goals is: 0.08\n",
      "Prob of away team scoring 3 goals is: 0.01\n",
      "Prob of away team scoring 4 goals is: 0.0\n",
      "Prob of away team scoring 5 goals is: 0.0\n",
      "Prob of away team scoring 6 goals is: 0.0\n",
      "Prob of away team scoring 7 goals is: 0.0\n",
      "Prob of away team scoring 8 goals is: 0.0\n",
      "Prob of away team scoring 9 goals is: 0.0\n"
     ]
    }
   ],
   "source": [
    "from scipy.stats import poisson\n",
    "def poisson2(x):\n",
    "    \"\"\"Function to calculate poisson distribution probabilities, x = the mean  \"\"\"\n",
    "    rv = poisson(x)\n",
    "    for i in range(0,10):\n",
    "        print('Prob of away team scoring ' + str(i) + ' goals is:',round(rv.pmf(i),2))\n",
    "poisson2(0.51)"
   ]
  },
  {
   "cell_type": "markdown",
   "metadata": {},
   "source": [
    "# Explanation of the analysis"
   ]
  },
  {
   "cell_type": "raw",
   "metadata": {},
   "source": [
    "Assuming that one knew that 23% of the adult population is an active smoker. What does that mean exactly? If one randomly gathered 100 adult people on the street and asked them, then he would expect that 23 people, would actually be smokers. Of course there are 95% confidence intervals regarding the 23%( meaning  that 95 times out of 100 that someone examined a random sample of adults, the % of smokers would be for example between 21.2 - 26.3), but for the purposes of this exercise, and for simplicity, the focus will be using the average  23 %.\n",
    "\n",
    "The same applies when someone produces predictions for an outcome, and more specifically in our case, a football outcome. If someone claims that there is a 20 % chance that Liverpool will not score against Manchester United, it means that, if the match was replayed 100 times, under the same pre game circumstances, in 20 of those 100 times,  Liverpool would not score.\n",
    "\n",
    "To be even more relevant to our analysis, if there are 1000 matches, for which  the probability of the home team to score exactly one goal is calculated at 25%, then, 250 games out of those 1000, should have finished, with the home team indeed having scored exactly one goal. This is the way the  Bivariate Poisson Distribution will be evaluated, meaning applying the above logic, in all the ~132 K matches of the dataset.\n"
   ]
  },
  {
   "cell_type": "markdown",
   "metadata": {},
   "source": [
    "# Creation of the home and away teams transformed means"
   ]
  },
  {
   "cell_type": "raw",
   "metadata": {},
   "source": [
    "                                Glossary\n",
    "\n",
    "sphgfavg   = home team  average goals for, when at home\n",
    "sphgagavg  = home team  average goals against, when at home\n",
    "spawgfavg  = away team  average goals for, when away\n",
    "spawgagavg = away team  average goals against, when away\n",
    "L_GH_avg   = League Home Goals Average\n",
    "L_GA_avg   = League Away Goals Average\n",
    "homegoals  = number of home goals scored in the game\n",
    "awaygoals  = number of away goals scored in the game"
   ]
  },
  {
   "cell_type": "code",
   "execution_count": 8,
   "metadata": {
    "scrolled": true
   },
   "outputs": [],
   "source": [
    "%%capture\n",
    "df['poissonhomeavg'] = df['sphgfavg'] * df['spawgagavg'] / df['L_GH_avg']\n",
    "df['poissonawayavg'] = df['spawgfavg'] * df['sphgagavg'] / df['L_GA_avg']\n"
   ]
  },
  {
   "cell_type": "markdown",
   "metadata": {},
   "source": [
    "# Poisson Distribution for home team exactly 0 goals"
   ]
  },
  {
   "cell_type": "code",
   "execution_count": 9,
   "metadata": {},
   "outputs": [],
   "source": [
    "%%capture\n",
    "from scipy.stats import poisson\n",
    "\n",
    "def poisson2(x):\n",
    "    \"\"\"Function to calculate poisson probabilities, x = the avg  \"\"\"\n",
    "    rv = poisson(x)\n",
    "# Return the probability of 1 goals\n",
    "    return rv.pmf(0)\n",
    "\n",
    "# Creation of zer goal of home team column\n",
    "df['home_zero_goal'] = np.where(df['homegoals'] == 0,1,0)\n",
    "\n",
    "# Creation of poisson probability of exactly 0 goal for hometeam\n",
    "df['home_0_goals_poisson_prob'] = df['poissonhomeavg'].apply(lambda x: poisson2(x))\n",
    "\n",
    "# Rounding the above column\n",
    "df['home_0_goals_poisson_prob'] = round(df['home_0_goals_poisson_prob'],2)\n",
    "df['home_0_goals_poisson_probR'] = round(df['home_0_goals_poisson_prob'],1)\n",
    "\n"
   ]
  },
  {
   "cell_type": "markdown",
   "metadata": {},
   "source": [
    "# Poisson Distribution for home team exactly 1 goal"
   ]
  },
  {
   "cell_type": "code",
   "execution_count": 10,
   "metadata": {},
   "outputs": [],
   "source": [
    "%%capture\n",
    "from scipy.stats import poisson\n",
    "\n",
    "def poisson2(x):\n",
    "    \"\"\"Function to calculate poisson probabilities, x = the avg  \"\"\"\n",
    "    rv = poisson(x)\n",
    "# Return the probability of 1 goals\n",
    "    return rv.pmf(1)\n",
    "\n",
    "# Creation of one goal of home team column\n",
    "df['home_one_goal'] = np.where(df['homegoals'] == 1,1,0)\n",
    "\n",
    "# Creation of poisson probability of exactly 1 goal for hometeam\n",
    "df['home_1_goals_poisson_prob'] = df['poissonhomeavg'].apply(lambda x: poisson2(x))\n",
    "\n",
    "# Rounding the above column\n",
    "df['home_1_goals_poisson_prob'] = round(df['home_1_goals_poisson_prob'],2)\n",
    "df['home_1_goals_poisson_probR'] = round(df['home_1_goals_poisson_prob'],1)"
   ]
  },
  {
   "cell_type": "markdown",
   "metadata": {},
   "source": [
    "# Poisson Distribution for home team exactly 2 goals"
   ]
  },
  {
   "cell_type": "code",
   "execution_count": 11,
   "metadata": {},
   "outputs": [],
   "source": [
    "%%capture\n",
    "from scipy.stats import poisson\n",
    "\n",
    "def poisson2(x):\n",
    "    \"\"\"Function to calculate poisson probabilities, x = the avg  \"\"\"\n",
    "    rv = poisson(x)\n",
    "# Return the probability of 2 goals\n",
    "    return rv.pmf(2)\n",
    "\n",
    "# Creation of 2 goals of home team column\n",
    "df['home_two_goals'] = np.where(df['homegoals'] == 2,1,0)\n",
    "\n",
    "# Creation of poisson probability of exactly 1 goal for hometeam\n",
    "df['home_2_goals_poisson_prob'] = df['poissonhomeavg'].apply(lambda x: poisson2(x))\n",
    "\n",
    "# Rounding the above column\n",
    "df['home_2_goals_poisson_prob'] = round(df['home_2_goals_poisson_prob'],2)\n",
    "df['home_2_goals_poisson_probR'] = round(df['home_2_goals_poisson_prob'],1)"
   ]
  },
  {
   "cell_type": "markdown",
   "metadata": {},
   "source": [
    "# Poisson Distribution for home team exactly 3 goals"
   ]
  },
  {
   "cell_type": "code",
   "execution_count": 12,
   "metadata": {},
   "outputs": [],
   "source": [
    "%%capture\n",
    "from scipy.stats import poisson\n",
    "\n",
    "def poisson2(x):\n",
    "    \"\"\"Function to calculate poisson probabilities, x = the avg  \"\"\"\n",
    "    rv = poisson(x)\n",
    "# Return the probability of 3 goals\n",
    "    return rv.pmf(3)\n",
    "\n",
    "# Creation of 3 goals of home team column\n",
    "df['home_three_goals'] = np.where(df['homegoals'] == 3,1,0)\n",
    "\n",
    "# Creation of poisson probability of exactly 1 goal for hometeam\n",
    "df['home_3_goals_poisson_prob'] = df['poissonhomeavg'].apply(lambda x: poisson2(x))\n",
    "\n",
    "# Rounding the above column\n",
    "df['home_3_goals_poisson_prob'] = round(df['home_3_goals_poisson_prob'],2)\n",
    "df['home_3_goals_poisson_probR'] = round(df['home_3_goals_poisson_prob'],1)"
   ]
  },
  {
   "cell_type": "markdown",
   "metadata": {},
   "source": [
    "# Poisson Distribution for home team exactly 4 goals"
   ]
  },
  {
   "cell_type": "code",
   "execution_count": 13,
   "metadata": {},
   "outputs": [],
   "source": [
    "%%capture\n",
    "from scipy.stats import poisson\n",
    "\n",
    "def poisson2(x):\n",
    "    \"\"\"Function to calculate poisson probabilities, x = the avg  \"\"\"\n",
    "    rv = poisson(x)\n",
    "# Return the probability of 4 goals\n",
    "    return rv.pmf(4)\n",
    "\n",
    "# Creation of 4 goals of home team column\n",
    "df['home_four_goals'] = np.where(df['homegoals'] == 4,1,0)\n",
    "\n",
    "# Creation of poisson probability of exactly 1 goal for hometeam\n",
    "df['home_4_goals_poisson_prob'] = df['poissonhomeavg'].apply(lambda x: poisson2(x))\n",
    "\n",
    "# Rounding the above column\n",
    "df['home_4_goals_poisson_prob'] = round(df['home_4_goals_poisson_prob'],2)\n",
    "df['home_4_goals_poisson_probR'] = round(df['home_4_goals_poisson_prob'],1)"
   ]
  },
  {
   "cell_type": "markdown",
   "metadata": {},
   "source": [
    "# Poisson Distribution for away team exactly 0 goals"
   ]
  },
  {
   "cell_type": "code",
   "execution_count": 14,
   "metadata": {},
   "outputs": [],
   "source": [
    "%%capture\n",
    "from scipy.stats import poisson\n",
    "\n",
    "def poisson2(x):\n",
    "    \"\"\"Function to calculate poisson probabilities, x = the avg , \"\"\"\n",
    "    rv = poisson(x)\n",
    "# Return the probability of 0 goals\n",
    "    return rv.pmf(0)\n",
    "\n",
    "# Creation of 0 goal of away team column\n",
    "df['away_zero_goals'] = np.where(df['awaygoals'] == 0,1,0)\n",
    "\n",
    "# Creation of poisson probability of exactly 1 goal for hometeam\n",
    "df['away_0_goals_poisson_prob'] = df['poissonawayavg'].apply(lambda x: poisson2(x))\n",
    "\n",
    "# Rounding the above column\n",
    "df['away_0_goals_poisson_prob'] = round(df['away_0_goals_poisson_prob'],2)\n",
    "df['away_0_goals_poisson_probR'] = round(df['away_0_goals_poisson_prob'],1)"
   ]
  },
  {
   "cell_type": "markdown",
   "metadata": {},
   "source": [
    "# Poisson Distribution for away team exactly 1 goals"
   ]
  },
  {
   "cell_type": "code",
   "execution_count": 15,
   "metadata": {},
   "outputs": [],
   "source": [
    "%%capture\n",
    "from scipy.stats import poisson\n",
    "\n",
    "def poisson2(x):\n",
    "    \"\"\"Function to calculate poisson probabilities, x = the avg , \"\"\"\n",
    "    rv = poisson(x)\n",
    "# Return the probability of 1 goals\n",
    "    return rv.pmf(1)\n",
    "\n",
    "# Creation of 1 goals of away team column\n",
    "df['away_one_goals'] = np.where(df['awaygoals'] == 1,1,0)\n",
    "\n",
    "# Creation of poisson probability of exactly 1 goal for hometeam\n",
    "df['away_1_goals_poisson_prob'] = df['poissonawayavg'].apply(lambda x: poisson2(x))\n",
    "\n",
    "# Rounding the above column\n",
    "df['away_1_goals_poisson_prob'] = round(df['away_1_goals_poisson_prob'],2)\n",
    "df['away_1_goals_poisson_probR'] = round(df['away_1_goals_poisson_prob'],1)"
   ]
  },
  {
   "cell_type": "markdown",
   "metadata": {},
   "source": [
    "# Poisson Distribution for away team exactly 2 goals"
   ]
  },
  {
   "cell_type": "code",
   "execution_count": 16,
   "metadata": {},
   "outputs": [],
   "source": [
    "%%capture\n",
    "from scipy.stats import poisson\n",
    "\n",
    "def poisson2(x):\n",
    "    \"\"\"Function to calculate poisson probabilities, x = the avg , \"\"\"\n",
    "    rv = poisson(x)\n",
    "# Return the probability of 2 goals\n",
    "    return rv.pmf(2)\n",
    "\n",
    "# Creation of 2 goals of away team column\n",
    "df['away_two_goals'] = np.where(df['awaygoals'] == 2,1,0)\n",
    "\n",
    "# Creation of poisson probability of exactly 1 goal for hometeam\n",
    "df['away_2_goals_poisson_prob'] = df['poissonawayavg'].apply(lambda x: poisson2(x))\n",
    "\n",
    "# Rounding the above column\n",
    "df['away_2_goals_poisson_prob'] = round(df['away_2_goals_poisson_prob'],2)\n",
    "df['away_2_goals_poisson_probR'] = round(df['away_2_goals_poisson_prob'],1)"
   ]
  },
  {
   "cell_type": "markdown",
   "metadata": {},
   "source": [
    "# Poisson Distribution for away team exactly 3 goals"
   ]
  },
  {
   "cell_type": "code",
   "execution_count": 17,
   "metadata": {},
   "outputs": [],
   "source": [
    "%%capture\n",
    "from scipy.stats import poisson\n",
    "\n",
    "def poisson2(x):\n",
    "    \"\"\"Function to calculate poisson, x = the avg , \"\"\"\n",
    "    rv = poisson(x)\n",
    "# Return the probability of 3 goals\n",
    "    return rv.pmf(3)\n",
    "\n",
    "# Creation of 3 goals of away team column\n",
    "df['away_three_goals'] = np.where(df['awaygoals'] == 3,1,0)\n",
    "\n",
    "# Creation of poisson probability of exactly 1 goal for hometeam\n",
    "df['away_3_goals_poisson_prob'] = df['poissonawayavg'].apply(lambda x: poisson2(x))\n",
    "\n",
    "# Rounding the above column\n",
    "df['away_3_goals_poisson_prob'] = round(df['away_3_goals_poisson_prob'],2)\n",
    "df['away_3_goals_poisson_probR'] = round(df['away_3_goals_poisson_prob'],1)"
   ]
  },
  {
   "cell_type": "markdown",
   "metadata": {},
   "source": [
    "# Poisson Distribution for away team exactly 4 goals"
   ]
  },
  {
   "cell_type": "code",
   "execution_count": 18,
   "metadata": {},
   "outputs": [],
   "source": [
    "%%capture\n",
    "from scipy.stats import poisson\n",
    "\n",
    "def poisson2(x):\n",
    "    \"\"\"Function to calculate poisson, x = the avg , \"\"\"\n",
    "    rv = poisson(x)\n",
    "# Return the probability of 4 goals\n",
    "    return rv.pmf(4)\n",
    "\n",
    "# Creation of 4 goals of away team column\n",
    "df['away_four_goals'] = np.where(df['awaygoals'] == 4,1,0)\n",
    "\n",
    "# Creation of poisson probability of exactly 1 goal for hometeam\n",
    "df['away_4_goals_poisson_prob'] = df['poissonawayavg'].apply(lambda x: poisson2(x))\n",
    "\n",
    "# Rounding the above column\n",
    "df['away_4_goals_poisson_prob'] = round(df['away_4_goals_poisson_prob'],2)\n",
    "df['away_4_goals_poisson_probR'] = round(df['away_4_goals_poisson_prob'],1)"
   ]
  },
  {
   "cell_type": "markdown",
   "metadata": {},
   "source": [
    "# AGGREGATIONS - GRAPHS"
   ]
  },
  {
   "cell_type": "raw",
   "metadata": {},
   "source": [
    "Following on, the aggregated avg of the target column  will be calculated, for each probability predicted by the Bivariate Poisson. The target column is in a binary form, 0 or 1, and thus we can compute and visually depict the discrepancy from the actual result."
   ]
  },
  {
   "cell_type": "markdown",
   "metadata": {},
   "source": [
    "# Aggregating by home_0_goals_poisson_prob"
   ]
  },
  {
   "cell_type": "code",
   "execution_count": 19,
   "metadata": {},
   "outputs": [
    {
     "data": {
      "image/png": "[encoded data removed]",
      "text/plain": [
       "<Figure size 432x288 with 1 Axes>"
      ]
     },
     "metadata": {
      "needs_background": "light"
     },
     "output_type": "display_data"
    },
    {
     "data": {
      "text/html": [
       "<div>\n",
       "<style scoped>\n",
       "    .dataframe tbody tr th:only-of-type {\n",
       "        vertical-align: middle;\n",
       "    }\n",
       "\n",
       "    .dataframe tbody tr th {\n",
       "        vertical-align: top;\n",
       "    }\n",
       "\n",
       "    .dataframe thead th {\n",
       "        text-align: right;\n",
       "    }\n",
       "</style>\n",
       "<table border=\"1\" class=\"dataframe\">\n",
       "  <thead>\n",
       "    <tr style=\"text-align: right;\">\n",
       "      <th></th>\n",
       "      <th>home_0_goals_poisson_probR</th>\n",
       "      <th>size</th>\n",
       "      <th>home_zero_goal_mean</th>\n",
       "    </tr>\n",
       "  </thead>\n",
       "  <tbody>\n",
       "    <tr>\n",
       "      <th>0</th>\n",
       "      <td>0.0</td>\n",
       "      <td>6773</td>\n",
       "      <td>0.09</td>\n",
       "    </tr>\n",
       "    <tr>\n",
       "      <th>1</th>\n",
       "      <td>0.1</td>\n",
       "      <td>21837</td>\n",
       "      <td>0.15</td>\n",
       "    </tr>\n",
       "    <tr>\n",
       "      <th>2</th>\n",
       "      <td>0.2</td>\n",
       "      <td>30924</td>\n",
       "      <td>0.21</td>\n",
       "    </tr>\n",
       "    <tr>\n",
       "      <th>3</th>\n",
       "      <td>0.3</td>\n",
       "      <td>21670</td>\n",
       "      <td>0.25</td>\n",
       "    </tr>\n",
       "    <tr>\n",
       "      <th>4</th>\n",
       "      <td>0.4</td>\n",
       "      <td>18721</td>\n",
       "      <td>0.29</td>\n",
       "    </tr>\n",
       "    <tr>\n",
       "      <th>5</th>\n",
       "      <td>0.5</td>\n",
       "      <td>9294</td>\n",
       "      <td>0.33</td>\n",
       "    </tr>\n",
       "    <tr>\n",
       "      <th>6</th>\n",
       "      <td>0.6</td>\n",
       "      <td>6222</td>\n",
       "      <td>0.36</td>\n",
       "    </tr>\n",
       "    <tr>\n",
       "      <th>7</th>\n",
       "      <td>0.7</td>\n",
       "      <td>2554</td>\n",
       "      <td>0.40</td>\n",
       "    </tr>\n",
       "    <tr>\n",
       "      <th>8</th>\n",
       "      <td>0.8</td>\n",
       "      <td>1228</td>\n",
       "      <td>0.41</td>\n",
       "    </tr>\n",
       "    <tr>\n",
       "      <th>9</th>\n",
       "      <td>0.9</td>\n",
       "      <td>280</td>\n",
       "      <td>0.42</td>\n",
       "    </tr>\n",
       "    <tr>\n",
       "      <th>10</th>\n",
       "      <td>1.0</td>\n",
       "      <td>194</td>\n",
       "      <td>0.43</td>\n",
       "    </tr>\n",
       "  </tbody>\n",
       "</table>\n",
       "</div>"
      ],
      "text/plain": [
       "    home_0_goals_poisson_probR   size  home_zero_goal_mean\n",
       "0                          0.0   6773                 0.09\n",
       "1                          0.1  21837                 0.15\n",
       "2                          0.2  30924                 0.21\n",
       "3                          0.3  21670                 0.25\n",
       "4                          0.4  18721                 0.29\n",
       "5                          0.5   9294                 0.33\n",
       "6                          0.6   6222                 0.36\n",
       "7                          0.7   2554                 0.40\n",
       "8                          0.8   1228                 0.41\n",
       "9                          0.9    280                 0.42\n",
       "10                         1.0    194                 0.43"
      ]
     },
     "execution_count": 19,
     "metadata": {},
     "output_type": "execute_result"
    }
   ],
   "source": [
    "groupbycol = 'home_0_goals_poisson_probR'\n",
    "a = df.groupby([groupbycol]).agg({'home_zero_goal' : [np.size,np.mean],  \n",
    "                                            }).reset_index()\n",
    "a.columns = a.columns.droplevel()\n",
    "a.columns = [groupbycol] + [ 'size','home_zero_goal_mean',  ]\n",
    "\n",
    "b = a[a['size'] > 50]\n",
    "b['home_zero_goal_mean'] = round(b['home_zero_goal_mean'],2)\n",
    "\n",
    "\n",
    "plt.scatter(x = b[groupbycol], y = b['home_zero_goal_mean'])\n",
    "\n",
    "plt.title('HOME TEAM 0 GOALS')\n",
    "plt.xlabel(groupbycol)\n",
    "plt.ylabel('Reality - aggregated avg')\n",
    "plt.plot([0,1],[0,1], 'r')\n",
    "plt.show()\n",
    "plt.show()\n",
    "\n",
    "b"
   ]
  },
  {
   "cell_type": "raw",
   "metadata": {},
   "source": [
    "x axis : The poisson calculated probability for home team 0 goals, rounded in the 1st decimal\n",
    "y axis : The aggregated avg\n",
    "The red line is the ideal scenario. All the blue dots should fall onto the red line, if the Poisson distribution provided the perfect prediction.\n",
    "\n",
    "                                        Further explanation\n",
    "\n",
    "Looking at the matrix, there were 7964 matches, where the poisson distribution predicted a 0 probability for the home team to score exactly 0 goals. What  actually happened is that 10 % of those games, ended with the home team scoring 0 goals. So Poisson underestimated the probability of the home team scoring exactly 0 goals.\n",
    "\n",
    "Continuing on line 3, there were 23346 games, for which the poisson distribution predicted a 0.3 probability for the home team scoring 0 goals. In reality, 25% of those teams scored exactly 0 goals, meaning that the poisson distribution, overestimated the probability.\n",
    "\n",
    "There are also cases where it very clearly overestimates.For instance at poisson porbability of 0.6, there were 7099 instances, but only 35% of those instances, actually finished with a 0 home goal scored.\n",
    "\n",
    "\n",
    "Having a look at the graph , after the benchmark of x = 0.3, one can see that the greater the probability of a team scoring exactly zero goals the more it overestimates the probability, meaning extreme discrepancy from  reality. This is something that should be taken strongly into consideration.\n",
    "\n",
    "\n",
    "As a reminder, ideally all the blue dots should fall on the y = x red line. When Poisson predicts 40%, it should be exactly 40%, when it predicts 20% it should be exactly 20%, if it predicts 60% it should be exactly 60%, etc. This is the reason why  the red line was drawn, to understand how much do the predictions of poisson distribution fall apart from the ideal scenario.\n",
    "\n",
    "One could argue that, if we an infinite number of games was available, the numbers would converge to the 0.6, but it seems rather unrealistic to happen."
   ]
  },
  {
   "cell_type": "markdown",
   "metadata": {},
   "source": [
    "# Aggregation with rounding at the 2nd decimal"
   ]
  },
  {
   "cell_type": "code",
   "execution_count": 20,
   "metadata": {},
   "outputs": [],
   "source": [
    "%%capture\n",
    "groupbycol = 'home_0_goals_poisson_prob'\n",
    "a = df.groupby([groupbycol]).agg({'home_zero_goal' : [np.size,np.mean],  \n",
    "                                            }).reset_index()\n",
    "a.columns = a.columns.droplevel()\n",
    "a.columns = [groupbycol] + [ 'size','home_zero_goal_mean',  ]\n",
    "\n",
    "b = a[a['size'] > 50]\n",
    "b['home_zero_goal_mean'] = round(b['home_zero_goal_mean'],2)\n",
    "\n",
    "\n",
    "plt.scatter(x = b[groupbycol], y = b['home_zero_goal_mean'])\n",
    "\n",
    "plt.title('HOME TEAM 0 GOALS')\n",
    "plt.xlabel(groupbycol)\n",
    "plt.ylabel('Reality - aggregated avg')\n",
    "\n",
    "plt.plot([0,1],[0,1], 'r')\n",
    "plt.show()\n",
    "plt.show()\n",
    "\n",
    "b"
   ]
  },
  {
   "cell_type": "markdown",
   "metadata": {},
   "source": [
    "# Distribution of Home 0 goals probabilities"
   ]
  },
  {
   "cell_type": "code",
   "execution_count": 21,
   "metadata": {},
   "outputs": [
    {
     "data": {
      "image/png": "[encoded data removed]",
      "text/plain": [
       "<Figure size 432x288 with 1 Axes>"
      ]
     },
     "metadata": {
      "needs_background": "light"
     },
     "output_type": "display_data"
    }
   ],
   "source": [
    "sns.distplot(df['home_0_goals_poisson_prob'],kde=False,bins=50)\n",
    "plt.title('Distribution of Home 0 goals probabilities')\n",
    "plt.show()"
   ]
  },
  {
   "cell_type": "raw",
   "metadata": {},
   "source": [
    "Right Skewed Distribution. The majority of the predictions falls to the left of the distribution"
   ]
  },
  {
   "cell_type": "markdown",
   "metadata": {},
   "source": [
    "# Aggregating by home_1_goals_poisson_prob"
   ]
  },
  {
   "cell_type": "code",
   "execution_count": 25,
   "metadata": {},
   "outputs": [
    {
     "data": {
      "image/png": "[encoded data removed]",
      "text/plain": [
       "<Figure size 432x288 with 1 Axes>"
      ]
     },
     "metadata": {
      "needs_background": "light"
     },
     "output_type": "display_data"
    },
    {
     "data": {
      "text/html": [
       "<div>\n",
       "<style scoped>\n",
       "    .dataframe tbody tr th:only-of-type {\n",
       "        vertical-align: middle;\n",
       "    }\n",
       "\n",
       "    .dataframe tbody tr th {\n",
       "        vertical-align: top;\n",
       "    }\n",
       "\n",
       "    .dataframe thead th {\n",
       "        text-align: right;\n",
       "    }\n",
       "</style>\n",
       "<table border=\"1\" class=\"dataframe\">\n",
       "  <thead>\n",
       "    <tr style=\"text-align: right;\">\n",
       "      <th></th>\n",
       "      <th>home_1_goals_poisson_probR</th>\n",
       "      <th>size</th>\n",
       "      <th>home_one_goal_mean</th>\n",
       "    </tr>\n",
       "  </thead>\n",
       "  <tbody>\n",
       "    <tr>\n",
       "      <th>0</th>\n",
       "      <td>0.0</td>\n",
       "      <td>989</td>\n",
       "      <td>0.17</td>\n",
       "    </tr>\n",
       "    <tr>\n",
       "      <th>1</th>\n",
       "      <td>0.1</td>\n",
       "      <td>5014</td>\n",
       "      <td>0.22</td>\n",
       "    </tr>\n",
       "    <tr>\n",
       "      <th>2</th>\n",
       "      <td>0.2</td>\n",
       "      <td>18813</td>\n",
       "      <td>0.28</td>\n",
       "    </tr>\n",
       "    <tr>\n",
       "      <th>3</th>\n",
       "      <td>0.3</td>\n",
       "      <td>46305</td>\n",
       "      <td>0.33</td>\n",
       "    </tr>\n",
       "    <tr>\n",
       "      <th>4</th>\n",
       "      <td>0.4</td>\n",
       "      <td>48576</td>\n",
       "      <td>0.35</td>\n",
       "    </tr>\n",
       "  </tbody>\n",
       "</table>\n",
       "</div>"
      ],
      "text/plain": [
       "   home_1_goals_poisson_probR   size  home_one_goal_mean\n",
       "0                         0.0    989                0.17\n",
       "1                         0.1   5014                0.22\n",
       "2                         0.2  18813                0.28\n",
       "3                         0.3  46305                0.33\n",
       "4                         0.4  48576                0.35"
      ]
     },
     "execution_count": 25,
     "metadata": {},
     "output_type": "execute_result"
    }
   ],
   "source": [
    "groupbycol = 'home_1_goals_poisson_probR'\n",
    "a = df.groupby([groupbycol]).agg({'home_one_goal' : [np.size,np.mean],  \n",
    "                                            }).reset_index()\n",
    "a.columns = a.columns.droplevel()\n",
    "a.columns = [groupbycol] + [ 'size','home_one_goal_mean',  ]\n",
    "\n",
    "b = a[a['size'] > 50]\n",
    "b['home_one_goal_mean'] = round(b['home_one_goal_mean'],2)\n",
    "\n",
    "\n",
    "plt.scatter(x = b[groupbycol], y = b['home_one_goal_mean'])\n",
    "\n",
    "plt.title('HOME TEAM 1 GOALS')\n",
    "plt.xlabel(groupbycol)\n",
    "\n",
    "plt.plot([0,1],[0,1], 'r')\n",
    "plt.show()\n",
    "plt.show()\n",
    "\n",
    "b"
   ]
  },
  {
   "cell_type": "code",
   "execution_count": 26,
   "metadata": {
    "scrolled": true
   },
   "outputs": [
    {
     "data": {
      "image/png": "[encoded data removed]",
      "text/plain": [
       "<Figure size 432x288 with 1 Axes>"
      ]
     },
     "metadata": {
      "needs_background": "light"
     },
     "output_type": "display_data"
    },
    {
     "data": {
      "text/html": [
       "<div>\n",
       "<style scoped>\n",
       "    .dataframe tbody tr th:only-of-type {\n",
       "        vertical-align: middle;\n",
       "    }\n",
       "\n",
       "    .dataframe tbody tr th {\n",
       "        vertical-align: top;\n",
       "    }\n",
       "\n",
       "    .dataframe thead th {\n",
       "        text-align: right;\n",
       "    }\n",
       "</style>\n",
       "<table border=\"1\" class=\"dataframe\">\n",
       "  <thead>\n",
       "    <tr style=\"text-align: right;\">\n",
       "      <th></th>\n",
       "      <th>home_1_goals_poisson_prob</th>\n",
       "      <th>size</th>\n",
       "      <th>home_one_goal_mean</th>\n",
       "    </tr>\n",
       "  </thead>\n",
       "  <tbody>\n",
       "    <tr>\n",
       "      <th>0</th>\n",
       "      <td>0.00</td>\n",
       "      <td>209</td>\n",
       "      <td>0.24</td>\n",
       "    </tr>\n",
       "    <tr>\n",
       "      <th>1</th>\n",
       "      <td>0.01</td>\n",
       "      <td>80</td>\n",
       "      <td>0.12</td>\n",
       "    </tr>\n",
       "    <tr>\n",
       "      <th>2</th>\n",
       "      <td>0.02</td>\n",
       "      <td>109</td>\n",
       "      <td>0.17</td>\n",
       "    </tr>\n",
       "    <tr>\n",
       "      <th>3</th>\n",
       "      <td>0.03</td>\n",
       "      <td>143</td>\n",
       "      <td>0.16</td>\n",
       "    </tr>\n",
       "    <tr>\n",
       "      <th>4</th>\n",
       "      <td>0.04</td>\n",
       "      <td>211</td>\n",
       "      <td>0.14</td>\n",
       "    </tr>\n",
       "    <tr>\n",
       "      <th>5</th>\n",
       "      <td>0.05</td>\n",
       "      <td>237</td>\n",
       "      <td>0.14</td>\n",
       "    </tr>\n",
       "    <tr>\n",
       "      <th>6</th>\n",
       "      <td>0.06</td>\n",
       "      <td>295</td>\n",
       "      <td>0.19</td>\n",
       "    </tr>\n",
       "    <tr>\n",
       "      <th>7</th>\n",
       "      <td>0.07</td>\n",
       "      <td>316</td>\n",
       "      <td>0.19</td>\n",
       "    </tr>\n",
       "    <tr>\n",
       "      <th>8</th>\n",
       "      <td>0.08</td>\n",
       "      <td>421</td>\n",
       "      <td>0.22</td>\n",
       "    </tr>\n",
       "    <tr>\n",
       "      <th>9</th>\n",
       "      <td>0.09</td>\n",
       "      <td>440</td>\n",
       "      <td>0.18</td>\n",
       "    </tr>\n",
       "    <tr>\n",
       "      <th>10</th>\n",
       "      <td>0.10</td>\n",
       "      <td>579</td>\n",
       "      <td>0.20</td>\n",
       "    </tr>\n",
       "    <tr>\n",
       "      <th>11</th>\n",
       "      <td>0.11</td>\n",
       "      <td>612</td>\n",
       "      <td>0.21</td>\n",
       "    </tr>\n",
       "    <tr>\n",
       "      <th>12</th>\n",
       "      <td>0.12</td>\n",
       "      <td>717</td>\n",
       "      <td>0.25</td>\n",
       "    </tr>\n",
       "    <tr>\n",
       "      <th>13</th>\n",
       "      <td>0.13</td>\n",
       "      <td>798</td>\n",
       "      <td>0.25</td>\n",
       "    </tr>\n",
       "    <tr>\n",
       "      <th>14</th>\n",
       "      <td>0.14</td>\n",
       "      <td>836</td>\n",
       "      <td>0.24</td>\n",
       "    </tr>\n",
       "    <tr>\n",
       "      <th>15</th>\n",
       "      <td>0.15</td>\n",
       "      <td>955</td>\n",
       "      <td>0.25</td>\n",
       "    </tr>\n",
       "    <tr>\n",
       "      <th>16</th>\n",
       "      <td>0.16</td>\n",
       "      <td>1138</td>\n",
       "      <td>0.23</td>\n",
       "    </tr>\n",
       "    <tr>\n",
       "      <th>17</th>\n",
       "      <td>0.17</td>\n",
       "      <td>1208</td>\n",
       "      <td>0.26</td>\n",
       "    </tr>\n",
       "    <tr>\n",
       "      <th>18</th>\n",
       "      <td>0.18</td>\n",
       "      <td>1309</td>\n",
       "      <td>0.26</td>\n",
       "    </tr>\n",
       "    <tr>\n",
       "      <th>19</th>\n",
       "      <td>0.19</td>\n",
       "      <td>1446</td>\n",
       "      <td>0.26</td>\n",
       "    </tr>\n",
       "    <tr>\n",
       "      <th>20</th>\n",
       "      <td>0.20</td>\n",
       "      <td>1669</td>\n",
       "      <td>0.26</td>\n",
       "    </tr>\n",
       "    <tr>\n",
       "      <th>21</th>\n",
       "      <td>0.21</td>\n",
       "      <td>1786</td>\n",
       "      <td>0.27</td>\n",
       "    </tr>\n",
       "    <tr>\n",
       "      <th>22</th>\n",
       "      <td>0.22</td>\n",
       "      <td>1991</td>\n",
       "      <td>0.29</td>\n",
       "    </tr>\n",
       "    <tr>\n",
       "      <th>23</th>\n",
       "      <td>0.23</td>\n",
       "      <td>2234</td>\n",
       "      <td>0.28</td>\n",
       "    </tr>\n",
       "    <tr>\n",
       "      <th>24</th>\n",
       "      <td>0.24</td>\n",
       "      <td>2416</td>\n",
       "      <td>0.30</td>\n",
       "    </tr>\n",
       "    <tr>\n",
       "      <th>25</th>\n",
       "      <td>0.25</td>\n",
       "      <td>2661</td>\n",
       "      <td>0.31</td>\n",
       "    </tr>\n",
       "    <tr>\n",
       "      <th>26</th>\n",
       "      <td>0.26</td>\n",
       "      <td>3008</td>\n",
       "      <td>0.29</td>\n",
       "    </tr>\n",
       "    <tr>\n",
       "      <th>27</th>\n",
       "      <td>0.27</td>\n",
       "      <td>3328</td>\n",
       "      <td>0.32</td>\n",
       "    </tr>\n",
       "    <tr>\n",
       "      <th>28</th>\n",
       "      <td>0.28</td>\n",
       "      <td>3847</td>\n",
       "      <td>0.32</td>\n",
       "    </tr>\n",
       "    <tr>\n",
       "      <th>29</th>\n",
       "      <td>0.29</td>\n",
       "      <td>4141</td>\n",
       "      <td>0.32</td>\n",
       "    </tr>\n",
       "    <tr>\n",
       "      <th>30</th>\n",
       "      <td>0.30</td>\n",
       "      <td>4744</td>\n",
       "      <td>0.32</td>\n",
       "    </tr>\n",
       "    <tr>\n",
       "      <th>31</th>\n",
       "      <td>0.31</td>\n",
       "      <td>5271</td>\n",
       "      <td>0.33</td>\n",
       "    </tr>\n",
       "    <tr>\n",
       "      <th>32</th>\n",
       "      <td>0.32</td>\n",
       "      <td>6086</td>\n",
       "      <td>0.34</td>\n",
       "    </tr>\n",
       "    <tr>\n",
       "      <th>33</th>\n",
       "      <td>0.33</td>\n",
       "      <td>7116</td>\n",
       "      <td>0.34</td>\n",
       "    </tr>\n",
       "    <tr>\n",
       "      <th>34</th>\n",
       "      <td>0.34</td>\n",
       "      <td>8764</td>\n",
       "      <td>0.35</td>\n",
       "    </tr>\n",
       "    <tr>\n",
       "      <th>35</th>\n",
       "      <td>0.35</td>\n",
       "      <td>11607</td>\n",
       "      <td>0.35</td>\n",
       "    </tr>\n",
       "    <tr>\n",
       "      <th>36</th>\n",
       "      <td>0.36</td>\n",
       "      <td>19193</td>\n",
       "      <td>0.35</td>\n",
       "    </tr>\n",
       "    <tr>\n",
       "      <th>37</th>\n",
       "      <td>0.37</td>\n",
       "      <td>17776</td>\n",
       "      <td>0.35</td>\n",
       "    </tr>\n",
       "  </tbody>\n",
       "</table>\n",
       "</div>"
      ],
      "text/plain": [
       "    home_1_goals_poisson_prob   size  home_one_goal_mean\n",
       "0                        0.00    209                0.24\n",
       "1                        0.01     80                0.12\n",
       "2                        0.02    109                0.17\n",
       "3                        0.03    143                0.16\n",
       "4                        0.04    211                0.14\n",
       "5                        0.05    237                0.14\n",
       "6                        0.06    295                0.19\n",
       "7                        0.07    316                0.19\n",
       "8                        0.08    421                0.22\n",
       "9                        0.09    440                0.18\n",
       "10                       0.10    579                0.20\n",
       "11                       0.11    612                0.21\n",
       "12                       0.12    717                0.25\n",
       "13                       0.13    798                0.25\n",
       "14                       0.14    836                0.24\n",
       "15                       0.15    955                0.25\n",
       "16                       0.16   1138                0.23\n",
       "17                       0.17   1208                0.26\n",
       "18                       0.18   1309                0.26\n",
       "19                       0.19   1446                0.26\n",
       "20                       0.20   1669                0.26\n",
       "21                       0.21   1786                0.27\n",
       "22                       0.22   1991                0.29\n",
       "23                       0.23   2234                0.28\n",
       "24                       0.24   2416                0.30\n",
       "25                       0.25   2661                0.31\n",
       "26                       0.26   3008                0.29\n",
       "27                       0.27   3328                0.32\n",
       "28                       0.28   3847                0.32\n",
       "29                       0.29   4141                0.32\n",
       "30                       0.30   4744                0.32\n",
       "31                       0.31   5271                0.33\n",
       "32                       0.32   6086                0.34\n",
       "33                       0.33   7116                0.34\n",
       "34                       0.34   8764                0.35\n",
       "35                       0.35  11607                0.35\n",
       "36                       0.36  19193                0.35\n",
       "37                       0.37  17776                0.35"
      ]
     },
     "execution_count": 26,
     "metadata": {},
     "output_type": "execute_result"
    }
   ],
   "source": [
    "groupbycol = 'home_1_goals_poisson_prob'\n",
    "a = df.groupby([groupbycol]).agg({'home_one_goal' : [np.size,np.mean],  \n",
    "                                            }).reset_index()\n",
    "a.columns = a.columns.droplevel()\n",
    "a.columns = [groupbycol] + [ 'size','home_one_goal_mean',  ]\n",
    "\n",
    "b = a[a['size'] > 50]\n",
    "b['home_one_goal_mean'] = round(b['home_one_goal_mean'],2)\n",
    "\n",
    "\n",
    "plt.scatter(x = b[groupbycol], y = b['home_one_goal_mean'])\n",
    "\n",
    "plt.title('HOME TEAM 1 GOALS')\n",
    "plt.xlabel('Poisson Prediction')\n",
    "\n",
    "plt.plot([0,1],[0,1], 'r')\n",
    "plt.show()\n",
    "plt.show()\n",
    "\n",
    "b"
   ]
  },
  {
   "cell_type": "raw",
   "metadata": {},
   "source": [
    "Having a look at the home one goal probabilities one can again detect that poisson systematically underestimates the probability of the home team scoring one goal up till probability of ~ 0.30. A kind of naive explanation would be that, although  the home team has a low chance of scoring  one goal, something 'happens', probably the home team advantage, and the home team in the end manages to score at least one."
   ]
  },
  {
   "cell_type": "markdown",
   "metadata": {},
   "source": [
    "# Distribution of Home 1 goal probabilities"
   ]
  },
  {
   "cell_type": "code",
   "execution_count": 27,
   "metadata": {},
   "outputs": [
    {
     "data": {
      "image/png": "[encoded data removed]",
      "text/plain": [
       "<Figure size 432x288 with 1 Axes>"
      ]
     },
     "metadata": {
      "needs_background": "light"
     },
     "output_type": "display_data"
    }
   ],
   "source": [
    "sns.distplot(df[groupbycol],kde=False,bins=50)\n",
    "plt.title('Distribution of Home 1 goals probabilities')\n",
    "plt.show()"
   ]
  },
  {
   "cell_type": "raw",
   "metadata": {},
   "source": [
    "Left Skewed, with the vast majority being above 30%"
   ]
  },
  {
   "cell_type": "markdown",
   "metadata": {},
   "source": [
    "#   HOME team exactly 2 GOALS"
   ]
  },
  {
   "cell_type": "code",
   "execution_count": 28,
   "metadata": {},
   "outputs": [
    {
     "data": {
      "image/png": "[encoded data removed]",
      "text/plain": [
       "<Figure size 432x288 with 1 Axes>"
      ]
     },
     "metadata": {
      "needs_background": "light"
     },
     "output_type": "display_data"
    },
    {
     "data": {
      "text/html": [
       "<div>\n",
       "<style scoped>\n",
       "    .dataframe tbody tr th:only-of-type {\n",
       "        vertical-align: middle;\n",
       "    }\n",
       "\n",
       "    .dataframe tbody tr th {\n",
       "        vertical-align: top;\n",
       "    }\n",
       "\n",
       "    .dataframe thead th {\n",
       "        text-align: right;\n",
       "    }\n",
       "</style>\n",
       "<table border=\"1\" class=\"dataframe\">\n",
       "  <thead>\n",
       "    <tr style=\"text-align: right;\">\n",
       "      <th></th>\n",
       "      <th>home_2_goals_poisson_probR</th>\n",
       "      <th>size</th>\n",
       "      <th>home_two_goals_mean</th>\n",
       "    </tr>\n",
       "  </thead>\n",
       "  <tbody>\n",
       "    <tr>\n",
       "      <th>0</th>\n",
       "      <td>0.0</td>\n",
       "      <td>3986</td>\n",
       "      <td>0.17</td>\n",
       "    </tr>\n",
       "    <tr>\n",
       "      <th>1</th>\n",
       "      <td>0.1</td>\n",
       "      <td>18083</td>\n",
       "      <td>0.19</td>\n",
       "    </tr>\n",
       "    <tr>\n",
       "      <th>2</th>\n",
       "      <td>0.2</td>\n",
       "      <td>61726</td>\n",
       "      <td>0.23</td>\n",
       "    </tr>\n",
       "    <tr>\n",
       "      <th>3</th>\n",
       "      <td>0.3</td>\n",
       "      <td>35902</td>\n",
       "      <td>0.26</td>\n",
       "    </tr>\n",
       "  </tbody>\n",
       "</table>\n",
       "</div>"
      ],
      "text/plain": [
       "   home_2_goals_poisson_probR   size  home_two_goals_mean\n",
       "0                         0.0   3986                 0.17\n",
       "1                         0.1  18083                 0.19\n",
       "2                         0.2  61726                 0.23\n",
       "3                         0.3  35902                 0.26"
      ]
     },
     "execution_count": 28,
     "metadata": {},
     "output_type": "execute_result"
    }
   ],
   "source": [
    "\n",
    "\n",
    "groupbycol = 'home_2_goals_poisson_probR'\n",
    "a = df.groupby([groupbycol]).agg({'home_two_goals' : [np.size,np.mean],  \n",
    "                                            }).reset_index()\n",
    "a.columns = a.columns.droplevel()\n",
    "a.columns = [groupbycol] + [ 'size','home_two_goals_mean',  ]\n",
    "\n",
    "b = a[a['size'] > 50]\n",
    "b['home_two_goals_mean'] = round(b['home_two_goals_mean'],2)\n",
    "\n",
    "\n",
    "plt.scatter(x = b[groupbycol], y = b['home_two_goals_mean'])\n",
    "\n",
    "plt.title('HOME TEAM 2 GOALS')\n",
    "plt.xlabel('Poisson Prediction')\n",
    "plt.ylabel('Reality - aggregated avg')\n",
    "plt.plot([0,1],[0,1], 'r')\n",
    "plt.show()\n",
    "plt.show()\n",
    "\n",
    "b"
   ]
  },
  {
   "cell_type": "markdown",
   "metadata": {},
   "source": [
    "# Rounded at 2nd decimal"
   ]
  },
  {
   "cell_type": "code",
   "execution_count": 29,
   "metadata": {
    "scrolled": true
   },
   "outputs": [
    {
     "data": {
      "image/png": "[encoded data removed]",
      "text/plain": [
       "<Figure size 432x288 with 1 Axes>"
      ]
     },
     "metadata": {
      "needs_background": "light"
     },
     "output_type": "display_data"
    },
    {
     "data": {
      "text/html": [
       "<div>\n",
       "<style scoped>\n",
       "    .dataframe tbody tr th:only-of-type {\n",
       "        vertical-align: middle;\n",
       "    }\n",
       "\n",
       "    .dataframe tbody tr th {\n",
       "        vertical-align: top;\n",
       "    }\n",
       "\n",
       "    .dataframe thead th {\n",
       "        text-align: right;\n",
       "    }\n",
       "</style>\n",
       "<table border=\"1\" class=\"dataframe\">\n",
       "  <thead>\n",
       "    <tr style=\"text-align: right;\">\n",
       "      <th></th>\n",
       "      <th>home_2_goals_poisson_prob</th>\n",
       "      <th>size</th>\n",
       "      <th>home_two_goals_mean</th>\n",
       "    </tr>\n",
       "  </thead>\n",
       "  <tbody>\n",
       "    <tr>\n",
       "      <th>0</th>\n",
       "      <td>0.00</td>\n",
       "      <td>266</td>\n",
       "      <td>0.19</td>\n",
       "    </tr>\n",
       "    <tr>\n",
       "      <th>1</th>\n",
       "      <td>0.01</td>\n",
       "      <td>437</td>\n",
       "      <td>0.15</td>\n",
       "    </tr>\n",
       "    <tr>\n",
       "      <th>2</th>\n",
       "      <td>0.02</td>\n",
       "      <td>564</td>\n",
       "      <td>0.17</td>\n",
       "    </tr>\n",
       "    <tr>\n",
       "      <th>3</th>\n",
       "      <td>0.03</td>\n",
       "      <td>731</td>\n",
       "      <td>0.16</td>\n",
       "    </tr>\n",
       "    <tr>\n",
       "      <th>4</th>\n",
       "      <td>0.04</td>\n",
       "      <td>917</td>\n",
       "      <td>0.18</td>\n",
       "    </tr>\n",
       "    <tr>\n",
       "      <th>5</th>\n",
       "      <td>0.05</td>\n",
       "      <td>1071</td>\n",
       "      <td>0.18</td>\n",
       "    </tr>\n",
       "    <tr>\n",
       "      <th>6</th>\n",
       "      <td>0.06</td>\n",
       "      <td>1298</td>\n",
       "      <td>0.17</td>\n",
       "    </tr>\n",
       "    <tr>\n",
       "      <th>7</th>\n",
       "      <td>0.07</td>\n",
       "      <td>1360</td>\n",
       "      <td>0.16</td>\n",
       "    </tr>\n",
       "    <tr>\n",
       "      <th>8</th>\n",
       "      <td>0.08</td>\n",
       "      <td>1577</td>\n",
       "      <td>0.18</td>\n",
       "    </tr>\n",
       "    <tr>\n",
       "      <th>9</th>\n",
       "      <td>0.09</td>\n",
       "      <td>1758</td>\n",
       "      <td>0.19</td>\n",
       "    </tr>\n",
       "    <tr>\n",
       "      <th>10</th>\n",
       "      <td>0.10</td>\n",
       "      <td>1898</td>\n",
       "      <td>0.20</td>\n",
       "    </tr>\n",
       "    <tr>\n",
       "      <th>11</th>\n",
       "      <td>0.11</td>\n",
       "      <td>2264</td>\n",
       "      <td>0.19</td>\n",
       "    </tr>\n",
       "    <tr>\n",
       "      <th>12</th>\n",
       "      <td>0.12</td>\n",
       "      <td>2370</td>\n",
       "      <td>0.20</td>\n",
       "    </tr>\n",
       "    <tr>\n",
       "      <th>13</th>\n",
       "      <td>0.13</td>\n",
       "      <td>2707</td>\n",
       "      <td>0.21</td>\n",
       "    </tr>\n",
       "    <tr>\n",
       "      <th>14</th>\n",
       "      <td>0.14</td>\n",
       "      <td>2851</td>\n",
       "      <td>0.21</td>\n",
       "    </tr>\n",
       "    <tr>\n",
       "      <th>15</th>\n",
       "      <td>0.15</td>\n",
       "      <td>3245</td>\n",
       "      <td>0.23</td>\n",
       "    </tr>\n",
       "    <tr>\n",
       "      <th>16</th>\n",
       "      <td>0.16</td>\n",
       "      <td>3559</td>\n",
       "      <td>0.21</td>\n",
       "    </tr>\n",
       "    <tr>\n",
       "      <th>17</th>\n",
       "      <td>0.17</td>\n",
       "      <td>3904</td>\n",
       "      <td>0.21</td>\n",
       "    </tr>\n",
       "    <tr>\n",
       "      <th>18</th>\n",
       "      <td>0.18</td>\n",
       "      <td>4203</td>\n",
       "      <td>0.23</td>\n",
       "    </tr>\n",
       "    <tr>\n",
       "      <th>19</th>\n",
       "      <td>0.19</td>\n",
       "      <td>4697</td>\n",
       "      <td>0.22</td>\n",
       "    </tr>\n",
       "    <tr>\n",
       "      <th>20</th>\n",
       "      <td>0.20</td>\n",
       "      <td>5016</td>\n",
       "      <td>0.23</td>\n",
       "    </tr>\n",
       "    <tr>\n",
       "      <th>21</th>\n",
       "      <td>0.21</td>\n",
       "      <td>5438</td>\n",
       "      <td>0.23</td>\n",
       "    </tr>\n",
       "    <tr>\n",
       "      <th>22</th>\n",
       "      <td>0.22</td>\n",
       "      <td>6340</td>\n",
       "      <td>0.24</td>\n",
       "    </tr>\n",
       "    <tr>\n",
       "      <th>23</th>\n",
       "      <td>0.23</td>\n",
       "      <td>7149</td>\n",
       "      <td>0.23</td>\n",
       "    </tr>\n",
       "    <tr>\n",
       "      <th>24</th>\n",
       "      <td>0.24</td>\n",
       "      <td>8162</td>\n",
       "      <td>0.25</td>\n",
       "    </tr>\n",
       "    <tr>\n",
       "      <th>25</th>\n",
       "      <td>0.25</td>\n",
       "      <td>10013</td>\n",
       "      <td>0.24</td>\n",
       "    </tr>\n",
       "    <tr>\n",
       "      <th>26</th>\n",
       "      <td>0.26</td>\n",
       "      <td>14162</td>\n",
       "      <td>0.25</td>\n",
       "    </tr>\n",
       "    <tr>\n",
       "      <th>27</th>\n",
       "      <td>0.27</td>\n",
       "      <td>21740</td>\n",
       "      <td>0.26</td>\n",
       "    </tr>\n",
       "  </tbody>\n",
       "</table>\n",
       "</div>"
      ],
      "text/plain": [
       "    home_2_goals_poisson_prob   size  home_two_goals_mean\n",
       "0                        0.00    266                 0.19\n",
       "1                        0.01    437                 0.15\n",
       "2                        0.02    564                 0.17\n",
       "3                        0.03    731                 0.16\n",
       "4                        0.04    917                 0.18\n",
       "5                        0.05   1071                 0.18\n",
       "6                        0.06   1298                 0.17\n",
       "7                        0.07   1360                 0.16\n",
       "8                        0.08   1577                 0.18\n",
       "9                        0.09   1758                 0.19\n",
       "10                       0.10   1898                 0.20\n",
       "11                       0.11   2264                 0.19\n",
       "12                       0.12   2370                 0.20\n",
       "13                       0.13   2707                 0.21\n",
       "14                       0.14   2851                 0.21\n",
       "15                       0.15   3245                 0.23\n",
       "16                       0.16   3559                 0.21\n",
       "17                       0.17   3904                 0.21\n",
       "18                       0.18   4203                 0.23\n",
       "19                       0.19   4697                 0.22\n",
       "20                       0.20   5016                 0.23\n",
       "21                       0.21   5438                 0.23\n",
       "22                       0.22   6340                 0.24\n",
       "23                       0.23   7149                 0.23\n",
       "24                       0.24   8162                 0.25\n",
       "25                       0.25  10013                 0.24\n",
       "26                       0.26  14162                 0.25\n",
       "27                       0.27  21740                 0.26"
      ]
     },
     "execution_count": 29,
     "metadata": {},
     "output_type": "execute_result"
    }
   ],
   "source": [
    "\n",
    "\n",
    "groupbycol = 'home_2_goals_poisson_prob'\n",
    "a = df.groupby([groupbycol]).agg({'home_two_goals' : [np.size,np.mean],  \n",
    "                                            }).reset_index()\n",
    "a.columns = a.columns.droplevel()\n",
    "a.columns = [groupbycol] + [ 'size','home_two_goals_mean',  ]\n",
    "\n",
    "b = a[a['size'] > 50]\n",
    "b['home_two_goals_mean'] = round(b['home_two_goals_mean'],2)\n",
    "\n",
    "\n",
    "plt.scatter(x = b[groupbycol], y = b['home_two_goals_mean'])\n",
    "\n",
    "plt.title('HOME TEAM 2 GOALS')\n",
    "plt.xlabel('Poisson Prediction')\n",
    "plt.ylabel('Reality - aggregated avg')\n",
    "plt.plot([0,1],[0,1], 'r')\n",
    "plt.show()\n",
    "plt.show()\n",
    "\n",
    "b"
   ]
  },
  {
   "cell_type": "markdown",
   "metadata": {},
   "source": [
    "# Distribution of Home 2 goal probabilities"
   ]
  },
  {
   "cell_type": "code",
   "execution_count": 30,
   "metadata": {},
   "outputs": [
    {
     "data": {
      "image/png": "[encoded data removed]",
      "text/plain": [
       "<Figure size 432x288 with 1 Axes>"
      ]
     },
     "metadata": {
      "needs_background": "light"
     },
     "output_type": "display_data"
    }
   ],
   "source": [
    "sns.distplot(df[groupbycol],kde=False,bins=50)\n",
    "plt.title('Distribution of Home 2 goals probabilities')\n",
    "plt.show()"
   ]
  },
  {
   "cell_type": "markdown",
   "metadata": {},
   "source": [
    "# HOME team exactly 3 GOALS"
   ]
  },
  {
   "cell_type": "code",
   "execution_count": 31,
   "metadata": {},
   "outputs": [
    {
     "data": {
      "image/png": "[encoded data removed]",
      "text/plain": [
       "<Figure size 432x288 with 1 Axes>"
      ]
     },
     "metadata": {
      "needs_background": "light"
     },
     "output_type": "display_data"
    },
    {
     "data": {
      "text/html": [
       "<div>\n",
       "<style scoped>\n",
       "    .dataframe tbody tr th:only-of-type {\n",
       "        vertical-align: middle;\n",
       "    }\n",
       "\n",
       "    .dataframe tbody tr th {\n",
       "        vertical-align: top;\n",
       "    }\n",
       "\n",
       "    .dataframe thead th {\n",
       "        text-align: right;\n",
       "    }\n",
       "</style>\n",
       "<table border=\"1\" class=\"dataframe\">\n",
       "  <thead>\n",
       "    <tr style=\"text-align: right;\">\n",
       "      <th></th>\n",
       "      <th>home_3_goals_poisson_probR</th>\n",
       "      <th>size</th>\n",
       "      <th>home_three_goals_mean</th>\n",
       "    </tr>\n",
       "  </thead>\n",
       "  <tbody>\n",
       "    <tr>\n",
       "      <th>0</th>\n",
       "      <td>0.0</td>\n",
       "      <td>30201</td>\n",
       "      <td>0.08</td>\n",
       "    </tr>\n",
       "    <tr>\n",
       "      <th>1</th>\n",
       "      <td>0.1</td>\n",
       "      <td>48406</td>\n",
       "      <td>0.11</td>\n",
       "    </tr>\n",
       "    <tr>\n",
       "      <th>2</th>\n",
       "      <td>0.2</td>\n",
       "      <td>41090</td>\n",
       "      <td>0.16</td>\n",
       "    </tr>\n",
       "  </tbody>\n",
       "</table>\n",
       "</div>"
      ],
      "text/plain": [
       "   home_3_goals_poisson_probR   size  home_three_goals_mean\n",
       "0                         0.0  30201                   0.08\n",
       "1                         0.1  48406                   0.11\n",
       "2                         0.2  41090                   0.16"
      ]
     },
     "execution_count": 31,
     "metadata": {},
     "output_type": "execute_result"
    }
   ],
   "source": [
    "\n",
    "groupbycol = 'home_3_goals_poisson_probR'\n",
    "a = df.groupby([groupbycol]).agg({'home_three_goals' : [np.size,np.mean],  \n",
    "                                            }).reset_index()\n",
    "a.columns = a.columns.droplevel()\n",
    "a.columns = [groupbycol] + [ 'size','home_three_goals_mean',  ]\n",
    "\n",
    "b = a[a['size'] > 50]\n",
    "b['home_three_goals_mean'] = round(b['home_three_goals_mean'],2)\n",
    "\n",
    "\n",
    "plt.scatter(x = b[groupbycol], y = b['home_three_goals_mean'])\n",
    "\n",
    "plt.title('HOME TEAM 3 GOALS')\n",
    "plt.xlabel('Poisson Prediction')\n",
    "\n",
    "plt.plot([0,1],[0,1], 'r')\n",
    "plt.show()\n",
    "plt.show()\n",
    "\n",
    "b"
   ]
  },
  {
   "cell_type": "code",
   "execution_count": 32,
   "metadata": {
    "scrolled": true
   },
   "outputs": [
    {
     "data": {
      "image/png": "[encoded data removed]",
      "text/plain": [
       "<Figure size 432x288 with 1 Axes>"
      ]
     },
     "metadata": {
      "needs_background": "light"
     },
     "output_type": "display_data"
    },
    {
     "data": {
      "text/html": [
       "<div>\n",
       "<style scoped>\n",
       "    .dataframe tbody tr th:only-of-type {\n",
       "        vertical-align: middle;\n",
       "    }\n",
       "\n",
       "    .dataframe tbody tr th {\n",
       "        vertical-align: top;\n",
       "    }\n",
       "\n",
       "    .dataframe thead th {\n",
       "        text-align: right;\n",
       "    }\n",
       "</style>\n",
       "<table border=\"1\" class=\"dataframe\">\n",
       "  <thead>\n",
       "    <tr style=\"text-align: right;\">\n",
       "      <th></th>\n",
       "      <th>home_3_goals_poisson_prob</th>\n",
       "      <th>size</th>\n",
       "      <th>home_three_goals_mean</th>\n",
       "    </tr>\n",
       "  </thead>\n",
       "  <tbody>\n",
       "    <tr>\n",
       "      <th>0</th>\n",
       "      <td>0.00</td>\n",
       "      <td>2614</td>\n",
       "      <td>0.05</td>\n",
       "    </tr>\n",
       "    <tr>\n",
       "      <th>1</th>\n",
       "      <td>0.01</td>\n",
       "      <td>5120</td>\n",
       "      <td>0.07</td>\n",
       "    </tr>\n",
       "    <tr>\n",
       "      <th>2</th>\n",
       "      <td>0.02</td>\n",
       "      <td>5303</td>\n",
       "      <td>0.07</td>\n",
       "    </tr>\n",
       "    <tr>\n",
       "      <th>3</th>\n",
       "      <td>0.03</td>\n",
       "      <td>5575</td>\n",
       "      <td>0.09</td>\n",
       "    </tr>\n",
       "    <tr>\n",
       "      <th>4</th>\n",
       "      <td>0.04</td>\n",
       "      <td>5676</td>\n",
       "      <td>0.08</td>\n",
       "    </tr>\n",
       "    <tr>\n",
       "      <th>5</th>\n",
       "      <td>0.05</td>\n",
       "      <td>5913</td>\n",
       "      <td>0.09</td>\n",
       "    </tr>\n",
       "    <tr>\n",
       "      <th>6</th>\n",
       "      <td>0.06</td>\n",
       "      <td>5835</td>\n",
       "      <td>0.10</td>\n",
       "    </tr>\n",
       "    <tr>\n",
       "      <th>7</th>\n",
       "      <td>0.07</td>\n",
       "      <td>5713</td>\n",
       "      <td>0.10</td>\n",
       "    </tr>\n",
       "    <tr>\n",
       "      <th>8</th>\n",
       "      <td>0.08</td>\n",
       "      <td>5532</td>\n",
       "      <td>0.10</td>\n",
       "    </tr>\n",
       "    <tr>\n",
       "      <th>9</th>\n",
       "      <td>0.09</td>\n",
       "      <td>5752</td>\n",
       "      <td>0.11</td>\n",
       "    </tr>\n",
       "    <tr>\n",
       "      <th>10</th>\n",
       "      <td>0.10</td>\n",
       "      <td>5478</td>\n",
       "      <td>0.12</td>\n",
       "    </tr>\n",
       "    <tr>\n",
       "      <th>11</th>\n",
       "      <td>0.11</td>\n",
       "      <td>5234</td>\n",
       "      <td>0.11</td>\n",
       "    </tr>\n",
       "    <tr>\n",
       "      <th>12</th>\n",
       "      <td>0.12</td>\n",
       "      <td>5070</td>\n",
       "      <td>0.12</td>\n",
       "    </tr>\n",
       "    <tr>\n",
       "      <th>13</th>\n",
       "      <td>0.13</td>\n",
       "      <td>4962</td>\n",
       "      <td>0.13</td>\n",
       "    </tr>\n",
       "    <tr>\n",
       "      <th>14</th>\n",
       "      <td>0.14</td>\n",
       "      <td>4830</td>\n",
       "      <td>0.12</td>\n",
       "    </tr>\n",
       "    <tr>\n",
       "      <th>15</th>\n",
       "      <td>0.15</td>\n",
       "      <td>4626</td>\n",
       "      <td>0.13</td>\n",
       "    </tr>\n",
       "    <tr>\n",
       "      <th>16</th>\n",
       "      <td>0.16</td>\n",
       "      <td>4572</td>\n",
       "      <td>0.15</td>\n",
       "    </tr>\n",
       "    <tr>\n",
       "      <th>17</th>\n",
       "      <td>0.17</td>\n",
       "      <td>4505</td>\n",
       "      <td>0.14</td>\n",
       "    </tr>\n",
       "    <tr>\n",
       "      <th>18</th>\n",
       "      <td>0.18</td>\n",
       "      <td>4440</td>\n",
       "      <td>0.15</td>\n",
       "    </tr>\n",
       "    <tr>\n",
       "      <th>19</th>\n",
       "      <td>0.19</td>\n",
       "      <td>4252</td>\n",
       "      <td>0.15</td>\n",
       "    </tr>\n",
       "    <tr>\n",
       "      <th>20</th>\n",
       "      <td>0.20</td>\n",
       "      <td>4530</td>\n",
       "      <td>0.16</td>\n",
       "    </tr>\n",
       "    <tr>\n",
       "      <th>21</th>\n",
       "      <td>0.21</td>\n",
       "      <td>5006</td>\n",
       "      <td>0.18</td>\n",
       "    </tr>\n",
       "    <tr>\n",
       "      <th>22</th>\n",
       "      <td>0.22</td>\n",
       "      <td>9159</td>\n",
       "      <td>0.19</td>\n",
       "    </tr>\n",
       "  </tbody>\n",
       "</table>\n",
       "</div>"
      ],
      "text/plain": [
       "    home_3_goals_poisson_prob  size  home_three_goals_mean\n",
       "0                        0.00  2614                   0.05\n",
       "1                        0.01  5120                   0.07\n",
       "2                        0.02  5303                   0.07\n",
       "3                        0.03  5575                   0.09\n",
       "4                        0.04  5676                   0.08\n",
       "5                        0.05  5913                   0.09\n",
       "6                        0.06  5835                   0.10\n",
       "7                        0.07  5713                   0.10\n",
       "8                        0.08  5532                   0.10\n",
       "9                        0.09  5752                   0.11\n",
       "10                       0.10  5478                   0.12\n",
       "11                       0.11  5234                   0.11\n",
       "12                       0.12  5070                   0.12\n",
       "13                       0.13  4962                   0.13\n",
       "14                       0.14  4830                   0.12\n",
       "15                       0.15  4626                   0.13\n",
       "16                       0.16  4572                   0.15\n",
       "17                       0.17  4505                   0.14\n",
       "18                       0.18  4440                   0.15\n",
       "19                       0.19  4252                   0.15\n",
       "20                       0.20  4530                   0.16\n",
       "21                       0.21  5006                   0.18\n",
       "22                       0.22  9159                   0.19"
      ]
     },
     "execution_count": 32,
     "metadata": {},
     "output_type": "execute_result"
    }
   ],
   "source": [
    "groupbycol = 'home_3_goals_poisson_prob'\n",
    "a = df.groupby([groupbycol]).agg({'home_three_goals' : [np.size,np.mean],  \n",
    "                                            }).reset_index()\n",
    "a.columns = a.columns.droplevel()\n",
    "a.columns = [groupbycol] + [ 'size','home_three_goals_mean',  ]\n",
    "\n",
    "b = a[a['size'] > 50]\n",
    "b['home_three_goals_mean'] = round(b['home_three_goals_mean'],2)\n",
    "\n",
    "\n",
    "plt.scatter(x = b[groupbycol], y = b['home_three_goals_mean'])\n",
    "\n",
    "plt.title('HOME TEAM 3 GOALS')\n",
    "plt.xlabel(groupbycol)\n",
    "plt.ylabel('Reality')\n",
    "plt.xlim(0,0.4)\n",
    "plt.plot([0,1],[0,1], 'r')\n",
    "plt.show()\n",
    "plt.show()\n",
    "\n",
    "b"
   ]
  },
  {
   "cell_type": "markdown",
   "metadata": {},
   "source": [
    "# Distribution of Home 3 goals probabilities"
   ]
  },
  {
   "cell_type": "code",
   "execution_count": 33,
   "metadata": {},
   "outputs": [
    {
     "data": {
      "image/png": "[encoded data removed]",
      "text/plain": [
       "<Figure size 432x288 with 1 Axes>"
      ]
     },
     "metadata": {
      "needs_background": "light"
     },
     "output_type": "display_data"
    }
   ],
   "source": [
    "sns.distplot(df[groupbycol],kde=False)\n",
    "plt.title('Distribution of Home 3 goals probabilities')\n",
    "plt.show()"
   ]
  },
  {
   "cell_type": "markdown",
   "metadata": {},
   "source": [
    "# HOME team exactly 4 GOALS"
   ]
  },
  {
   "cell_type": "code",
   "execution_count": 34,
   "metadata": {},
   "outputs": [
    {
     "data": {
      "image/png": "[encoded data removed]",
      "text/plain": [
       "<Figure size 432x288 with 1 Axes>"
      ]
     },
     "metadata": {
      "needs_background": "light"
     },
     "output_type": "display_data"
    },
    {
     "data": {
      "text/html": [
       "<div>\n",
       "<style scoped>\n",
       "    .dataframe tbody tr th:only-of-type {\n",
       "        vertical-align: middle;\n",
       "    }\n",
       "\n",
       "    .dataframe tbody tr th {\n",
       "        vertical-align: top;\n",
       "    }\n",
       "\n",
       "    .dataframe thead th {\n",
       "        text-align: right;\n",
       "    }\n",
       "</style>\n",
       "<table border=\"1\" class=\"dataframe\">\n",
       "  <thead>\n",
       "    <tr style=\"text-align: right;\">\n",
       "      <th></th>\n",
       "      <th>home_4_goals_poisson_probR</th>\n",
       "      <th>size</th>\n",
       "      <th>home_four_goals_mean</th>\n",
       "    </tr>\n",
       "  </thead>\n",
       "  <tbody>\n",
       "    <tr>\n",
       "      <th>0</th>\n",
       "      <td>0.0</td>\n",
       "      <td>74733</td>\n",
       "      <td>0.03</td>\n",
       "    </tr>\n",
       "    <tr>\n",
       "      <th>1</th>\n",
       "      <td>0.1</td>\n",
       "      <td>35259</td>\n",
       "      <td>0.07</td>\n",
       "    </tr>\n",
       "    <tr>\n",
       "      <th>2</th>\n",
       "      <td>0.2</td>\n",
       "      <td>9705</td>\n",
       "      <td>0.12</td>\n",
       "    </tr>\n",
       "  </tbody>\n",
       "</table>\n",
       "</div>"
      ],
      "text/plain": [
       "   home_4_goals_poisson_probR   size  home_four_goals_mean\n",
       "0                         0.0  74733                  0.03\n",
       "1                         0.1  35259                  0.07\n",
       "2                         0.2   9705                  0.12"
      ]
     },
     "execution_count": 34,
     "metadata": {},
     "output_type": "execute_result"
    }
   ],
   "source": [
    "groupbycol = 'home_4_goals_poisson_probR'\n",
    "a = df.groupby([groupbycol]).agg({'home_four_goals' : [np.size,np.mean],  \n",
    "                                            }).reset_index()\n",
    "a.columns = a.columns.droplevel()\n",
    "a.columns = [groupbycol] + [ 'size','home_four_goals_mean',  ]\n",
    "\n",
    "b = a[a['size'] > 50]\n",
    "b['home_four_goals_mean'] = round(b['home_four_goals_mean'],2)\n",
    "\n",
    "\n",
    "plt.scatter(x = b[groupbycol], y = b['home_four_goals_mean'])\n",
    "\n",
    "plt.title('HOME TEAM 4 GOALS')\n",
    "plt.xlabel(groupbycol)\n",
    "plt.ylabel('Reality')\n",
    "\n",
    "plt.plot([0,1],[0,1], 'r')\n",
    "plt.show()\n",
    "plt.show()\n",
    "\n",
    "b"
   ]
  },
  {
   "cell_type": "markdown",
   "metadata": {},
   "source": [
    "# Rounded at 2nd decimal"
   ]
  },
  {
   "cell_type": "code",
   "execution_count": 35,
   "metadata": {},
   "outputs": [
    {
     "data": {
      "image/png": "[encoded data removed]",
      "text/plain": [
       "<Figure size 432x288 with 1 Axes>"
      ]
     },
     "metadata": {
      "needs_background": "light"
     },
     "output_type": "display_data"
    },
    {
     "data": {
      "text/html": [
       "<div>\n",
       "<style scoped>\n",
       "    .dataframe tbody tr th:only-of-type {\n",
       "        vertical-align: middle;\n",
       "    }\n",
       "\n",
       "    .dataframe tbody tr th {\n",
       "        vertical-align: top;\n",
       "    }\n",
       "\n",
       "    .dataframe thead th {\n",
       "        text-align: right;\n",
       "    }\n",
       "</style>\n",
       "<table border=\"1\" class=\"dataframe\">\n",
       "  <thead>\n",
       "    <tr style=\"text-align: right;\">\n",
       "      <th></th>\n",
       "      <th>home_4_goals_poisson_prob</th>\n",
       "      <th>size</th>\n",
       "      <th>home_four_goals_mean</th>\n",
       "    </tr>\n",
       "  </thead>\n",
       "  <tbody>\n",
       "    <tr>\n",
       "      <th>0</th>\n",
       "      <td>0.00</td>\n",
       "      <td>14931</td>\n",
       "      <td>0.02</td>\n",
       "    </tr>\n",
       "    <tr>\n",
       "      <th>1</th>\n",
       "      <td>0.01</td>\n",
       "      <td>18371</td>\n",
       "      <td>0.03</td>\n",
       "    </tr>\n",
       "    <tr>\n",
       "      <th>2</th>\n",
       "      <td>0.02</td>\n",
       "      <td>13638</td>\n",
       "      <td>0.03</td>\n",
       "    </tr>\n",
       "    <tr>\n",
       "      <th>3</th>\n",
       "      <td>0.03</td>\n",
       "      <td>11248</td>\n",
       "      <td>0.04</td>\n",
       "    </tr>\n",
       "    <tr>\n",
       "      <th>4</th>\n",
       "      <td>0.04</td>\n",
       "      <td>8968</td>\n",
       "      <td>0.04</td>\n",
       "    </tr>\n",
       "    <tr>\n",
       "      <th>5</th>\n",
       "      <td>0.05</td>\n",
       "      <td>7577</td>\n",
       "      <td>0.04</td>\n",
       "    </tr>\n",
       "    <tr>\n",
       "      <th>6</th>\n",
       "      <td>0.06</td>\n",
       "      <td>6462</td>\n",
       "      <td>0.06</td>\n",
       "    </tr>\n",
       "    <tr>\n",
       "      <th>7</th>\n",
       "      <td>0.07</td>\n",
       "      <td>5584</td>\n",
       "      <td>0.07</td>\n",
       "    </tr>\n",
       "    <tr>\n",
       "      <th>8</th>\n",
       "      <td>0.08</td>\n",
       "      <td>4823</td>\n",
       "      <td>0.07</td>\n",
       "    </tr>\n",
       "    <tr>\n",
       "      <th>9</th>\n",
       "      <td>0.09</td>\n",
       "      <td>4209</td>\n",
       "      <td>0.07</td>\n",
       "    </tr>\n",
       "    <tr>\n",
       "      <th>10</th>\n",
       "      <td>0.10</td>\n",
       "      <td>3580</td>\n",
       "      <td>0.07</td>\n",
       "    </tr>\n",
       "    <tr>\n",
       "      <th>11</th>\n",
       "      <td>0.11</td>\n",
       "      <td>3160</td>\n",
       "      <td>0.08</td>\n",
       "    </tr>\n",
       "    <tr>\n",
       "      <th>12</th>\n",
       "      <td>0.12</td>\n",
       "      <td>2775</td>\n",
       "      <td>0.08</td>\n",
       "    </tr>\n",
       "    <tr>\n",
       "      <th>13</th>\n",
       "      <td>0.13</td>\n",
       "      <td>2453</td>\n",
       "      <td>0.10</td>\n",
       "    </tr>\n",
       "    <tr>\n",
       "      <th>14</th>\n",
       "      <td>0.14</td>\n",
       "      <td>2213</td>\n",
       "      <td>0.10</td>\n",
       "    </tr>\n",
       "    <tr>\n",
       "      <th>15</th>\n",
       "      <td>0.15</td>\n",
       "      <td>1868</td>\n",
       "      <td>0.10</td>\n",
       "    </tr>\n",
       "    <tr>\n",
       "      <th>16</th>\n",
       "      <td>0.16</td>\n",
       "      <td>1807</td>\n",
       "      <td>0.11</td>\n",
       "    </tr>\n",
       "    <tr>\n",
       "      <th>17</th>\n",
       "      <td>0.17</td>\n",
       "      <td>1563</td>\n",
       "      <td>0.11</td>\n",
       "    </tr>\n",
       "    <tr>\n",
       "      <th>18</th>\n",
       "      <td>0.18</td>\n",
       "      <td>1649</td>\n",
       "      <td>0.11</td>\n",
       "    </tr>\n",
       "    <tr>\n",
       "      <th>19</th>\n",
       "      <td>0.19</td>\n",
       "      <td>2336</td>\n",
       "      <td>0.13</td>\n",
       "    </tr>\n",
       "    <tr>\n",
       "      <th>20</th>\n",
       "      <td>0.20</td>\n",
       "      <td>482</td>\n",
       "      <td>0.15</td>\n",
       "    </tr>\n",
       "  </tbody>\n",
       "</table>\n",
       "</div>"
      ],
      "text/plain": [
       "    home_4_goals_poisson_prob   size  home_four_goals_mean\n",
       "0                        0.00  14931                  0.02\n",
       "1                        0.01  18371                  0.03\n",
       "2                        0.02  13638                  0.03\n",
       "3                        0.03  11248                  0.04\n",
       "4                        0.04   8968                  0.04\n",
       "5                        0.05   7577                  0.04\n",
       "6                        0.06   6462                  0.06\n",
       "7                        0.07   5584                  0.07\n",
       "8                        0.08   4823                  0.07\n",
       "9                        0.09   4209                  0.07\n",
       "10                       0.10   3580                  0.07\n",
       "11                       0.11   3160                  0.08\n",
       "12                       0.12   2775                  0.08\n",
       "13                       0.13   2453                  0.10\n",
       "14                       0.14   2213                  0.10\n",
       "15                       0.15   1868                  0.10\n",
       "16                       0.16   1807                  0.11\n",
       "17                       0.17   1563                  0.11\n",
       "18                       0.18   1649                  0.11\n",
       "19                       0.19   2336                  0.13\n",
       "20                       0.20    482                  0.15"
      ]
     },
     "execution_count": 35,
     "metadata": {},
     "output_type": "execute_result"
    }
   ],
   "source": [
    "groupbycol = 'home_4_goals_poisson_prob'\n",
    "a = df.groupby([groupbycol]).agg({'home_four_goals' : [np.size,np.mean],  \n",
    "                                            }).reset_index()\n",
    "a.columns = a.columns.droplevel()\n",
    "a.columns = [groupbycol] + [ 'size','home_four_goals_mean',  ]\n",
    "\n",
    "b = a[a['size'] > 50]\n",
    "b['home_four_goals_mean'] = round(b['home_four_goals_mean'],2)\n",
    "\n",
    "\n",
    "plt.scatter(x = b[groupbycol], y = b['home_four_goals_mean'])\n",
    "\n",
    "plt.title('HOME TEAM 4 GOALS')\n",
    "plt.xlabel(groupbycol)\n",
    "plt.ylabel('Reality')\n",
    "\n",
    "plt.plot([0,1],[0,1], 'r')\n",
    "plt.show()\n",
    "plt.show()\n",
    "\n",
    "b"
   ]
  },
  {
   "cell_type": "markdown",
   "metadata": {},
   "source": [
    "# Distribution of Home 4 goals probabilities"
   ]
  },
  {
   "cell_type": "code",
   "execution_count": 36,
   "metadata": {},
   "outputs": [
    {
     "data": {
      "image/png": "[encoded data removed]",
      "text/plain": [
       "<Figure size 432x288 with 1 Axes>"
      ]
     },
     "metadata": {
      "needs_background": "light"
     },
     "output_type": "display_data"
    }
   ],
   "source": [
    "sns.distplot(df[groupbycol],kde=False,bins=50)\n",
    "plt.title('Distribution of Home 4 goals probabilities')\n",
    "plt.show()"
   ]
  },
  {
   "cell_type": "markdown",
   "metadata": {},
   "source": [
    "# AWAY TEAM EXACTLY 0 GOALS"
   ]
  },
  {
   "cell_type": "code",
   "execution_count": 37,
   "metadata": {},
   "outputs": [
    {
     "data": {
      "image/png": "[encoded data removed]",
      "text/plain": [
       "<Figure size 432x288 with 1 Axes>"
      ]
     },
     "metadata": {
      "needs_background": "light"
     },
     "output_type": "display_data"
    },
    {
     "data": {
      "text/html": [
       "<div>\n",
       "<style scoped>\n",
       "    .dataframe tbody tr th:only-of-type {\n",
       "        vertical-align: middle;\n",
       "    }\n",
       "\n",
       "    .dataframe tbody tr th {\n",
       "        vertical-align: top;\n",
       "    }\n",
       "\n",
       "    .dataframe thead th {\n",
       "        text-align: right;\n",
       "    }\n",
       "</style>\n",
       "<table border=\"1\" class=\"dataframe\">\n",
       "  <thead>\n",
       "    <tr style=\"text-align: right;\">\n",
       "      <th></th>\n",
       "      <th>away_0_goals_poisson_probR</th>\n",
       "      <th>size</th>\n",
       "      <th>away_zero_goals_mean</th>\n",
       "    </tr>\n",
       "  </thead>\n",
       "  <tbody>\n",
       "    <tr>\n",
       "      <th>0</th>\n",
       "      <td>0.0</td>\n",
       "      <td>3053</td>\n",
       "      <td>0.12</td>\n",
       "    </tr>\n",
       "    <tr>\n",
       "      <th>1</th>\n",
       "      <td>0.1</td>\n",
       "      <td>12201</td>\n",
       "      <td>0.20</td>\n",
       "    </tr>\n",
       "    <tr>\n",
       "      <th>2</th>\n",
       "      <td>0.2</td>\n",
       "      <td>22854</td>\n",
       "      <td>0.26</td>\n",
       "    </tr>\n",
       "    <tr>\n",
       "      <th>3</th>\n",
       "      <td>0.3</td>\n",
       "      <td>21013</td>\n",
       "      <td>0.31</td>\n",
       "    </tr>\n",
       "    <tr>\n",
       "      <th>4</th>\n",
       "      <td>0.4</td>\n",
       "      <td>23206</td>\n",
       "      <td>0.35</td>\n",
       "    </tr>\n",
       "    <tr>\n",
       "      <th>5</th>\n",
       "      <td>0.5</td>\n",
       "      <td>14793</td>\n",
       "      <td>0.38</td>\n",
       "    </tr>\n",
       "    <tr>\n",
       "      <th>6</th>\n",
       "      <td>0.6</td>\n",
       "      <td>12027</td>\n",
       "      <td>0.41</td>\n",
       "    </tr>\n",
       "    <tr>\n",
       "      <th>7</th>\n",
       "      <td>0.7</td>\n",
       "      <td>5689</td>\n",
       "      <td>0.45</td>\n",
       "    </tr>\n",
       "    <tr>\n",
       "      <th>8</th>\n",
       "      <td>0.8</td>\n",
       "      <td>3438</td>\n",
       "      <td>0.47</td>\n",
       "    </tr>\n",
       "    <tr>\n",
       "      <th>9</th>\n",
       "      <td>0.9</td>\n",
       "      <td>957</td>\n",
       "      <td>0.50</td>\n",
       "    </tr>\n",
       "    <tr>\n",
       "      <th>10</th>\n",
       "      <td>1.0</td>\n",
       "      <td>466</td>\n",
       "      <td>0.45</td>\n",
       "    </tr>\n",
       "  </tbody>\n",
       "</table>\n",
       "</div>"
      ],
      "text/plain": [
       "    away_0_goals_poisson_probR   size  away_zero_goals_mean\n",
       "0                          0.0   3053                  0.12\n",
       "1                          0.1  12201                  0.20\n",
       "2                          0.2  22854                  0.26\n",
       "3                          0.3  21013                  0.31\n",
       "4                          0.4  23206                  0.35\n",
       "5                          0.5  14793                  0.38\n",
       "6                          0.6  12027                  0.41\n",
       "7                          0.7   5689                  0.45\n",
       "8                          0.8   3438                  0.47\n",
       "9                          0.9    957                  0.50\n",
       "10                         1.0    466                  0.45"
      ]
     },
     "execution_count": 37,
     "metadata": {},
     "output_type": "execute_result"
    }
   ],
   "source": [
    "\n",
    "groupbycol = 'away_0_goals_poisson_probR'\n",
    "a = df.groupby([groupbycol]).agg({'away_zero_goals' : [np.size,np.mean],  \n",
    "                                            }).reset_index()\n",
    "a.columns = a.columns.droplevel()\n",
    "a.columns = [groupbycol] + [ 'size','away_zero_goals_mean',  ]\n",
    "\n",
    "b = a[a['size'] > 50]\n",
    "b['away_zero_goals_mean'] = round(b['away_zero_goals_mean'],2)\n",
    "\n",
    "\n",
    "plt.scatter(x = b[groupbycol], y = b['away_zero_goals_mean'])\n",
    "\n",
    "plt.title('AWAY TEAM 0 GOALS')\n",
    "plt.xlabel(groupbycol)\n",
    "plt.ylabel('Reality')\n",
    "\n",
    "plt.plot([0,1],[0,1], 'r')\n",
    "plt.show()\n",
    "plt.show()\n",
    "\n",
    "b"
   ]
  },
  {
   "cell_type": "raw",
   "metadata": {},
   "source": [
    "Following the same pattern of analysis  as with the home team\n",
    "\n",
    "Looking at the matrix, on the second line for instance, there were 13586 matches, where the poisson distribution predicted a 0.1 probability for the away team to score exactly 0 goals. What  actually happened is that 21 % of those games, ended with the home team scoring 0 goals. So Poisson underestimated the probability of the away team scoring exactly 0 goals.\n",
    "\n",
    "Continuing on line 3, there were 22543 games, for which the poisson distribution predicted a 0.3 probability for the away team scoring 0 goals.Actually, 31% of those teams scored exactly 0 goals, meaning that the poisson distribution was pretty much accurate.\n",
    "\n",
    "There are also cases with overestimation, for instance there were 16027 instances, at poisson probability of 0.5, but only 37% of those instances, actually finished with no away goals scored.\n",
    "\n",
    "Examining the graph one can see that, after the benchmark of x = 0.3, the greater the probability of a team scoring exactly zero goals the more it overestimates the probability, meaning extreme discrepancy from  reality. This is again something that should be taken strongly into consideration.\n"
   ]
  },
  {
   "cell_type": "markdown",
   "metadata": {},
   "source": [
    "# Rounded at 2nd decimal"
   ]
  },
  {
   "cell_type": "code",
   "execution_count": 38,
   "metadata": {},
   "outputs": [
    {
     "name": "stderr",
     "output_type": "stream",
     "text": [
      "<ipython-input-38-53dc4d2aa24b>:8: SettingWithCopyWarning: \n",
      "A value is trying to be set on a copy of a slice from a DataFrame.\n",
      "Try using .loc[row_indexer,col_indexer] = value instead\n",
      "\n",
      "See the caveats in the documentation: https://pandas.pydata.org/pandas-docs/stable/user_guide/indexing.html#returning-a-view-versus-a-copy\n",
      "  b['away_zero_goals_mean'] = round(b['away_zero_goals_mean'],2)\n"
     ]
    },
    {
     "data": {
      "image/png": "[encoded data removed]",
      "text/plain": [
       "<Figure size 432x288 with 1 Axes>"
      ]
     },
     "metadata": {
      "needs_background": "light"
     },
     "output_type": "display_data"
    }
   ],
   "source": [
    "groupbycol = 'away_0_goals_poisson_prob'\n",
    "a = df.groupby([groupbycol]).agg({'away_zero_goals' : [np.size,np.mean],  \n",
    "                                            }).reset_index()\n",
    "a.columns = a.columns.droplevel()\n",
    "a.columns = [groupbycol] + [ 'size','away_zero_goals_mean',  ]\n",
    "\n",
    "b = a[a['size'] > 50]\n",
    "b['away_zero_goals_mean'] = round(b['away_zero_goals_mean'],2)\n",
    "\n",
    "\n",
    "plt.scatter(x = b[groupbycol], y = b['away_zero_goals_mean'])\n",
    "\n",
    "plt.title('AWAY TEAM 0 GOALS')\n",
    "plt.xlabel(groupbycol)\n",
    "plt.ylabel('Reality')\n",
    "\n",
    "plt.plot([0,1],[0,1], 'r')\n",
    "plt.show()\n",
    "plt.show()\n"
   ]
  },
  {
   "cell_type": "markdown",
   "metadata": {},
   "source": [
    "# Distribution of Away 0 goals probabilities"
   ]
  },
  {
   "cell_type": "code",
   "execution_count": 39,
   "metadata": {},
   "outputs": [
    {
     "data": {
      "image/png": "[encoded data removed]",
      "text/plain": [
       "<Figure size 432x288 with 1 Axes>"
      ]
     },
     "metadata": {
      "needs_background": "light"
     },
     "output_type": "display_data"
    }
   ],
   "source": [
    "sns.distplot(df[groupbycol],kde=False,bins=50)\n",
    "plt.title('Distribution of Away 0 goals probabilities')\n",
    "plt.show()"
   ]
  },
  {
   "cell_type": "markdown",
   "metadata": {},
   "source": [
    "# AWAY TEAM EXACTLY 1 GOAL"
   ]
  },
  {
   "cell_type": "code",
   "execution_count": 40,
   "metadata": {},
   "outputs": [
    {
     "data": {
      "image/png": "[encoded data removed]",
      "text/plain": [
       "<Figure size 432x288 with 1 Axes>"
      ]
     },
     "metadata": {
      "needs_background": "light"
     },
     "output_type": "display_data"
    },
    {
     "data": {
      "text/html": [
       "<div>\n",
       "<style scoped>\n",
       "    .dataframe tbody tr th:only-of-type {\n",
       "        vertical-align: middle;\n",
       "    }\n",
       "\n",
       "    .dataframe tbody tr th {\n",
       "        vertical-align: top;\n",
       "    }\n",
       "\n",
       "    .dataframe thead th {\n",
       "        text-align: right;\n",
       "    }\n",
       "</style>\n",
       "<table border=\"1\" class=\"dataframe\">\n",
       "  <thead>\n",
       "    <tr style=\"text-align: right;\">\n",
       "      <th></th>\n",
       "      <th>away_1_goals_poisson_probR</th>\n",
       "      <th>size</th>\n",
       "      <th>away_one_goals_mean</th>\n",
       "    </tr>\n",
       "  </thead>\n",
       "  <tbody>\n",
       "    <tr>\n",
       "      <th>0</th>\n",
       "      <td>0.0</td>\n",
       "      <td>829</td>\n",
       "      <td>0.26</td>\n",
       "    </tr>\n",
       "    <tr>\n",
       "      <th>1</th>\n",
       "      <td>0.1</td>\n",
       "      <td>3312</td>\n",
       "      <td>0.27</td>\n",
       "    </tr>\n",
       "    <tr>\n",
       "      <th>2</th>\n",
       "      <td>0.2</td>\n",
       "      <td>14913</td>\n",
       "      <td>0.31</td>\n",
       "    </tr>\n",
       "    <tr>\n",
       "      <th>3</th>\n",
       "      <td>0.3</td>\n",
       "      <td>45625</td>\n",
       "      <td>0.34</td>\n",
       "    </tr>\n",
       "    <tr>\n",
       "      <th>4</th>\n",
       "      <td>0.4</td>\n",
       "      <td>55018</td>\n",
       "      <td>0.35</td>\n",
       "    </tr>\n",
       "  </tbody>\n",
       "</table>\n",
       "</div>"
      ],
      "text/plain": [
       "   away_1_goals_poisson_probR   size  away_one_goals_mean\n",
       "0                         0.0    829                 0.26\n",
       "1                         0.1   3312                 0.27\n",
       "2                         0.2  14913                 0.31\n",
       "3                         0.3  45625                 0.34\n",
       "4                         0.4  55018                 0.35"
      ]
     },
     "execution_count": 40,
     "metadata": {},
     "output_type": "execute_result"
    }
   ],
   "source": [
    "\n",
    "groupbycol = 'away_1_goals_poisson_probR'\n",
    "a = df.groupby([groupbycol]).agg({'away_one_goals' : [np.size,np.mean],  \n",
    "                                            }).reset_index()\n",
    "a.columns = a.columns.droplevel()\n",
    "a.columns = [groupbycol] + [ 'size','away_one_goals_mean',  ]\n",
    "\n",
    "b = a[a['size'] > 50]\n",
    "b['away_one_goals_mean'] = round(b['away_one_goals_mean'],2)\n",
    "\n",
    "\n",
    "plt.scatter(x = b[groupbycol], y = b['away_one_goals_mean'])\n",
    "\n",
    "plt.title('AWAY TEAM 1 GOALS')\n",
    "plt.xlabel(groupbycol)\n",
    "plt.ylabel('Reality')\n",
    "\n",
    "plt.plot([0,1],[0,1], 'r')\n",
    "plt.show()\n",
    "plt.show()\n",
    "\n",
    "b"
   ]
  },
  {
   "cell_type": "markdown",
   "metadata": {},
   "source": [
    "# Comment"
   ]
  },
  {
   "cell_type": "raw",
   "metadata": {},
   "source": [
    "One could argue that, a flat line, between y = 0.28  and y = 0.35, could be a very good approximate, although he can also claim that he can slightly distinguish a slope and a linear relationship. In other words, no matter how small or big the Poisson distribution probability is, the actual probability , is around 0.28 - 0.35. \n",
    "Again,Poisson underestimates the probability substantially, up to the 0.26 area."
   ]
  },
  {
   "cell_type": "code",
   "execution_count": 41,
   "metadata": {},
   "outputs": [],
   "source": [
    "%%capture\n",
    "groupbycol = 'away_1_goals_poisson_prob'\n",
    "a = df.groupby([groupbycol]).agg({'away_one_goals' : [np.size,np.mean],  \n",
    "                                            }).reset_index()\n",
    "a.columns = a.columns.droplevel()\n",
    "a.columns = [groupbycol] + [ 'size','away_one_goals_mean',  ]\n",
    "\n",
    "b = a[a['size'] > 50]\n",
    "b['away_one_goals_mean'] = round(b['away_one_goals_mean'],2)\n",
    "\n",
    "\n",
    "plt.scatter(x = b[groupbycol], y = b['away_one_goals_mean'])\n",
    "\n",
    "plt.title('AWAY TEAM 1 GOALS')\n",
    "plt.xlabel(groupbycol)\n",
    "plt.ylabel('Reality')\n",
    "\n",
    "plt.plot([0,1],[0,1], 'r')\n",
    "plt.show()\n",
    "plt.show()\n",
    "\n",
    "b = b[b['away_1_goals_poisson_prob'] > 0]\n",
    "\n",
    "\n",
    "\n",
    "\n",
    "\n",
    "b"
   ]
  },
  {
   "cell_type": "markdown",
   "metadata": {},
   "source": [
    "# Distribution of Away 1 goal probabilities"
   ]
  },
  {
   "cell_type": "code",
   "execution_count": 42,
   "metadata": {},
   "outputs": [
    {
     "data": {
      "image/png": "[encoded data removed]",
      "text/plain": [
       "<Figure size 432x288 with 1 Axes>"
      ]
     },
     "metadata": {
      "needs_background": "light"
     },
     "output_type": "display_data"
    }
   ],
   "source": [
    "sns.distplot(df[groupbycol],kde=False,bins=50)\n",
    "plt.title('Distribution of Away 1 goals probabilities')\n",
    "plt.show()"
   ]
  },
  {
   "cell_type": "markdown",
   "metadata": {},
   "source": [
    "# AWAY TEAM EXACTLY 2 GOALS"
   ]
  },
  {
   "cell_type": "code",
   "execution_count": 43,
   "metadata": {},
   "outputs": [
    {
     "data": {
      "image/png": "[encoded data removed]",
      "text/plain": [
       "<Figure size 432x288 with 1 Axes>"
      ]
     },
     "metadata": {
      "needs_background": "light"
     },
     "output_type": "display_data"
    },
    {
     "data": {
      "text/html": [
       "<div>\n",
       "<style scoped>\n",
       "    .dataframe tbody tr th:only-of-type {\n",
       "        vertical-align: middle;\n",
       "    }\n",
       "\n",
       "    .dataframe tbody tr th {\n",
       "        vertical-align: top;\n",
       "    }\n",
       "\n",
       "    .dataframe thead th {\n",
       "        text-align: right;\n",
       "    }\n",
       "</style>\n",
       "<table border=\"1\" class=\"dataframe\">\n",
       "  <thead>\n",
       "    <tr style=\"text-align: right;\">\n",
       "      <th></th>\n",
       "      <th>away_2_goals_poisson_probR</th>\n",
       "      <th>size</th>\n",
       "      <th>away_two_goals_mean</th>\n",
       "    </tr>\n",
       "  </thead>\n",
       "  <tbody>\n",
       "    <tr>\n",
       "      <th>0</th>\n",
       "      <td>0.0</td>\n",
       "      <td>9730</td>\n",
       "      <td>0.14</td>\n",
       "    </tr>\n",
       "    <tr>\n",
       "      <th>1</th>\n",
       "      <td>0.1</td>\n",
       "      <td>29688</td>\n",
       "      <td>0.17</td>\n",
       "    </tr>\n",
       "    <tr>\n",
       "      <th>2</th>\n",
       "      <td>0.2</td>\n",
       "      <td>57486</td>\n",
       "      <td>0.21</td>\n",
       "    </tr>\n",
       "    <tr>\n",
       "      <th>3</th>\n",
       "      <td>0.3</td>\n",
       "      <td>22793</td>\n",
       "      <td>0.24</td>\n",
       "    </tr>\n",
       "  </tbody>\n",
       "</table>\n",
       "</div>"
      ],
      "text/plain": [
       "   away_2_goals_poisson_probR   size  away_two_goals_mean\n",
       "0                         0.0   9730                 0.14\n",
       "1                         0.1  29688                 0.17\n",
       "2                         0.2  57486                 0.21\n",
       "3                         0.3  22793                 0.24"
      ]
     },
     "execution_count": 43,
     "metadata": {},
     "output_type": "execute_result"
    }
   ],
   "source": [
    "\n",
    "\n",
    "groupbycol = 'away_2_goals_poisson_probR'\n",
    "a = df.groupby([groupbycol]).agg({'away_two_goals' : [np.size,np.mean],  \n",
    "                                            }).reset_index()\n",
    "a.columns = a.columns.droplevel()\n",
    "a.columns = [groupbycol] + [ 'size','away_two_goals_mean',  ]\n",
    "\n",
    "b = a[a['size'] > 50]\n",
    "b['away_two_goals_mean'] = round(b['away_two_goals_mean'],2)\n",
    "\n",
    "\n",
    "plt.scatter(x = b[groupbycol], y = b['away_two_goals_mean'])\n",
    "\n",
    "plt.title('AWAY TEAM 2 GOALS')\n",
    "plt.xlabel(groupbycol)\n",
    "plt.ylabel('Reality')\n",
    "\n",
    "plt.plot([0,1],[0,1], 'r')\n",
    "plt.show()\n",
    "plt.show()\n",
    "\n",
    "b"
   ]
  },
  {
   "cell_type": "code",
   "execution_count": 44,
   "metadata": {},
   "outputs": [
    {
     "data": {
      "image/png": "[encoded data removed]",
      "text/plain": [
       "<Figure size 432x288 with 1 Axes>"
      ]
     },
     "metadata": {
      "needs_background": "light"
     },
     "output_type": "display_data"
    },
    {
     "data": {
      "text/html": [
       "<div>\n",
       "<style scoped>\n",
       "    .dataframe tbody tr th:only-of-type {\n",
       "        vertical-align: middle;\n",
       "    }\n",
       "\n",
       "    .dataframe tbody tr th {\n",
       "        vertical-align: top;\n",
       "    }\n",
       "\n",
       "    .dataframe thead th {\n",
       "        text-align: right;\n",
       "    }\n",
       "</style>\n",
       "<table border=\"1\" class=\"dataframe\">\n",
       "  <thead>\n",
       "    <tr style=\"text-align: right;\">\n",
       "      <th></th>\n",
       "      <th>away_2_goals_poisson_prob</th>\n",
       "      <th>size</th>\n",
       "      <th>away_two_goals_mean</th>\n",
       "    </tr>\n",
       "  </thead>\n",
       "  <tbody>\n",
       "    <tr>\n",
       "      <th>0</th>\n",
       "      <td>0.00</td>\n",
       "      <td>763</td>\n",
       "      <td>0.12</td>\n",
       "    </tr>\n",
       "    <tr>\n",
       "      <th>1</th>\n",
       "      <td>0.01</td>\n",
       "      <td>1303</td>\n",
       "      <td>0.13</td>\n",
       "    </tr>\n",
       "    <tr>\n",
       "      <th>2</th>\n",
       "      <td>0.02</td>\n",
       "      <td>1486</td>\n",
       "      <td>0.12</td>\n",
       "    </tr>\n",
       "    <tr>\n",
       "      <th>3</th>\n",
       "      <td>0.03</td>\n",
       "      <td>1845</td>\n",
       "      <td>0.12</td>\n",
       "    </tr>\n",
       "    <tr>\n",
       "      <th>4</th>\n",
       "      <td>0.04</td>\n",
       "      <td>2064</td>\n",
       "      <td>0.15</td>\n",
       "    </tr>\n",
       "    <tr>\n",
       "      <th>5</th>\n",
       "      <td>0.05</td>\n",
       "      <td>2269</td>\n",
       "      <td>0.16</td>\n",
       "    </tr>\n",
       "    <tr>\n",
       "      <th>6</th>\n",
       "      <td>0.06</td>\n",
       "      <td>2491</td>\n",
       "      <td>0.14</td>\n",
       "    </tr>\n",
       "    <tr>\n",
       "      <th>7</th>\n",
       "      <td>0.07</td>\n",
       "      <td>2806</td>\n",
       "      <td>0.16</td>\n",
       "    </tr>\n",
       "    <tr>\n",
       "      <th>8</th>\n",
       "      <td>0.08</td>\n",
       "      <td>2876</td>\n",
       "      <td>0.16</td>\n",
       "    </tr>\n",
       "    <tr>\n",
       "      <th>9</th>\n",
       "      <td>0.09</td>\n",
       "      <td>3169</td>\n",
       "      <td>0.16</td>\n",
       "    </tr>\n",
       "    <tr>\n",
       "      <th>10</th>\n",
       "      <td>0.10</td>\n",
       "      <td>3261</td>\n",
       "      <td>0.17</td>\n",
       "    </tr>\n",
       "    <tr>\n",
       "      <th>11</th>\n",
       "      <td>0.11</td>\n",
       "      <td>3539</td>\n",
       "      <td>0.17</td>\n",
       "    </tr>\n",
       "    <tr>\n",
       "      <th>12</th>\n",
       "      <td>0.12</td>\n",
       "      <td>3746</td>\n",
       "      <td>0.18</td>\n",
       "    </tr>\n",
       "    <tr>\n",
       "      <th>13</th>\n",
       "      <td>0.13</td>\n",
       "      <td>3816</td>\n",
       "      <td>0.18</td>\n",
       "    </tr>\n",
       "    <tr>\n",
       "      <th>14</th>\n",
       "      <td>0.14</td>\n",
       "      <td>3984</td>\n",
       "      <td>0.17</td>\n",
       "    </tr>\n",
       "    <tr>\n",
       "      <th>15</th>\n",
       "      <td>0.15</td>\n",
       "      <td>4071</td>\n",
       "      <td>0.18</td>\n",
       "    </tr>\n",
       "    <tr>\n",
       "      <th>16</th>\n",
       "      <td>0.16</td>\n",
       "      <td>4278</td>\n",
       "      <td>0.19</td>\n",
       "    </tr>\n",
       "    <tr>\n",
       "      <th>17</th>\n",
       "      <td>0.17</td>\n",
       "      <td>4528</td>\n",
       "      <td>0.19</td>\n",
       "    </tr>\n",
       "    <tr>\n",
       "      <th>18</th>\n",
       "      <td>0.18</td>\n",
       "      <td>4621</td>\n",
       "      <td>0.19</td>\n",
       "    </tr>\n",
       "    <tr>\n",
       "      <th>19</th>\n",
       "      <td>0.19</td>\n",
       "      <td>4950</td>\n",
       "      <td>0.21</td>\n",
       "    </tr>\n",
       "    <tr>\n",
       "      <th>20</th>\n",
       "      <td>0.20</td>\n",
       "      <td>5028</td>\n",
       "      <td>0.19</td>\n",
       "    </tr>\n",
       "    <tr>\n",
       "      <th>21</th>\n",
       "      <td>0.21</td>\n",
       "      <td>5152</td>\n",
       "      <td>0.21</td>\n",
       "    </tr>\n",
       "    <tr>\n",
       "      <th>22</th>\n",
       "      <td>0.22</td>\n",
       "      <td>5504</td>\n",
       "      <td>0.22</td>\n",
       "    </tr>\n",
       "    <tr>\n",
       "      <th>23</th>\n",
       "      <td>0.23</td>\n",
       "      <td>5736</td>\n",
       "      <td>0.22</td>\n",
       "    </tr>\n",
       "    <tr>\n",
       "      <th>24</th>\n",
       "      <td>0.24</td>\n",
       "      <td>6284</td>\n",
       "      <td>0.22</td>\n",
       "    </tr>\n",
       "    <tr>\n",
       "      <th>25</th>\n",
       "      <td>0.25</td>\n",
       "      <td>7334</td>\n",
       "      <td>0.23</td>\n",
       "    </tr>\n",
       "    <tr>\n",
       "      <th>26</th>\n",
       "      <td>0.26</td>\n",
       "      <td>9387</td>\n",
       "      <td>0.24</td>\n",
       "    </tr>\n",
       "    <tr>\n",
       "      <th>27</th>\n",
       "      <td>0.27</td>\n",
       "      <td>13406</td>\n",
       "      <td>0.24</td>\n",
       "    </tr>\n",
       "  </tbody>\n",
       "</table>\n",
       "</div>"
      ],
      "text/plain": [
       "    away_2_goals_poisson_prob   size  away_two_goals_mean\n",
       "0                        0.00    763                 0.12\n",
       "1                        0.01   1303                 0.13\n",
       "2                        0.02   1486                 0.12\n",
       "3                        0.03   1845                 0.12\n",
       "4                        0.04   2064                 0.15\n",
       "5                        0.05   2269                 0.16\n",
       "6                        0.06   2491                 0.14\n",
       "7                        0.07   2806                 0.16\n",
       "8                        0.08   2876                 0.16\n",
       "9                        0.09   3169                 0.16\n",
       "10                       0.10   3261                 0.17\n",
       "11                       0.11   3539                 0.17\n",
       "12                       0.12   3746                 0.18\n",
       "13                       0.13   3816                 0.18\n",
       "14                       0.14   3984                 0.17\n",
       "15                       0.15   4071                 0.18\n",
       "16                       0.16   4278                 0.19\n",
       "17                       0.17   4528                 0.19\n",
       "18                       0.18   4621                 0.19\n",
       "19                       0.19   4950                 0.21\n",
       "20                       0.20   5028                 0.19\n",
       "21                       0.21   5152                 0.21\n",
       "22                       0.22   5504                 0.22\n",
       "23                       0.23   5736                 0.22\n",
       "24                       0.24   6284                 0.22\n",
       "25                       0.25   7334                 0.23\n",
       "26                       0.26   9387                 0.24\n",
       "27                       0.27  13406                 0.24"
      ]
     },
     "execution_count": 44,
     "metadata": {},
     "output_type": "execute_result"
    }
   ],
   "source": [
    "groupbycol = 'away_2_goals_poisson_prob'\n",
    "a = df.groupby([groupbycol]).agg({'away_two_goals' : [np.size,np.mean],  \n",
    "                                            }).reset_index()\n",
    "a.columns = a.columns.droplevel()\n",
    "a.columns = [groupbycol] + [ 'size','away_two_goals_mean',  ]\n",
    "\n",
    "b = a[a['size'] > 50]\n",
    "b['away_two_goals_mean'] = round(b['away_two_goals_mean'],2)\n",
    "\n",
    "\n",
    "plt.scatter(x = b[groupbycol], y = b['away_two_goals_mean'])\n",
    "\n",
    "plt.title('AWAY TEAM 2 GOALS')\n",
    "plt.xlabel(groupbycol)\n",
    "plt.ylabel('Reality - aggregated avg')\n",
    "\n",
    "plt.plot([0,1],[0,1], 'r')\n",
    "plt.show()\n",
    "plt.show()\n",
    "\n",
    "b"
   ]
  },
  {
   "cell_type": "markdown",
   "metadata": {},
   "source": [
    "# Distribution of Away 2 goal probabilities"
   ]
  },
  {
   "cell_type": "code",
   "execution_count": 45,
   "metadata": {},
   "outputs": [
    {
     "data": {
      "image/png": "[encoded data removed]",
      "text/plain": [
       "<Figure size 432x288 with 1 Axes>"
      ]
     },
     "metadata": {
      "needs_background": "light"
     },
     "output_type": "display_data"
    }
   ],
   "source": [
    "sns.distplot(df[groupbycol],kde=False,bins=50)\n",
    "plt.title('Distribution of Away 2 goals probabilities')\n",
    "plt.show()"
   ]
  },
  {
   "cell_type": "markdown",
   "metadata": {},
   "source": [
    "# AWAY TEAM EXACTLY 3 GOALS"
   ]
  },
  {
   "cell_type": "code",
   "execution_count": 46,
   "metadata": {},
   "outputs": [
    {
     "data": {
      "image/png": "[encoded data removed]",
      "text/plain": [
       "<Figure size 432x288 with 1 Axes>"
      ]
     },
     "metadata": {
      "needs_background": "light"
     },
     "output_type": "display_data"
    },
    {
     "data": {
      "text/html": [
       "<div>\n",
       "<style scoped>\n",
       "    .dataframe tbody tr th:only-of-type {\n",
       "        vertical-align: middle;\n",
       "    }\n",
       "\n",
       "    .dataframe tbody tr th {\n",
       "        vertical-align: top;\n",
       "    }\n",
       "\n",
       "    .dataframe thead th {\n",
       "        text-align: right;\n",
       "    }\n",
       "</style>\n",
       "<table border=\"1\" class=\"dataframe\">\n",
       "  <thead>\n",
       "    <tr style=\"text-align: right;\">\n",
       "      <th></th>\n",
       "      <th>away_3_goals_poisson_probR</th>\n",
       "      <th>size</th>\n",
       "      <th>away_three_goals_mean</th>\n",
       "    </tr>\n",
       "  </thead>\n",
       "  <tbody>\n",
       "    <tr>\n",
       "      <th>0</th>\n",
       "      <td>0.0</td>\n",
       "      <td>50831</td>\n",
       "      <td>0.06</td>\n",
       "    </tr>\n",
       "    <tr>\n",
       "      <th>1</th>\n",
       "      <td>0.1</td>\n",
       "      <td>45241</td>\n",
       "      <td>0.09</td>\n",
       "    </tr>\n",
       "    <tr>\n",
       "      <th>2</th>\n",
       "      <td>0.2</td>\n",
       "      <td>23625</td>\n",
       "      <td>0.14</td>\n",
       "    </tr>\n",
       "  </tbody>\n",
       "</table>\n",
       "</div>"
      ],
      "text/plain": [
       "   away_3_goals_poisson_probR   size  away_three_goals_mean\n",
       "0                         0.0  50831                   0.06\n",
       "1                         0.1  45241                   0.09\n",
       "2                         0.2  23625                   0.14"
      ]
     },
     "execution_count": 46,
     "metadata": {},
     "output_type": "execute_result"
    }
   ],
   "source": [
    "\n",
    "groupbycol = 'away_3_goals_poisson_probR'\n",
    "a = df.groupby([groupbycol]).agg({'away_three_goals' : [np.size,np.mean],  \n",
    "                                            }).reset_index()\n",
    "a.columns = a.columns.droplevel()\n",
    "a.columns = [groupbycol] + [ 'size','away_three_goals_mean',  ]\n",
    "\n",
    "b = a[a['size'] > 50]\n",
    "b['away_three_goals_mean'] = round(b['away_three_goals_mean'],2)\n",
    "\n",
    "\n",
    "plt.scatter(x = b[groupbycol], y = b['away_three_goals_mean'])\n",
    "\n",
    "plt.title('AWAY TEAM 3 GOALS')\n",
    "plt.xlabel(groupbycol)\n",
    "plt.ylabel('Reality')\n",
    "\n",
    "plt.plot([0,1],[0,1], 'r')\n",
    "plt.show()\n",
    "plt.show()\n",
    "\n",
    "b"
   ]
  },
  {
   "cell_type": "code",
   "execution_count": 47,
   "metadata": {},
   "outputs": [
    {
     "data": {
      "image/png": "[encoded data removed]",
      "text/plain": [
       "<Figure size 432x288 with 1 Axes>"
      ]
     },
     "metadata": {
      "needs_background": "light"
     },
     "output_type": "display_data"
    },
    {
     "data": {
      "text/html": [
       "<div>\n",
       "<style scoped>\n",
       "    .dataframe tbody tr th:only-of-type {\n",
       "        vertical-align: middle;\n",
       "    }\n",
       "\n",
       "    .dataframe tbody tr th {\n",
       "        vertical-align: top;\n",
       "    }\n",
       "\n",
       "    .dataframe thead th {\n",
       "        text-align: right;\n",
       "    }\n",
       "</style>\n",
       "<table border=\"1\" class=\"dataframe\">\n",
       "  <thead>\n",
       "    <tr style=\"text-align: right;\">\n",
       "      <th></th>\n",
       "      <th>away_3_goals_poisson_prob</th>\n",
       "      <th>size</th>\n",
       "      <th>away_three_goals_mean</th>\n",
       "    </tr>\n",
       "  </thead>\n",
       "  <tbody>\n",
       "    <tr>\n",
       "      <th>0</th>\n",
       "      <td>0.00</td>\n",
       "      <td>7015</td>\n",
       "      <td>0.04</td>\n",
       "    </tr>\n",
       "    <tr>\n",
       "      <th>1</th>\n",
       "      <td>0.01</td>\n",
       "      <td>10434</td>\n",
       "      <td>0.05</td>\n",
       "    </tr>\n",
       "    <tr>\n",
       "      <th>2</th>\n",
       "      <td>0.02</td>\n",
       "      <td>9432</td>\n",
       "      <td>0.06</td>\n",
       "    </tr>\n",
       "    <tr>\n",
       "      <th>3</th>\n",
       "      <td>0.03</td>\n",
       "      <td>8779</td>\n",
       "      <td>0.06</td>\n",
       "    </tr>\n",
       "    <tr>\n",
       "      <th>4</th>\n",
       "      <td>0.04</td>\n",
       "      <td>7882</td>\n",
       "      <td>0.06</td>\n",
       "    </tr>\n",
       "    <tr>\n",
       "      <th>5</th>\n",
       "      <td>0.05</td>\n",
       "      <td>7289</td>\n",
       "      <td>0.07</td>\n",
       "    </tr>\n",
       "    <tr>\n",
       "      <th>6</th>\n",
       "      <td>0.06</td>\n",
       "      <td>6922</td>\n",
       "      <td>0.08</td>\n",
       "    </tr>\n",
       "    <tr>\n",
       "      <th>7</th>\n",
       "      <td>0.07</td>\n",
       "      <td>6295</td>\n",
       "      <td>0.08</td>\n",
       "    </tr>\n",
       "    <tr>\n",
       "      <th>8</th>\n",
       "      <td>0.08</td>\n",
       "      <td>5801</td>\n",
       "      <td>0.09</td>\n",
       "    </tr>\n",
       "    <tr>\n",
       "      <th>9</th>\n",
       "      <td>0.09</td>\n",
       "      <td>5411</td>\n",
       "      <td>0.10</td>\n",
       "    </tr>\n",
       "    <tr>\n",
       "      <th>10</th>\n",
       "      <td>0.10</td>\n",
       "      <td>4815</td>\n",
       "      <td>0.09</td>\n",
       "    </tr>\n",
       "    <tr>\n",
       "      <th>11</th>\n",
       "      <td>0.11</td>\n",
       "      <td>4410</td>\n",
       "      <td>0.09</td>\n",
       "    </tr>\n",
       "    <tr>\n",
       "      <th>12</th>\n",
       "      <td>0.12</td>\n",
       "      <td>4314</td>\n",
       "      <td>0.10</td>\n",
       "    </tr>\n",
       "    <tr>\n",
       "      <th>13</th>\n",
       "      <td>0.13</td>\n",
       "      <td>3821</td>\n",
       "      <td>0.10</td>\n",
       "    </tr>\n",
       "    <tr>\n",
       "      <th>14</th>\n",
       "      <td>0.14</td>\n",
       "      <td>3452</td>\n",
       "      <td>0.11</td>\n",
       "    </tr>\n",
       "    <tr>\n",
       "      <th>15</th>\n",
       "      <td>0.15</td>\n",
       "      <td>3131</td>\n",
       "      <td>0.12</td>\n",
       "    </tr>\n",
       "    <tr>\n",
       "      <th>16</th>\n",
       "      <td>0.16</td>\n",
       "      <td>3037</td>\n",
       "      <td>0.11</td>\n",
       "    </tr>\n",
       "    <tr>\n",
       "      <th>17</th>\n",
       "      <td>0.17</td>\n",
       "      <td>2798</td>\n",
       "      <td>0.12</td>\n",
       "    </tr>\n",
       "    <tr>\n",
       "      <th>18</th>\n",
       "      <td>0.18</td>\n",
       "      <td>2627</td>\n",
       "      <td>0.13</td>\n",
       "    </tr>\n",
       "    <tr>\n",
       "      <th>19</th>\n",
       "      <td>0.19</td>\n",
       "      <td>2501</td>\n",
       "      <td>0.14</td>\n",
       "    </tr>\n",
       "    <tr>\n",
       "      <th>20</th>\n",
       "      <td>0.20</td>\n",
       "      <td>2423</td>\n",
       "      <td>0.15</td>\n",
       "    </tr>\n",
       "    <tr>\n",
       "      <th>21</th>\n",
       "      <td>0.21</td>\n",
       "      <td>2662</td>\n",
       "      <td>0.15</td>\n",
       "    </tr>\n",
       "    <tr>\n",
       "      <th>22</th>\n",
       "      <td>0.22</td>\n",
       "      <td>4446</td>\n",
       "      <td>0.17</td>\n",
       "    </tr>\n",
       "  </tbody>\n",
       "</table>\n",
       "</div>"
      ],
      "text/plain": [
       "    away_3_goals_poisson_prob   size  away_three_goals_mean\n",
       "0                        0.00   7015                   0.04\n",
       "1                        0.01  10434                   0.05\n",
       "2                        0.02   9432                   0.06\n",
       "3                        0.03   8779                   0.06\n",
       "4                        0.04   7882                   0.06\n",
       "5                        0.05   7289                   0.07\n",
       "6                        0.06   6922                   0.08\n",
       "7                        0.07   6295                   0.08\n",
       "8                        0.08   5801                   0.09\n",
       "9                        0.09   5411                   0.10\n",
       "10                       0.10   4815                   0.09\n",
       "11                       0.11   4410                   0.09\n",
       "12                       0.12   4314                   0.10\n",
       "13                       0.13   3821                   0.10\n",
       "14                       0.14   3452                   0.11\n",
       "15                       0.15   3131                   0.12\n",
       "16                       0.16   3037                   0.11\n",
       "17                       0.17   2798                   0.12\n",
       "18                       0.18   2627                   0.13\n",
       "19                       0.19   2501                   0.14\n",
       "20                       0.20   2423                   0.15\n",
       "21                       0.21   2662                   0.15\n",
       "22                       0.22   4446                   0.17"
      ]
     },
     "execution_count": 47,
     "metadata": {},
     "output_type": "execute_result"
    }
   ],
   "source": [
    "groupbycol = 'away_3_goals_poisson_prob'\n",
    "a = df.groupby([groupbycol]).agg({'away_three_goals' : [np.size,np.mean],  \n",
    "                                            }).reset_index()\n",
    "a.columns = a.columns.droplevel()\n",
    "a.columns = [groupbycol] + [ 'size','away_three_goals_mean',  ]\n",
    "\n",
    "b = a[a['size'] > 50]\n",
    "b['away_three_goals_mean'] = round(b['away_three_goals_mean'],2)\n",
    "\n",
    "\n",
    "plt.scatter(x = b[groupbycol], y = b['away_three_goals_mean'])\n",
    "\n",
    "plt.title('AWAY TEAM 3 GOALS')\n",
    "plt.xlabel(groupbycol)\n",
    "plt.ylabel('Reality')\n",
    "\n",
    "plt.plot([0,1],[0,1], 'r')\n",
    "plt.show()\n",
    "plt.show()\n",
    "\n",
    "b"
   ]
  },
  {
   "cell_type": "markdown",
   "metadata": {},
   "source": [
    "# Distribution of Away 3 goal probabilities"
   ]
  },
  {
   "cell_type": "code",
   "execution_count": 48,
   "metadata": {},
   "outputs": [
    {
     "data": {
      "image/png": "[encoded data removed]",
      "text/plain": [
       "<Figure size 432x288 with 1 Axes>"
      ]
     },
     "metadata": {
      "needs_background": "light"
     },
     "output_type": "display_data"
    }
   ],
   "source": [
    "sns.distplot(df[groupbycol],kde=False,bins=50)\n",
    "plt.title('Distribution of Away 3 goals probabilities')\n",
    "plt.show()"
   ]
  },
  {
   "cell_type": "markdown",
   "metadata": {},
   "source": [
    "# AWAY TEAM EXACTLY 4  GOALS"
   ]
  },
  {
   "cell_type": "code",
   "execution_count": 49,
   "metadata": {},
   "outputs": [
    {
     "data": {
      "image/png": "[encoded data removed]",
      "text/plain": [
       "<Figure size 432x288 with 1 Axes>"
      ]
     },
     "metadata": {
      "needs_background": "light"
     },
     "output_type": "display_data"
    },
    {
     "data": {
      "text/html": [
       "<div>\n",
       "<style scoped>\n",
       "    .dataframe tbody tr th:only-of-type {\n",
       "        vertical-align: middle;\n",
       "    }\n",
       "\n",
       "    .dataframe tbody tr th {\n",
       "        vertical-align: top;\n",
       "    }\n",
       "\n",
       "    .dataframe thead th {\n",
       "        text-align: right;\n",
       "    }\n",
       "</style>\n",
       "<table border=\"1\" class=\"dataframe\">\n",
       "  <thead>\n",
       "    <tr style=\"text-align: right;\">\n",
       "      <th></th>\n",
       "      <th>away_4_goals_poisson_probR</th>\n",
       "      <th>size</th>\n",
       "      <th>away_four_goals_mean</th>\n",
       "    </tr>\n",
       "  </thead>\n",
       "  <tbody>\n",
       "    <tr>\n",
       "      <th>0</th>\n",
       "      <td>0.0</td>\n",
       "      <td>93399</td>\n",
       "      <td>0.02</td>\n",
       "    </tr>\n",
       "    <tr>\n",
       "      <th>1</th>\n",
       "      <td>0.1</td>\n",
       "      <td>21718</td>\n",
       "      <td>0.06</td>\n",
       "    </tr>\n",
       "    <tr>\n",
       "      <th>2</th>\n",
       "      <td>0.2</td>\n",
       "      <td>4580</td>\n",
       "      <td>0.10</td>\n",
       "    </tr>\n",
       "  </tbody>\n",
       "</table>\n",
       "</div>"
      ],
      "text/plain": [
       "   away_4_goals_poisson_probR   size  away_four_goals_mean\n",
       "0                         0.0  93399                  0.02\n",
       "1                         0.1  21718                  0.06\n",
       "2                         0.2   4580                  0.10"
      ]
     },
     "execution_count": 49,
     "metadata": {},
     "output_type": "execute_result"
    }
   ],
   "source": [
    "groupbycol = 'away_4_goals_poisson_probR'\n",
    "a = df.groupby([groupbycol]).agg({'away_four_goals' : [np.size,np.mean],  \n",
    "                                            }).reset_index()\n",
    "a.columns = a.columns.droplevel()\n",
    "a.columns = [groupbycol] + [ 'size','away_four_goals_mean',  ]\n",
    "\n",
    "b = a[a['size'] > 50]\n",
    "b['away_four_goals_mean'] = round(b['away_four_goals_mean'],2)\n",
    "\n",
    "\n",
    "plt.scatter(x = b[groupbycol], y = b['away_four_goals_mean'])\n",
    "\n",
    "plt.title('AWAY TEAM 4 GOALS')\n",
    "plt.xlabel(groupbycol)\n",
    "plt.ylabel('Reality')\n",
    "\n",
    "plt.plot([0,1],[0,1], 'r')\n",
    "plt.show()\n",
    "plt.show()\n",
    "\n",
    "b"
   ]
  },
  {
   "cell_type": "code",
   "execution_count": 50,
   "metadata": {
    "scrolled": true
   },
   "outputs": [
    {
     "data": {
      "image/png": "[encoded data removed]",
      "text/plain": [
       "<Figure size 432x288 with 1 Axes>"
      ]
     },
     "metadata": {
      "needs_background": "light"
     },
     "output_type": "display_data"
    },
    {
     "data": {
      "text/html": [
       "<div>\n",
       "<style scoped>\n",
       "    .dataframe tbody tr th:only-of-type {\n",
       "        vertical-align: middle;\n",
       "    }\n",
       "\n",
       "    .dataframe tbody tr th {\n",
       "        vertical-align: top;\n",
       "    }\n",
       "\n",
       "    .dataframe thead th {\n",
       "        text-align: right;\n",
       "    }\n",
       "</style>\n",
       "<table border=\"1\" class=\"dataframe\">\n",
       "  <thead>\n",
       "    <tr style=\"text-align: right;\">\n",
       "      <th></th>\n",
       "      <th>away_4_goals_poisson_prob</th>\n",
       "      <th>size</th>\n",
       "      <th>away_four_goals_mean</th>\n",
       "    </tr>\n",
       "  </thead>\n",
       "  <tbody>\n",
       "    <tr>\n",
       "      <th>0</th>\n",
       "      <td>0.00</td>\n",
       "      <td>30126</td>\n",
       "      <td>0.01</td>\n",
       "    </tr>\n",
       "    <tr>\n",
       "      <th>1</th>\n",
       "      <td>0.01</td>\n",
       "      <td>24608</td>\n",
       "      <td>0.02</td>\n",
       "    </tr>\n",
       "    <tr>\n",
       "      <th>2</th>\n",
       "      <td>0.02</td>\n",
       "      <td>14867</td>\n",
       "      <td>0.02</td>\n",
       "    </tr>\n",
       "    <tr>\n",
       "      <th>3</th>\n",
       "      <td>0.03</td>\n",
       "      <td>10238</td>\n",
       "      <td>0.03</td>\n",
       "    </tr>\n",
       "    <tr>\n",
       "      <th>4</th>\n",
       "      <td>0.04</td>\n",
       "      <td>7633</td>\n",
       "      <td>0.04</td>\n",
       "    </tr>\n",
       "    <tr>\n",
       "      <th>5</th>\n",
       "      <td>0.05</td>\n",
       "      <td>5927</td>\n",
       "      <td>0.04</td>\n",
       "    </tr>\n",
       "    <tr>\n",
       "      <th>6</th>\n",
       "      <td>0.06</td>\n",
       "      <td>4482</td>\n",
       "      <td>0.05</td>\n",
       "    </tr>\n",
       "    <tr>\n",
       "      <th>7</th>\n",
       "      <td>0.07</td>\n",
       "      <td>3794</td>\n",
       "      <td>0.05</td>\n",
       "    </tr>\n",
       "    <tr>\n",
       "      <th>8</th>\n",
       "      <td>0.08</td>\n",
       "      <td>3060</td>\n",
       "      <td>0.05</td>\n",
       "    </tr>\n",
       "    <tr>\n",
       "      <th>9</th>\n",
       "      <td>0.09</td>\n",
       "      <td>2525</td>\n",
       "      <td>0.06</td>\n",
       "    </tr>\n",
       "    <tr>\n",
       "      <th>10</th>\n",
       "      <td>0.10</td>\n",
       "      <td>2117</td>\n",
       "      <td>0.06</td>\n",
       "    </tr>\n",
       "    <tr>\n",
       "      <th>11</th>\n",
       "      <td>0.11</td>\n",
       "      <td>1776</td>\n",
       "      <td>0.07</td>\n",
       "    </tr>\n",
       "    <tr>\n",
       "      <th>12</th>\n",
       "      <td>0.12</td>\n",
       "      <td>1524</td>\n",
       "      <td>0.07</td>\n",
       "    </tr>\n",
       "    <tr>\n",
       "      <th>13</th>\n",
       "      <td>0.13</td>\n",
       "      <td>1359</td>\n",
       "      <td>0.07</td>\n",
       "    </tr>\n",
       "    <tr>\n",
       "      <th>14</th>\n",
       "      <td>0.14</td>\n",
       "      <td>1081</td>\n",
       "      <td>0.07</td>\n",
       "    </tr>\n",
       "    <tr>\n",
       "      <th>15</th>\n",
       "      <td>0.15</td>\n",
       "      <td>964</td>\n",
       "      <td>0.08</td>\n",
       "    </tr>\n",
       "    <tr>\n",
       "      <th>16</th>\n",
       "      <td>0.16</td>\n",
       "      <td>885</td>\n",
       "      <td>0.09</td>\n",
       "    </tr>\n",
       "    <tr>\n",
       "      <th>17</th>\n",
       "      <td>0.17</td>\n",
       "      <td>751</td>\n",
       "      <td>0.09</td>\n",
       "    </tr>\n",
       "    <tr>\n",
       "      <th>18</th>\n",
       "      <td>0.18</td>\n",
       "      <td>745</td>\n",
       "      <td>0.09</td>\n",
       "    </tr>\n",
       "    <tr>\n",
       "      <th>19</th>\n",
       "      <td>0.19</td>\n",
       "      <td>1032</td>\n",
       "      <td>0.13</td>\n",
       "    </tr>\n",
       "    <tr>\n",
       "      <th>20</th>\n",
       "      <td>0.20</td>\n",
       "      <td>203</td>\n",
       "      <td>0.15</td>\n",
       "    </tr>\n",
       "  </tbody>\n",
       "</table>\n",
       "</div>"
      ],
      "text/plain": [
       "    away_4_goals_poisson_prob   size  away_four_goals_mean\n",
       "0                        0.00  30126                  0.01\n",
       "1                        0.01  24608                  0.02\n",
       "2                        0.02  14867                  0.02\n",
       "3                        0.03  10238                  0.03\n",
       "4                        0.04   7633                  0.04\n",
       "5                        0.05   5927                  0.04\n",
       "6                        0.06   4482                  0.05\n",
       "7                        0.07   3794                  0.05\n",
       "8                        0.08   3060                  0.05\n",
       "9                        0.09   2525                  0.06\n",
       "10                       0.10   2117                  0.06\n",
       "11                       0.11   1776                  0.07\n",
       "12                       0.12   1524                  0.07\n",
       "13                       0.13   1359                  0.07\n",
       "14                       0.14   1081                  0.07\n",
       "15                       0.15    964                  0.08\n",
       "16                       0.16    885                  0.09\n",
       "17                       0.17    751                  0.09\n",
       "18                       0.18    745                  0.09\n",
       "19                       0.19   1032                  0.13\n",
       "20                       0.20    203                  0.15"
      ]
     },
     "execution_count": 50,
     "metadata": {},
     "output_type": "execute_result"
    }
   ],
   "source": [
    "groupbycol = 'away_4_goals_poisson_prob'\n",
    "a = df.groupby([groupbycol]).agg({'away_four_goals' : [np.size,np.mean],  \n",
    "                                            }).reset_index()\n",
    "a.columns = a.columns.droplevel()\n",
    "a.columns = [groupbycol] + [ 'size','away_four_goals_mean',  ]\n",
    "\n",
    "b = a[a['size'] > 50]\n",
    "b['away_four_goals_mean'] = round(b['away_four_goals_mean'],2)\n",
    "\n",
    "\n",
    "plt.scatter(x = b[groupbycol], y = b['away_four_goals_mean'])\n",
    "\n",
    "plt.title('AWAY TEAM 4 GOALS')\n",
    "plt.xlabel(groupbycol)\n",
    "plt.ylabel('Reality')\n",
    "\n",
    "plt.plot([0,1],[0,1], 'r')\n",
    "plt.show()\n",
    "plt.show()\n",
    "\n",
    "b"
   ]
  },
  {
   "cell_type": "markdown",
   "metadata": {},
   "source": [
    "# Distribution of Away 4 goal probabilities"
   ]
  },
  {
   "cell_type": "code",
   "execution_count": 51,
   "metadata": {},
   "outputs": [
    {
     "data": {
      "image/png": "[encoded data removed]",
      "text/plain": [
       "<Figure size 432x288 with 1 Axes>"
      ]
     },
     "metadata": {
      "needs_background": "light"
     },
     "output_type": "display_data"
    }
   ],
   "source": [
    "sns.distplot(df[groupbycol],kde=False,bins=50)\n",
    "plt.title('Distribution of Away 4 goals probabilities')\n",
    "plt.show()"
   ]
  },
  {
   "cell_type": "raw",
   "metadata": {},
   "source": [
    "Extremely Right Skewed, seems pretty fair, because rarely the away team will have a big probability of scoring 4 goals"
   ]
  },
  {
   "cell_type": "markdown",
   "metadata": {},
   "source": [
    "# An English Premier League Match day Deep Dive"
   ]
  },
  {
   "cell_type": "raw",
   "metadata": {},
   "source": [
    "What follows is  how  did the Bivariate Poisson distribution perform on a specific match day for the English Premier League 2019-2020 having a closer look at the columns that were produced"
   ]
  },
  {
   "cell_type": "code",
   "execution_count": 52,
   "metadata": {},
   "outputs": [
    {
     "data": {
      "text/html": [
       "<div>\n",
       "<style scoped>\n",
       "    .dataframe tbody tr th:only-of-type {\n",
       "        vertical-align: middle;\n",
       "    }\n",
       "\n",
       "    .dataframe tbody tr th {\n",
       "        vertical-align: top;\n",
       "    }\n",
       "\n",
       "    .dataframe thead th {\n",
       "        text-align: right;\n",
       "    }\n",
       "</style>\n",
       "<table border=\"1\" class=\"dataframe\">\n",
       "  <thead>\n",
       "    <tr style=\"text-align: right;\">\n",
       "      <th></th>\n",
       "      <th>date</th>\n",
       "      <th>time</th>\n",
       "      <th>Country</th>\n",
       "      <th>league</th>\n",
       "      <th>home</th>\n",
       "      <th>away</th>\n",
       "      <th>homegoals</th>\n",
       "      <th>awaygoals</th>\n",
       "      <th>L_GH_avg</th>\n",
       "      <th>L_GA_avg</th>\n",
       "      <th>sphgfavg</th>\n",
       "      <th>sphgagavg</th>\n",
       "      <th>spawgfavg</th>\n",
       "      <th>spawgagavg</th>\n",
       "      <th>poissonhomeavg</th>\n",
       "      <th>poissonawayavg</th>\n",
       "      <th>home_0_goals_poisson_prob</th>\n",
       "      <th>home_1_goals_poisson_prob</th>\n",
       "      <th>home_2_goals_poisson_prob</th>\n",
       "      <th>home_3_goals_poisson_prob</th>\n",
       "      <th>home_4_goals_poisson_prob</th>\n",
       "      <th>away_0_goals_poisson_prob</th>\n",
       "      <th>away_1_goals_poisson_prob</th>\n",
       "      <th>away_2_goals_poisson_prob</th>\n",
       "      <th>away_3_goals_poisson_prob</th>\n",
       "      <th>away_4_goals_poisson_prob</th>\n",
       "    </tr>\n",
       "  </thead>\n",
       "  <tbody>\n",
       "    <tr>\n",
       "      <th>44</th>\n",
       "      <td>21.01.2020</td>\n",
       "      <td>20:30</td>\n",
       "      <td>England</td>\n",
       "      <td>Premier League 2019/2020</td>\n",
       "      <td>Aston Villa Football Club</td>\n",
       "      <td>Watford Football Club</td>\n",
       "      <td>2.0</td>\n",
       "      <td>1.0</td>\n",
       "      <td>1.48</td>\n",
       "      <td>1.28</td>\n",
       "      <td>1.27</td>\n",
       "      <td>1.82</td>\n",
       "      <td>0.82</td>\n",
       "      <td>1.82</td>\n",
       "      <td>1.561757</td>\n",
       "      <td>1.165937</td>\n",
       "      <td>0.21</td>\n",
       "      <td>0.33</td>\n",
       "      <td>0.26</td>\n",
       "      <td>0.13</td>\n",
       "      <td>0.05</td>\n",
       "      <td>0.31</td>\n",
       "      <td>0.36</td>\n",
       "      <td>0.21</td>\n",
       "      <td>0.08</td>\n",
       "      <td>0.02</td>\n",
       "    </tr>\n",
       "    <tr>\n",
       "      <th>45</th>\n",
       "      <td>21.01.2020</td>\n",
       "      <td>20:30</td>\n",
       "      <td>England</td>\n",
       "      <td>Premier League 2019/2020</td>\n",
       "      <td>Athletic Football Club Bournemouth</td>\n",
       "      <td>Brighton &amp; Hove Albion Football Club</td>\n",
       "      <td>3.0</td>\n",
       "      <td>1.0</td>\n",
       "      <td>1.48</td>\n",
       "      <td>1.28</td>\n",
       "      <td>0.91</td>\n",
       "      <td>1.55</td>\n",
       "      <td>0.91</td>\n",
       "      <td>1.64</td>\n",
       "      <td>1.008378</td>\n",
       "      <td>1.101953</td>\n",
       "      <td>0.36</td>\n",
       "      <td>0.37</td>\n",
       "      <td>0.19</td>\n",
       "      <td>0.06</td>\n",
       "      <td>0.02</td>\n",
       "      <td>0.33</td>\n",
       "      <td>0.37</td>\n",
       "      <td>0.20</td>\n",
       "      <td>0.07</td>\n",
       "      <td>0.02</td>\n",
       "    </tr>\n",
       "    <tr>\n",
       "      <th>46</th>\n",
       "      <td>21.01.2020</td>\n",
       "      <td>20:30</td>\n",
       "      <td>England</td>\n",
       "      <td>Premier League 2019/2020</td>\n",
       "      <td>Crystal Palace Football Club</td>\n",
       "      <td>Southampton Football Club</td>\n",
       "      <td>0.0</td>\n",
       "      <td>2.0</td>\n",
       "      <td>1.48</td>\n",
       "      <td>1.28</td>\n",
       "      <td>0.91</td>\n",
       "      <td>0.91</td>\n",
       "      <td>1.45</td>\n",
       "      <td>1.27</td>\n",
       "      <td>0.780878</td>\n",
       "      <td>1.030859</td>\n",
       "      <td>0.46</td>\n",
       "      <td>0.36</td>\n",
       "      <td>0.14</td>\n",
       "      <td>0.04</td>\n",
       "      <td>0.01</td>\n",
       "      <td>0.36</td>\n",
       "      <td>0.37</td>\n",
       "      <td>0.19</td>\n",
       "      <td>0.07</td>\n",
       "      <td>0.02</td>\n",
       "    </tr>\n",
       "    <tr>\n",
       "      <th>47</th>\n",
       "      <td>21.01.2020</td>\n",
       "      <td>20:30</td>\n",
       "      <td>England</td>\n",
       "      <td>Premier League 2019/2020</td>\n",
       "      <td>Everton Football Club</td>\n",
       "      <td>Newcastle United Football Club</td>\n",
       "      <td>2.0</td>\n",
       "      <td>2.0</td>\n",
       "      <td>1.48</td>\n",
       "      <td>1.28</td>\n",
       "      <td>1.18</td>\n",
       "      <td>1.00</td>\n",
       "      <td>0.91</td>\n",
       "      <td>2.00</td>\n",
       "      <td>1.594595</td>\n",
       "      <td>0.710938</td>\n",
       "      <td>0.20</td>\n",
       "      <td>0.32</td>\n",
       "      <td>0.26</td>\n",
       "      <td>0.14</td>\n",
       "      <td>0.05</td>\n",
       "      <td>0.49</td>\n",
       "      <td>0.35</td>\n",
       "      <td>0.12</td>\n",
       "      <td>0.03</td>\n",
       "      <td>0.01</td>\n",
       "    </tr>\n",
       "    <tr>\n",
       "      <th>48</th>\n",
       "      <td>21.01.2020</td>\n",
       "      <td>20:30</td>\n",
       "      <td>England</td>\n",
       "      <td>Premier League 2019/2020</td>\n",
       "      <td>Sheffield United FC</td>\n",
       "      <td>Manchester City Football Club</td>\n",
       "      <td>0.0</td>\n",
       "      <td>1.0</td>\n",
       "      <td>1.48</td>\n",
       "      <td>1.28</td>\n",
       "      <td>1.18</td>\n",
       "      <td>0.91</td>\n",
       "      <td>3.00</td>\n",
       "      <td>1.36</td>\n",
       "      <td>1.084324</td>\n",
       "      <td>2.132812</td>\n",
       "      <td>0.34</td>\n",
       "      <td>0.37</td>\n",
       "      <td>0.20</td>\n",
       "      <td>0.07</td>\n",
       "      <td>0.02</td>\n",
       "      <td>0.12</td>\n",
       "      <td>0.25</td>\n",
       "      <td>0.27</td>\n",
       "      <td>0.19</td>\n",
       "      <td>0.10</td>\n",
       "    </tr>\n",
       "    <tr>\n",
       "      <th>78</th>\n",
       "      <td>21.01.2020</td>\n",
       "      <td>21:15</td>\n",
       "      <td>England</td>\n",
       "      <td>Premier League 2019/2020</td>\n",
       "      <td>Chelsea Football Club</td>\n",
       "      <td>Arsenal Football Club</td>\n",
       "      <td>2.0</td>\n",
       "      <td>2.0</td>\n",
       "      <td>1.48</td>\n",
       "      <td>1.28</td>\n",
       "      <td>1.27</td>\n",
       "      <td>0.91</td>\n",
       "      <td>1.09</td>\n",
       "      <td>1.27</td>\n",
       "      <td>1.089797</td>\n",
       "      <td>0.774922</td>\n",
       "      <td>0.34</td>\n",
       "      <td>0.37</td>\n",
       "      <td>0.20</td>\n",
       "      <td>0.07</td>\n",
       "      <td>0.02</td>\n",
       "      <td>0.46</td>\n",
       "      <td>0.36</td>\n",
       "      <td>0.14</td>\n",
       "      <td>0.04</td>\n",
       "      <td>0.01</td>\n",
       "    </tr>\n",
       "  </tbody>\n",
       "</table>\n",
       "</div>"
      ],
      "text/plain": [
       "          date   time  Country                    league  \\\n",
       "44  21.01.2020  20:30  England  Premier League 2019/2020   \n",
       "45  21.01.2020  20:30  England  Premier League 2019/2020   \n",
       "46  21.01.2020  20:30  England  Premier League 2019/2020   \n",
       "47  21.01.2020  20:30  England  Premier League 2019/2020   \n",
       "48  21.01.2020  20:30  England  Premier League 2019/2020   \n",
       "78  21.01.2020  21:15  England  Premier League 2019/2020   \n",
       "\n",
       "                                  home                                  away  \\\n",
       "44           Aston Villa Football Club                 Watford Football Club   \n",
       "45  Athletic Football Club Bournemouth  Brighton & Hove Albion Football Club   \n",
       "46        Crystal Palace Football Club             Southampton Football Club   \n",
       "47               Everton Football Club        Newcastle United Football Club   \n",
       "48                 Sheffield United FC         Manchester City Football Club   \n",
       "78               Chelsea Football Club                 Arsenal Football Club   \n",
       "\n",
       "    homegoals  awaygoals  L_GH_avg  L_GA_avg  sphgfavg  sphgagavg  spawgfavg  \\\n",
       "44        2.0        1.0      1.48      1.28      1.27       1.82       0.82   \n",
       "45        3.0        1.0      1.48      1.28      0.91       1.55       0.91   \n",
       "46        0.0        2.0      1.48      1.28      0.91       0.91       1.45   \n",
       "47        2.0        2.0      1.48      1.28      1.18       1.00       0.91   \n",
       "48        0.0        1.0      1.48      1.28      1.18       0.91       3.00   \n",
       "78        2.0        2.0      1.48      1.28      1.27       0.91       1.09   \n",
       "\n",
       "    spawgagavg  poissonhomeavg  poissonawayavg  home_0_goals_poisson_prob  \\\n",
       "44        1.82        1.561757        1.165937                       0.21   \n",
       "45        1.64        1.008378        1.101953                       0.36   \n",
       "46        1.27        0.780878        1.030859                       0.46   \n",
       "47        2.00        1.594595        0.710938                       0.20   \n",
       "48        1.36        1.084324        2.132812                       0.34   \n",
       "78        1.27        1.089797        0.774922                       0.34   \n",
       "\n",
       "    home_1_goals_poisson_prob  home_2_goals_poisson_prob  \\\n",
       "44                       0.33                       0.26   \n",
       "45                       0.37                       0.19   \n",
       "46                       0.36                       0.14   \n",
       "47                       0.32                       0.26   \n",
       "48                       0.37                       0.20   \n",
       "78                       0.37                       0.20   \n",
       "\n",
       "    home_3_goals_poisson_prob  home_4_goals_poisson_prob  \\\n",
       "44                       0.13                       0.05   \n",
       "45                       0.06                       0.02   \n",
       "46                       0.04                       0.01   \n",
       "47                       0.14                       0.05   \n",
       "48                       0.07                       0.02   \n",
       "78                       0.07                       0.02   \n",
       "\n",
       "    away_0_goals_poisson_prob  away_1_goals_poisson_prob  \\\n",
       "44                       0.31                       0.36   \n",
       "45                       0.33                       0.37   \n",
       "46                       0.36                       0.37   \n",
       "47                       0.49                       0.35   \n",
       "48                       0.12                       0.25   \n",
       "78                       0.46                       0.36   \n",
       "\n",
       "    away_2_goals_poisson_prob  away_3_goals_poisson_prob  \\\n",
       "44                       0.21                       0.08   \n",
       "45                       0.20                       0.07   \n",
       "46                       0.19                       0.07   \n",
       "47                       0.12                       0.03   \n",
       "48                       0.27                       0.19   \n",
       "78                       0.14                       0.04   \n",
       "\n",
       "    away_4_goals_poisson_prob  \n",
       "44                       0.02  \n",
       "45                       0.02  \n",
       "46                       0.02  \n",
       "47                       0.01  \n",
       "48                       0.10  \n",
       "78                       0.01  "
      ]
     },
     "execution_count": 52,
     "metadata": {},
     "output_type": "execute_result"
    }
   ],
   "source": [
    "# Keeping the necessary columns\n",
    "columns = ['date', 'time', 'Country', 'league', 'home', 'away',\n",
    "       'homegoals', 'awaygoals','L_GH_avg', 'L_GA_avg','sphgfavg', 'sphgagavg', 'spawgfavg',\n",
    "           'spawgagavg','poissonhomeavg', \n",
    "           'poissonawayavg','home_0_goals_poisson_prob', 'home_1_goals_poisson_prob',\n",
    "           'home_2_goals_poisson_prob','home_3_goals_poisson_prob','home_4_goals_poisson_prob',\n",
    "           'away_0_goals_poisson_prob','away_1_goals_poisson_prob','away_2_goals_poisson_prob',\n",
    "          'away_3_goals_poisson_prob', 'away_4_goals_poisson_prob']\n",
    "        \n",
    "\n",
    "# Creating a new dataset called sample, containing England Premier League games of 21st of January 2020\n",
    "sample = df[df['date'] == '21.01.2020']\n",
    "sample = sample[sample['league'] == 'Premier League 2019/2020']\n",
    "sample = sample[sample['Country'] == 'England']\n",
    "sample[columns]"
   ]
  },
  {
   "cell_type": "raw",
   "metadata": {},
   "source": [
    "Looking at  English Premier League matches, on 21st of January 2020, the probabilities for all the exact goals an opponent can score were calculated. For example, moving from left to right, on the first line, for the game Aston Villa vs Watford, the result was 2-1. On that day, the league home average (L_GH_avg) was, 1.48 goals, and the league away average (L_GA_avg) was 1.28. Home team was scoring 1.28 goals on average, was conceding 1.82 goals on average. The away team was scoring 0.82 goals on average(when playing as away team) and was conceding 1.82 goals on average(when playing as away team). The transformed mean for the home team was(poissonhomeavg) 1.561757  and respectively for the away team(poissonawayavg) was 1.165937.The rest columns, which are pretty self explanatory, are the Bivariate Poisson probabilities, for the exact home and away team goals.\n",
    "\n",
    "Aston Villa has 0.21 prob to score exactly 0 goals, 0.33 prob to score exactly 1, etc..\n",
    "Watford has 0.31 prob to score exactly 0 goals, 0.36 prob to score exactly 1, etc..\n",
    "\n",
    "From this point on, one could continue and create all the probabilities for all the possible final scores and potentially even consider the probability of placing a bet, if the odds allow so(if there is value in placing a bet).\n",
    "\n",
    "For demonstration reasons, let us use the top two exact goals probabilities of each opponent:\n",
    "\n",
    "For Aston Villa it is scoring 1 goal(0.33) and 2 goals(0.26).\n",
    "For Watford it is scoring 0 goals(0.31) and 1 goal(0.36)\n",
    "\n",
    "So the top 4 scores are:\n",
    "1-1 with a prob of 0.33 * 0.36  = 0.1188\n",
    "1-0 with a prob of 0.33 * 0.31  = 0.1023\n",
    "2-1 with a prob of 0.26 * 0.36  = 0.0936\n",
    "2-0 with a prob of 0.26 * 0.31  = 0.0806\n",
    "\n",
    "The game actually finished 2-1, so the third most probable score outcome was confirmed, but actually it means nothing in particular. One should validate the correct scores using a vaster number of games AND also, if convinced to bet on a game, to compare with the odds available, before placing a bet.\n",
    "\n",
    "Following the above procedure, one could calculate the probability of home wins( by adding the probabilities of all the scores that are a home win), draws, away wins, over 2.5 goals, over 3.5 goals, etc. , and have a decent probability guide to start with."
   ]
  },
  {
   "cell_type": "markdown",
   "metadata": {},
   "source": [
    "# BUT, THE REALITY IS THAT THE POISSON DISTRIBUTION, DOES NOT BEHAVE PERFECTLY"
   ]
  },
  {
   "cell_type": "raw",
   "metadata": {},
   "source": [
    "As already seen, especially for home team 0 goals and for the away team 0 and 1 goals, the probability and the reality, are far apart from one another, and the approach that will follow, although it might not seem solid statistically, will be to try and 'correct' the scatter plot, using linear or polynomial regression lines, and through this process, when the Poisson distribution falls apart from reality, the probability will be corrected towards the actual average outcome."
   ]
  },
  {
   "cell_type": "markdown",
   "metadata": {},
   "source": [
    "# Linear Regression Home Team 0 goals"
   ]
  },
  {
   "cell_type": "code",
   "execution_count": 53,
   "metadata": {},
   "outputs": [],
   "source": [
    "%%capture\n",
    "from sklearn.linear_model import LinearRegression\n",
    "from sklearn.linear_model import Ridge\n",
    "from sklearn.preprocessing import PolynomialFeatures\n",
    "\n",
    "\n",
    "groupbycol = 'home_0_goals_poisson_prob'\n",
    "a = df.groupby([groupbycol]).agg({'home_zero_goal' : [np.size,np.mean],  \n",
    "                                            }).reset_index()\n",
    "a.columns = a.columns.droplevel()\n",
    "a.columns = [groupbycol] + [ 'size','home_zero_goal_mean',  ]\n",
    "\n",
    "b = a[a['size'] > 50]\n",
    "b['home_zero_goal_mean'] = round(b['home_zero_goal_mean'],2)\n",
    "\n",
    "\n",
    "X = b['home_0_goals_poisson_prob'].values.reshape(-1,1)\n",
    "y = b['home_zero_goal_mean']\n",
    "linreg = LinearRegression().fit(X,y)\n",
    "\n",
    "print('linear model coeff (w): {}'\n",
    "     .format(linreg.coef_))\n",
    "print('linear model intercept (b): {:.3f}'\n",
    "     .format(linreg.intercept_))\n",
    "print('R-squared score (test): {:.3f}'\n",
    "     .format(linreg.score(X, y)))\n",
    "\n",
    "\n",
    "# Plotting your line with your initial dots\n",
    "\n",
    "line = linreg.intercept_ + linreg.coef_* X\n",
    "plt.plot(X,line, color = 'r')\n",
    "plt.plot([0,1],[0,1], 'g')\n",
    "plt.scatter(X, y)\n",
    "\n",
    "plt.title(groupbycol + ' linear regression')\n",
    "plt.xlabel(groupbycol)\n",
    "plt.ylabel('Reality - aggregated avg')\n",
    "plt.show()"
   ]
  },
  {
   "cell_type": "raw",
   "metadata": {},
   "source": [
    "On the above graph, the green line, would be the ideal scenario as previously discussed. The red line is a linear regression line, with 0.863 R square, that actually corrects the prementioned discrepancy."
   ]
  },
  {
   "cell_type": "markdown",
   "metadata": {},
   "source": [
    "# Polynomial Regression Home 0 goals"
   ]
  },
  {
   "cell_type": "code",
   "execution_count": 54,
   "metadata": {},
   "outputs": [],
   "source": [
    "%%capture\n",
    "groupbycol = 'home_0_goals_poisson_prob'\n",
    "a = df.groupby([groupbycol]).agg({'home_zero_goal' : [np.size,np.mean],  \n",
    "                                            }).reset_index()\n",
    "a.columns = a.columns.droplevel()\n",
    "a.columns = [groupbycol] + [ 'size','home_zero_goal_mean',  ]\n",
    "\n",
    "b = a[a['size'] > 50]\n",
    "b['home_zero_goal_mean'] = round(b['home_zero_goal_mean'],2)\n",
    "\n",
    "X = b['home_0_goals_poisson_prob'].values\n",
    "y = b['home_zero_goal_mean']\n",
    "\n",
    "\n",
    "\n",
    "from sklearn.preprocessing import PolynomialFeatures\n",
    "poly = PolynomialFeatures(degree=3) # opou edw dhlwneis thn dynamh toy polywnymoy sou\n",
    "\n",
    "\n",
    "\n",
    "\n",
    "Xpoly = poly.fit_transform(X.reshape(-1,1))\n",
    "\n",
    "\n",
    "linreg = LinearRegression().fit(Xpoly, y) \n",
    "\n",
    "print('(poly deg 3) linear model coeff (w):\\n{}'\n",
    "     .format(linreg.coef_))\n",
    "print('(poly deg 3) linear model intercept (b): {:.3f}'\n",
    "     .format(linreg.intercept_))\n",
    "# print('(poly deg 2) R-squared score (training): {:.3f}'\n",
    "#      .format(linreg.score(X_train, y_train)))\n",
    "print('(poly deg 3) R-squared score (test): {:.3f}\\n'\n",
    "     .format(linreg.score(Xpoly, y)))\n",
    "\n",
    "\n",
    "\n",
    "\n",
    "\n",
    "###########  CREATION OF THE ABOVE LINE\n",
    "# Creation of line, depending on the degree of polynom  selected, for this case , N = 3\n",
    "line = []\n",
    "for i in X:\n",
    "    Xcalc = linreg.coef_[1] * i + linreg.coef_[2]*i**2 + linreg.coef_[3]*i**3 + linreg.intercept_\n",
    "    line.append(Xcalc)\n",
    "\n",
    "\n",
    "\n",
    "\n",
    "plt.scatter( X,y )\n",
    "\n",
    "\n",
    "plt.plot(X, line, 'r-')\n",
    "\n",
    "\n",
    "plt.plot([0,1],[0,1], 'g')\n",
    "\n",
    "plt.title(groupbycol + ' polynomial regression')\n",
    "plt.xlabel(groupbycol)\n",
    "plt.ylabel('Reality - aggregated avg')\n",
    "plt.show()"
   ]
  },
  {
   "cell_type": "raw",
   "metadata": {},
   "source": [
    "On the above graph, the green line, again would be the ideal scenario. The red line is a polynomial third degree regression line, with 0.935 R square, that actually corrects the prementioned discrepancy.Will keep the polynomial 3rd degree regression line, to correct it."
   ]
  },
  {
   "cell_type": "markdown",
   "metadata": {},
   "source": [
    "# Linear Regression Home Team 1 goal"
   ]
  },
  {
   "cell_type": "code",
   "execution_count": 55,
   "metadata": {},
   "outputs": [
    {
     "name": "stdout",
     "output_type": "stream",
     "text": [
      "linear model coeff (w): [0.60550024]\n",
      "linear model intercept (b): 0.145\n",
      "R-squared score (test): 0.949\n"
     ]
    },
    {
     "data": {
      "image/png": "[encoded data removed]",
      "text/plain": [
       "<Figure size 432x288 with 1 Axes>"
      ]
     },
     "metadata": {
      "needs_background": "light"
     },
     "output_type": "display_data"
    }
   ],
   "source": [
    "from sklearn.linear_model import LinearRegression\n",
    "from sklearn.linear_model import Ridge\n",
    "from sklearn.preprocessing import PolynomialFeatures\n",
    "\n",
    "groupbycol = 'home_1_goals_poisson_prob'\n",
    "a = df.groupby([groupbycol]).agg({'home_one_goal' : [np.size,np.mean],  \n",
    "                                            }).reset_index()\n",
    "a.columns = a.columns.droplevel()\n",
    "a.columns = [groupbycol] + [ 'size','home_one_goal_mean',  ]\n",
    "\n",
    "b = a[a['size'] > 50]\n",
    "b['home_one_goal_mean'] = round(b['home_one_goal_mean'],2)\n",
    "\n",
    "# Removing an outlier \n",
    "b= b[b['home_1_goals_poisson_prob'] > 0]\n",
    "\n",
    "X = b['home_1_goals_poisson_prob'].values.reshape(-1,1)\n",
    "y = b['home_one_goal_mean']\n",
    "linreg = LinearRegression().fit(X,y)\n",
    "\n",
    "print('linear model coeff (w): {}'\n",
    "     .format(linreg.coef_))\n",
    "print('linear model intercept (b): {:.3f}'\n",
    "     .format(linreg.intercept_))\n",
    "print('R-squared score (test): {:.3f}'\n",
    "     .format(linreg.score(X, y)))\n",
    "\n",
    "\n",
    "# Plotting your line with your initial dots\n",
    "\n",
    "line = linreg.intercept_ + linreg.coef_* X\n",
    "plt.title(groupbycol + ' linear regression')\n",
    "plt.plot(X,line, color = 'r')\n",
    "plt.scatter(X, y)\n",
    "\n",
    "plt.xlabel(groupbycol)\n",
    "plt.ylabel('Reality - aggregated avg')\n",
    "\n",
    "plt.plot([0,1],[0,1], 'g')\n",
    "plt.xlim(0,0.6)\n",
    "plt.show()"
   ]
  },
  {
   "cell_type": "markdown",
   "metadata": {},
   "source": [
    "# Linear Regression Home Team 2 goals"
   ]
  },
  {
   "cell_type": "code",
   "execution_count": 56,
   "metadata": {},
   "outputs": [
    {
     "name": "stdout",
     "output_type": "stream",
     "text": [
      "linear model coeff (w): [0.34838533]\n",
      "linear model intercept (b): 0.159\n",
      "R-squared score (test): 0.885\n"
     ]
    },
    {
     "data": {
      "image/png": "[encoded data removed]",
      "text/plain": [
       "<Figure size 432x288 with 1 Axes>"
      ]
     },
     "metadata": {
      "needs_background": "light"
     },
     "output_type": "display_data"
    }
   ],
   "source": [
    "groupbycol = 'home_2_goals_poisson_prob'\n",
    "a = df.groupby([groupbycol]).agg({'home_two_goals' : [np.size,np.mean],  \n",
    "                                            }).reset_index()\n",
    "a.columns = a.columns.droplevel()\n",
    "a.columns = [groupbycol] + [ 'size','home_two_goals_mean',  ]\n",
    "\n",
    "b = a[a['size'] > 50]\n",
    "b['home_two_goals_mean'] = round(b['home_two_goals_mean'],2)\n",
    "\n",
    "X = b['home_2_goals_poisson_prob'].values.reshape(-1,1)\n",
    "y = b['home_two_goals_mean']\n",
    "\n",
    "linreg = LinearRegression().fit(X,y)\n",
    "\n",
    "print('linear model coeff (w): {}'\n",
    "     .format(linreg.coef_))\n",
    "print('linear model intercept (b): {:.3f}'\n",
    "     .format(linreg.intercept_))\n",
    "print('R-squared score (test): {:.3f}'\n",
    "     .format(linreg.score(X, y)))\n",
    "\n",
    "\n",
    "# Plotting your line with your initial dots\n",
    "\n",
    "line = linreg.intercept_ + linreg.coef_* X\n",
    "plt.title(groupbycol + ' linear regression')\n",
    "plt.plot(X,line, color = 'r')\n",
    "plt.scatter(X, y)\n",
    "plt.plot([0,1],[0,1], 'g')\n",
    "plt.xlim(0,0.4)\n",
    "plt.xlabel(groupbycol)\n",
    "plt.ylabel('Reality - aggregated avg')\n",
    "plt.show()"
   ]
  },
  {
   "cell_type": "markdown",
   "metadata": {},
   "source": [
    "# Linear Regression Home Team 3 goals"
   ]
  },
  {
   "cell_type": "code",
   "execution_count": 57,
   "metadata": {},
   "outputs": [
    {
     "name": "stdout",
     "output_type": "stream",
     "text": [
      "linear model coeff (w): [0.51284585]\n",
      "linear model intercept (b): 0.061\n",
      "R-squared score (test): 0.951\n"
     ]
    },
    {
     "data": {
      "image/png": "[encoded data removed]",
      "text/plain": [
       "<Figure size 432x288 with 1 Axes>"
      ]
     },
     "metadata": {
      "needs_background": "light"
     },
     "output_type": "display_data"
    }
   ],
   "source": [
    "groupbycol = 'home_3_goals_poisson_prob'\n",
    "a = df.groupby([groupbycol]).agg({'home_three_goals' : [np.size,np.mean],  \n",
    "                                            }).reset_index()\n",
    "a.columns = a.columns.droplevel()\n",
    "a.columns = [groupbycol] + [ 'size','home_three_goals_mean',  ]\n",
    "\n",
    "b = a[a['size'] > 50]\n",
    "b['home_three_goals_mean'] = round(b['home_three_goals_mean'],2)\n",
    "\n",
    "X = b['home_3_goals_poisson_prob'].values.reshape(-1,1)\n",
    "y = b['home_three_goals_mean']\n",
    "\n",
    "linreg = LinearRegression().fit(X,y)\n",
    "\n",
    "print('linear model coeff (w): {}'\n",
    "     .format(linreg.coef_))\n",
    "print('linear model intercept (b): {:.3f}'\n",
    "     .format(linreg.intercept_))\n",
    "print('R-squared score (test): {:.3f}'\n",
    "     .format(linreg.score(X, y)))\n",
    "\n",
    "\n",
    "# Plotting your line with your initial dots\n",
    "\n",
    "line = linreg.intercept_ + linreg.coef_* X\n",
    "plt.title(groupbycol + ' linear regression')\n",
    "plt.plot(X,line, color = 'r')\n",
    "plt.scatter(X, y)\n",
    "plt.plot([0,1],[0,1], 'g')\n",
    "plt.xlim(0,0.4)\n",
    "plt.xlabel(groupbycol)\n",
    "plt.ylabel('Reality - aggregated avg')\n",
    "plt.show()"
   ]
  },
  {
   "cell_type": "markdown",
   "metadata": {},
   "source": [
    "# Linear Regression Home Team 4 goals"
   ]
  },
  {
   "cell_type": "code",
   "execution_count": 58,
   "metadata": {},
   "outputs": [
    {
     "name": "stdout",
     "output_type": "stream",
     "text": [
      "linear model coeff (w): [0.56233766]\n",
      "linear model intercept (b): 0.020\n",
      "R-squared score (test): 0.964\n"
     ]
    },
    {
     "data": {
      "image/png": "[encoded data removed]",
      "text/plain": [
       "<Figure size 432x288 with 1 Axes>"
      ]
     },
     "metadata": {
      "needs_background": "light"
     },
     "output_type": "display_data"
    }
   ],
   "source": [
    "groupbycol = 'home_4_goals_poisson_prob'\n",
    "a = df.groupby([groupbycol]).agg({'home_four_goals' : [np.size,np.mean],  \n",
    "                                            }).reset_index()\n",
    "a.columns = a.columns.droplevel()\n",
    "a.columns = [groupbycol] + [ 'size','home_four_goals_mean',  ]\n",
    "\n",
    "b = a[a['size'] > 50]\n",
    "b['home_four_goals_mean'] = round(b['home_four_goals_mean'],2)\n",
    "\n",
    "X = b['home_4_goals_poisson_prob'].values.reshape(-1,1)\n",
    "y = b['home_four_goals_mean']\n",
    "\n",
    "linreg = LinearRegression().fit(X,y)\n",
    "\n",
    "print('linear model coeff (w): {}'\n",
    "     .format(linreg.coef_))\n",
    "print('linear model intercept (b): {:.3f}'\n",
    "     .format(linreg.intercept_))\n",
    "print('R-squared score (test): {:.3f}'\n",
    "     .format(linreg.score(X, y)))\n",
    "\n",
    "\n",
    "# Plotting your line with your initial dots\n",
    "\n",
    "line = linreg.intercept_ + linreg.coef_* X\n",
    "plt.title(groupbycol + ' linear regression')\n",
    "plt.plot(X,line, color = 'r')\n",
    "plt.scatter(X, y)\n",
    "plt.plot([0,1],[0,1], 'g')\n",
    "plt.xlim(0,0.3)\n",
    "plt.xlabel(groupbycol)\n",
    "plt.ylabel('Reality - aggregated avg')\n",
    "plt.show()"
   ]
  },
  {
   "cell_type": "markdown",
   "metadata": {},
   "source": [
    "# AWAY TEAM GOALS CORRECTIONS"
   ]
  },
  {
   "cell_type": "markdown",
   "metadata": {},
   "source": [
    "# Linear Regression Away Team 0 goals"
   ]
  },
  {
   "cell_type": "code",
   "execution_count": 70,
   "metadata": {},
   "outputs": [
    {
     "name": "stderr",
     "output_type": "stream",
     "text": [
      "<ipython-input-70-55ee3a30ff59>:8: SettingWithCopyWarning: \n",
      "A value is trying to be set on a copy of a slice from a DataFrame.\n",
      "Try using .loc[row_indexer,col_indexer] = value instead\n",
      "\n",
      "See the caveats in the documentation: https://pandas.pydata.org/pandas-docs/stable/user_guide/indexing.html#returning-a-view-versus-a-copy\n",
      "  b['away_zero_goals_mean'] = round(b['away_zero_goals_mean'],2)\n"
     ]
    },
    {
     "name": "stdout",
     "output_type": "stream",
     "text": [
      "linear model coeff (w): [0.3838303]\n",
      "linear model intercept (b): 0.171\n",
      "R-squared score (test): 0.909\n"
     ]
    },
    {
     "data": {
      "image/png": "[encoded data removed]",
      "text/plain": [
       "<Figure size 432x288 with 1 Axes>"
      ]
     },
     "metadata": {
      "needs_background": "light"
     },
     "output_type": "display_data"
    }
   ],
   "source": [
    "\n",
    "groupbycol = 'away_0_goals_poisson_prob'\n",
    "a = df.groupby([groupbycol]).agg({'away_zero_goals' : [np.size,np.mean],  \n",
    "                                            }).reset_index()\n",
    "a.columns = a.columns.droplevel()\n",
    "a.columns = [groupbycol] + [ 'size','away_zero_goals_mean',  ]\n",
    "\n",
    "b = a[a['size'] > 50]\n",
    "b['away_zero_goals_mean'] = round(b['away_zero_goals_mean'],2)\n",
    "\n",
    "X = b['away_0_goals_poisson_prob'].values.reshape(-1,1)\n",
    "y = b['away_zero_goals_mean']\n",
    "\n",
    "linreg = LinearRegression().fit(X,y)\n",
    "\n",
    "print('linear model coeff (w): {}'\n",
    "     .format(linreg.coef_))\n",
    "print('linear model intercept (b): {:.3f}'\n",
    "     .format(linreg.intercept_))\n",
    "print('R-squared score (test): {:.3f}'\n",
    "     .format(linreg.score(X, y)))\n",
    "\n",
    "\n",
    "# Plotting your line with your initial dots\n",
    "\n",
    "line = linreg.intercept_ + linreg.coef_* X\n",
    "plt.title(groupbycol + ' linear regression')\n",
    "plt.plot(X,line, color = 'r')\n",
    "plt.scatter(X, y)\n",
    "plt.plot([0,1],[0,1], 'g')\n",
    "plt.xlim(0,1)\n",
    "plt.xlabel(groupbycol)\n",
    "plt.ylabel('Reality - aggregated avg')\n",
    "plt.show()"
   ]
  },
  {
   "cell_type": "markdown",
   "metadata": {},
   "source": [
    "# Polynomial Regression Away Team 0 goals"
   ]
  },
  {
   "cell_type": "code",
   "execution_count": 60,
   "metadata": {},
   "outputs": [
    {
     "name": "stdout",
     "output_type": "stream",
     "text": [
      "(poly deg 2) linear model coeff (w):\n",
      "[ 0.          0.93287045 -0.95273605  0.43495828]\n",
      "(poly deg 2) linear model intercept (b): 0.104\n",
      "(poly deg 2) R-squared score (test): 0.956\n",
      "\n"
     ]
    },
    {
     "data": {
      "image/png": "[encoded data removed]",
      "text/plain": [
       "<Figure size 432x288 with 1 Axes>"
      ]
     },
     "metadata": {
      "needs_background": "light"
     },
     "output_type": "display_data"
    }
   ],
   "source": [
    "\n",
    "X = b['away_0_goals_poisson_prob'].values\n",
    "y = b['away_zero_goals_mean']\n",
    "\n",
    "\n",
    "\n",
    "\n",
    "from sklearn.preprocessing import PolynomialFeatures\n",
    "poly = PolynomialFeatures(degree=3) # opou edw dhlwneis thn dynamh toy polywnymoy sou\n",
    "\n",
    "\n",
    "\n",
    "\n",
    "\n",
    "Xpoly = poly.fit_transform(X.reshape(-1,1))\n",
    "\n",
    "\n",
    "linreg = LinearRegression().fit(Xpoly, y) \n",
    "\n",
    "print('(poly deg 2) linear model coeff (w):\\n{}'\n",
    "     .format(linreg.coef_))\n",
    "print('(poly deg 2) linear model intercept (b): {:.3f}'\n",
    "     .format(linreg.intercept_))\n",
    "# print('(poly deg 2) R-squared score (training): {:.3f}'\n",
    "#      .format(linreg.score(X_train, y_train)))\n",
    "print('(poly deg 2) R-squared score (test): {:.3f}\\n'\n",
    "     .format(linreg.score(Xpoly, y)))\n",
    "\n",
    "\n",
    "\n",
    "\n",
    "###########  CREATION OF THE ABOVE LINE\n",
    "# Creation of line, depending on the degree of polynom  selected, for this case , N = 3\n",
    "line = []\n",
    "for i in X:\n",
    "    Xcalc = linreg.coef_[1] * i + linreg.coef_[2]*i**2 + linreg.coef_[3]*i**3 + linreg.intercept_\n",
    "    line.append(Xcalc)\n",
    "\n",
    "\n",
    "\n",
    "\n",
    "\n",
    "\n",
    "\n",
    "plt.plot(X, line, 'r-')\n",
    "plt.title(groupbycol + ' polynomial regression')\n",
    "plt.plot(X,line, color = 'r')\n",
    "plt.scatter(X, y)\n",
    "plt.plot([0,1],[0,1], 'g')\n",
    "plt.xlim(0,1)\n",
    "plt.xlabel(groupbycol)\n",
    "plt.ylabel('Reality - aggregated avg')\n",
    "plt.show()"
   ]
  },
  {
   "cell_type": "raw",
   "metadata": {},
   "source": [
    "The 3rd degree polynomial regression was also a good fit, as depicted, with an R square of 0.952"
   ]
  },
  {
   "cell_type": "markdown",
   "metadata": {},
   "source": [
    "# Linear Regression Away Team 1 goal"
   ]
  },
  {
   "cell_type": "code",
   "execution_count": 72,
   "metadata": {
    "scrolled": false
   },
   "outputs": [
    {
     "name": "stderr",
     "output_type": "stream",
     "text": [
      "<ipython-input-72-7ca63fca4883>:8: SettingWithCopyWarning: \n",
      "A value is trying to be set on a copy of a slice from a DataFrame.\n",
      "Try using .loc[row_indexer,col_indexer] = value instead\n",
      "\n",
      "See the caveats in the documentation: https://pandas.pydata.org/pandas-docs/stable/user_guide/indexing.html#returning-a-view-versus-a-copy\n",
      "  b['away_one_goals_mean'] = round(b['away_one_goals_mean'],2)\n"
     ]
    },
    {
     "name": "stdout",
     "output_type": "stream",
     "text": [
      "linear model coeff (w): [0.43976834]\n",
      "linear model intercept (b): 0.213\n",
      "R-squared score (test): 0.820\n"
     ]
    },
    {
     "data": {
      "image/png": "[encoded data removed]",
      "text/plain": [
       "<Figure size 432x288 with 1 Axes>"
      ]
     },
     "metadata": {
      "needs_background": "light"
     },
     "output_type": "display_data"
    }
   ],
   "source": [
    "\n",
    "groupbycol = 'away_1_goals_poisson_prob'\n",
    "a = df.groupby([groupbycol]).agg({'away_one_goals' : [np.size,np.mean],  \n",
    "                                            }).reset_index()\n",
    "a.columns = a.columns.droplevel()\n",
    "a.columns = [groupbycol] + [ 'size','away_one_goals_mean',  ]\n",
    "\n",
    "b = a[a['size'] > 50]\n",
    "b['away_one_goals_mean'] = round(b['away_one_goals_mean'],2)\n",
    "\n",
    "\n",
    "\n",
    "\n",
    "# Removing the outlier at x = 0\n",
    "b = b[b['away_1_goals_poisson_prob'] > 0]\n",
    "\n",
    "X = b['away_1_goals_poisson_prob'].values.reshape(-1,1)\n",
    "y = b['away_one_goals_mean']\n",
    "linreg = LinearRegression().fit(X,y)\n",
    "\n",
    "print('linear model coeff (w): {}'\n",
    "     .format(linreg.coef_))\n",
    "print('linear model intercept (b): {:.3f}'\n",
    "     .format(linreg.intercept_))\n",
    "print('R-squared score (test): {:.3f}'\n",
    "     .format(linreg.score(X, y)))\n",
    "\n",
    "\n",
    "# Plotting your line with your initial dots\n",
    "\n",
    "line = linreg.intercept_ + linreg.coef_* X\n",
    "plt.title(groupbycol + ' linear regression')\n",
    "plt.plot(X,line, color = 'r')\n",
    "plt.scatter(X, y)\n",
    "plt.plot([0,1],[0,1], 'g')\n",
    "plt.xlim(0,0.5)\n",
    "plt.xlabel(groupbycol)\n",
    "plt.ylabel('Reality - aggregated avg')\n",
    "plt.show()"
   ]
  },
  {
   "cell_type": "raw",
   "metadata": {},
   "source": [
    "It seems that a polynomial regression curve will also be needed,to \"amend\" the dots, to fit onto a line, because of the low R square of 0.758"
   ]
  },
  {
   "cell_type": "markdown",
   "metadata": {},
   "source": [
    "# Polynomial Regression Away Team 1 goal"
   ]
  },
  {
   "cell_type": "code",
   "execution_count": 74,
   "metadata": {},
   "outputs": [
    {
     "name": "stderr",
     "output_type": "stream",
     "text": [
      "<ipython-input-74-9bf32ed2fd93>:8: SettingWithCopyWarning: \n",
      "A value is trying to be set on a copy of a slice from a DataFrame.\n",
      "Try using .loc[row_indexer,col_indexer] = value instead\n",
      "\n",
      "See the caveats in the documentation: https://pandas.pydata.org/pandas-docs/stable/user_guide/indexing.html#returning-a-view-versus-a-copy\n",
      "  b['away_one_goals_mean'] = round(b['away_one_goals_mean'],2)\n"
     ]
    },
    {
     "name": "stdout",
     "output_type": "stream",
     "text": [
      "(poly deg 3) linear model coeff (w):\n",
      "[ 0.          1.53932612 -4.96183731  6.25980502]\n",
      "(poly deg 3) linear model intercept (b): 0.155\n",
      "(poly deg 3) R-squared score (test): 0.894\n",
      "\n"
     ]
    },
    {
     "data": {
      "image/png": "[encoded data removed]",
      "text/plain": [
       "<Figure size 432x288 with 1 Axes>"
      ]
     },
     "metadata": {
      "needs_background": "light"
     },
     "output_type": "display_data"
    }
   ],
   "source": [
    "\n",
    "groupbycol = 'away_1_goals_poisson_prob'\n",
    "a = df.groupby([groupbycol]).agg({'away_one_goals' : [np.size,np.mean],  \n",
    "                                            }).reset_index()\n",
    "a.columns = a.columns.droplevel()\n",
    "a.columns = [groupbycol] + [ 'size','away_one_goals_mean',  ]\n",
    "\n",
    "b = a[a['size'] > 50]\n",
    "b['away_one_goals_mean'] = round(b['away_one_goals_mean'],2)\n",
    "\n",
    "\n",
    "\n",
    "\n",
    "# Removing the outlier at x = 0\n",
    "b = b[b['away_1_goals_poisson_prob'] > 0]\n",
    "X = b['away_1_goals_poisson_prob'].values\n",
    "y = b['away_one_goals_mean']\n",
    "\n",
    "\n",
    "\n",
    "\n",
    "from sklearn.preprocessing import PolynomialFeatures\n",
    "poly = PolynomialFeatures(degree=3) # opou edw dhlwneis thn dynamh toy polywnymoy sou\n",
    "\n",
    "\n",
    "\n",
    "\n",
    "\n",
    "Xpoly = poly.fit_transform(X.reshape(-1,1))\n",
    "\n",
    "\n",
    "linreg = LinearRegression().fit(Xpoly, y) \n",
    "\n",
    "print('(poly deg 3) linear model coeff (w):\\n{}'\n",
    "     .format(linreg.coef_))\n",
    "print('(poly deg 3) linear model intercept (b): {:.3f}'\n",
    "     .format(linreg.intercept_))\n",
    "# print('(poly deg 2) R-squared score (training): {:.3f}'\n",
    "#      .format(linreg.score(X_train, y_train)))\n",
    "print('(poly deg 3) R-squared score (test): {:.3f}\\n'\n",
    "     .format(linreg.score(Xpoly, y)))\n",
    "\n",
    "\n",
    "\n",
    "\n",
    "###########  CREATION OF THE ABOVE LINE\n",
    "# Creation of line, depending on the degree of polynom  selected, for this case , N = 3\n",
    "line = []\n",
    "for i in X:\n",
    "    Xcalc = linreg.coef_[1] * i + linreg.coef_[2]*i**2 + linreg.coef_[3]*i**3 + linreg.intercept_\n",
    "    line.append(Xcalc)\n",
    "\n",
    "\n",
    "\n",
    "\n",
    "\n",
    "plt.plot(X, line, 'r-')\n",
    "\n",
    "\n",
    "plt.title(groupbycol + ' polynomial regression')\n",
    "plt.plot(X,line, color = 'r')\n",
    "plt.scatter(X, y)\n",
    "plt.plot([0,1],[0,1], 'g')\n",
    "plt.xlim(0,0.5)\n",
    "plt.xlabel(groupbycol)\n",
    "plt.ylabel('Reality - aggregated avg')\n",
    "plt.show()"
   ]
  },
  {
   "cell_type": "markdown",
   "metadata": {},
   "source": [
    "# Linear Regression Away Team 2 goals"
   ]
  },
  {
   "cell_type": "code",
   "execution_count": 75,
   "metadata": {},
   "outputs": [
    {
     "name": "stdout",
     "output_type": "stream",
     "text": [
      "linear model coeff (w): [0.42309797]\n",
      "linear model intercept (b): 0.122\n",
      "R-squared score (test): 0.951\n"
     ]
    },
    {
     "data": {
      "image/png": "[encoded data removed]",
      "text/plain": [
       "<Figure size 432x288 with 1 Axes>"
      ]
     },
     "metadata": {
      "needs_background": "light"
     },
     "output_type": "display_data"
    }
   ],
   "source": [
    "groupbycol = 'away_2_goals_poisson_prob'\n",
    "a = df.groupby([groupbycol]).agg({'away_two_goals' : [np.size,np.mean],  \n",
    "                                            }).reset_index()\n",
    "a.columns = a.columns.droplevel()\n",
    "a.columns = [groupbycol] + [ 'size','away_two_goals_mean',  ]\n",
    "\n",
    "b = a[a['size'] > 50]\n",
    "b['away_two_goals_mean'] = round(b['away_two_goals_mean'],2)\n",
    "\n",
    "X = b['away_2_goals_poisson_prob'].values.reshape(-1,1)\n",
    "y = b['away_two_goals_mean']\n",
    "linreg = LinearRegression().fit(X,y)\n",
    "\n",
    "print('linear model coeff (w): {}'\n",
    "     .format(linreg.coef_))\n",
    "print('linear model intercept (b): {:.3f}'\n",
    "     .format(linreg.intercept_))\n",
    "print('R-squared score (test): {:.3f}'\n",
    "     .format(linreg.score(X, y)))\n",
    "\n",
    "\n",
    "# Plotting your line with your initial dots\n",
    "\n",
    "line = linreg.intercept_ + linreg.coef_* X\n",
    "plt.title(groupbycol + ' linear regression')\n",
    "plt.plot(X,line, color = 'r')\n",
    "plt.scatter(X, y)\n",
    "plt.plot([0,1],[0,1], 'g')\n",
    "plt.xlim(0,0.4)\n",
    "plt.xlabel(groupbycol)\n",
    "plt.ylabel('Reality - aggregated avg')\n",
    "plt.show()"
   ]
  },
  {
   "cell_type": "markdown",
   "metadata": {},
   "source": [
    "# Linear Regression Away Team 3 goals"
   ]
  },
  {
   "cell_type": "code",
   "execution_count": 76,
   "metadata": {},
   "outputs": [
    {
     "name": "stdout",
     "output_type": "stream",
     "text": [
      "linear model coeff (w): [0.49901186]\n",
      "linear model intercept (b): 0.044\n",
      "R-squared score (test): 0.960\n"
     ]
    },
    {
     "data": {
      "image/png": "[encoded data removed]",
      "text/plain": [
       "<Figure size 432x288 with 1 Axes>"
      ]
     },
     "metadata": {
      "needs_background": "light"
     },
     "output_type": "display_data"
    }
   ],
   "source": [
    "groupbycol = 'away_3_goals_poisson_prob'\n",
    "a = df.groupby([groupbycol]).agg({'away_three_goals' : [np.size,np.mean],  \n",
    "                                            }).reset_index()\n",
    "a.columns = a.columns.droplevel()\n",
    "a.columns = [groupbycol] + [ 'size','away_three_goals_mean',  ]\n",
    "\n",
    "b = a[a['size'] > 50]\n",
    "b['away_three_goals_mean'] = round(b['away_three_goals_mean'],2)\n",
    "\n",
    "X = b['away_3_goals_poisson_prob'].values.reshape(-1,1)\n",
    "y = b['away_three_goals_mean']\n",
    "linreg = LinearRegression().fit(X,y)\n",
    "\n",
    "print('linear model coeff (w): {}'\n",
    "     .format(linreg.coef_))\n",
    "print('linear model intercept (b): {:.3f}'\n",
    "     .format(linreg.intercept_))\n",
    "print('R-squared score (test): {:.3f}'\n",
    "     .format(linreg.score(X, y)))\n",
    "\n",
    "\n",
    "# Plotting your line with your initial dots\n",
    "\n",
    "line = linreg.intercept_ + linreg.coef_* X\n",
    "plt.title(groupbycol + ' linear regression')\n",
    "plt.plot(X,line, color = 'r')\n",
    "plt.scatter(X, y)\n",
    "plt.plot([0,1],[0,1], 'g')\n",
    "plt.xlim(0,0.3)\n",
    "plt.xlabel(groupbycol)\n",
    "plt.ylabel('Reality - aggregated avg')\n",
    "plt.show()"
   ]
  },
  {
   "cell_type": "markdown",
   "metadata": {},
   "source": [
    "# Linear Regression Away Team 4 goals"
   ]
  },
  {
   "cell_type": "code",
   "execution_count": 77,
   "metadata": {},
   "outputs": [
    {
     "name": "stdout",
     "output_type": "stream",
     "text": [
      "linear model coeff (w): [0.52727273]\n",
      "linear model intercept (b): 0.011\n",
      "R-squared score (test): 0.896\n"
     ]
    },
    {
     "data": {
      "image/png": "[encoded data removed]",
      "text/plain": [
       "<Figure size 432x288 with 1 Axes>"
      ]
     },
     "metadata": {
      "needs_background": "light"
     },
     "output_type": "display_data"
    }
   ],
   "source": [
    "groupbycol = 'away_4_goals_poisson_prob'\n",
    "a = df.groupby([groupbycol]).agg({'away_four_goals' : [np.size,np.mean],  \n",
    "                                            }).reset_index()\n",
    "a.columns = a.columns.droplevel()\n",
    "a.columns = [groupbycol] + [ 'size','away_four_goals_mean',  ]\n",
    "\n",
    "b = a[a['size'] > 50]\n",
    "b['away_four_goals_mean'] = round(b['away_four_goals_mean'],2)\n",
    "\n",
    "X = b['away_4_goals_poisson_prob'].values.reshape(-1,1)\n",
    "y = b['away_four_goals_mean']\n",
    "linreg = LinearRegression().fit(X,y)\n",
    "\n",
    "print('linear model coeff (w): {}'\n",
    "     .format(linreg.coef_))\n",
    "print('linear model intercept (b): {:.3f}'\n",
    "     .format(linreg.intercept_))\n",
    "print('R-squared score (test): {:.3f}'\n",
    "     .format(linreg.score(X, y)))\n",
    "\n",
    "\n",
    "# Plotting your line with your initial dots\n",
    "\n",
    "line = linreg.intercept_ + linreg.coef_* X\n",
    "plt.title(groupbycol + ' linear regression')\n",
    "plt.plot(X,line, color = 'r')\n",
    "plt.scatter(X, y)\n",
    "plt.plot([0,1],[0,1], 'g')\n",
    "plt.xlim(0,0.3)\n",
    "plt.xlabel(groupbycol)\n",
    "plt.ylabel('Reality - aggregated avg')\n",
    "plt.show()"
   ]
  },
  {
   "cell_type": "markdown",
   "metadata": {},
   "source": [
    "# COMMENTS ON THE CORRECTIONS"
   ]
  },
  {
   "cell_type": "raw",
   "metadata": {},
   "source": [
    "In all the above graphs,  the best fit of the blue scatter plot dots was created, using linear or polynomial regression. One can closely have a look at each case, and come to his personal conclusions, but generally speaking,\n",
    "the Poisson distribution works fine when it predicts the probabilities for high goal numbers( 3+) whereas as we move inversely towards 0, it starts to be imprecise."
   ]
  },
  {
   "cell_type": "markdown",
   "metadata": {},
   "source": [
    "# EFFORT TO PREDICT THE DRAWS"
   ]
  },
  {
   "cell_type": "raw",
   "metadata": {},
   "source": [
    "Further on, moving to the creation of the probabilities for all the possible draw scores, meaning 0-0, 1-1, 2-2, 3-3, 4-4, and then by adding all the probabilities, creating a column for the probability of a draw, and performing analytics, to decide how succesfull is the Bivariate Poisson distribution on predicting the draws."
   ]
  },
  {
   "cell_type": "code",
   "execution_count": 78,
   "metadata": {},
   "outputs": [],
   "source": [
    "%%capture\n",
    "df['0-0'] = df['home_0_goals_poisson_prob']  *  df['away_0_goals_poisson_prob']\n",
    "\n",
    "df['1-1'] = df['home_1_goals_poisson_prob']  *  df['away_1_goals_poisson_prob']\n",
    "\n",
    "df['2-2'] = df['home_2_goals_poisson_prob']  *  df['away_2_goals_poisson_prob']\n",
    "\n",
    "df['3-3'] = df['home_3_goals_poisson_prob']  *  df['away_3_goals_poisson_prob']\n",
    "\n",
    "df['4-4'] = df['home_4_goals_poisson_prob']  *  df['away_4_goals_poisson_prob']\n",
    "\n",
    "# Creation of draw probability\n",
    "df['draw_prob'] = df['0-0'] + df['1-1'] + df['2-2'] + df['3-3'] + df['4-4']\n",
    "\n",
    "# Rounding in two decimals\n",
    "df['draw_prob'] = round(df['draw_prob'], 2)"
   ]
  },
  {
   "cell_type": "code",
   "execution_count": 80,
   "metadata": {},
   "outputs": [],
   "source": [
    "%%capture\n",
    "# Creation of draw column\n",
    "\n",
    "df['draw'] =  np.where((df['homegoals'] == df['awaygoals']),1,0)"
   ]
  },
  {
   "cell_type": "markdown",
   "metadata": {},
   "source": [
    "# Aggregation"
   ]
  },
  {
   "cell_type": "code",
   "execution_count": 82,
   "metadata": {},
   "outputs": [
    {
     "name": "stderr",
     "output_type": "stream",
     "text": [
      "<ipython-input-82-08341b5ae8c9>:8: SettingWithCopyWarning: \n",
      "A value is trying to be set on a copy of a slice from a DataFrame.\n",
      "Try using .loc[row_indexer,col_indexer] = value instead\n",
      "\n",
      "See the caveats in the documentation: https://pandas.pydata.org/pandas-docs/stable/user_guide/indexing.html#returning-a-view-versus-a-copy\n",
      "  b['draw_mean'] = round(b['draw_mean'],2)\n"
     ]
    },
    {
     "data": {
      "image/png": "[encoded data removed]",
      "text/plain": [
       "<Figure size 432x288 with 1 Axes>"
      ]
     },
     "metadata": {
      "needs_background": "light"
     },
     "output_type": "display_data"
    }
   ],
   "source": [
    "\n",
    "groupbycol = 'draw_prob'\n",
    "a = df.groupby([groupbycol]).agg({'draw' : [np.size,np.mean],  \n",
    "                                            }).reset_index()\n",
    "a.columns = a.columns.droplevel()\n",
    "a.columns = [groupbycol] + [ 'size','draw_mean',  ]\n",
    "\n",
    "b = a[a['size'] > 50]\n",
    "b['draw_mean'] = round(b['draw_mean'],2)\n",
    "\n",
    "plt.scatter(x = b[groupbycol], y = b['draw_mean'])\n",
    "\n",
    "plt.title('DRAW')\n",
    "plt.xlabel('Poisson Draw Prediction')\n",
    "plt.ylabel('Reality - aggregated avg')\n",
    "plt.xlim(0, 0.7)\n",
    "plt.plot([0,1],[0,1], 'r')\n",
    "plt.show()\n",
    "plt.show()\n"
   ]
  },
  {
   "cell_type": "raw",
   "metadata": {},
   "source": [
    "As a first comment one can see that there is  underestimation of the probability of the draw up till the area of 0.20 and moving forward to probabilities greater than 0.305 there's overestimation of the probability of a draw. An extra comment is that, the probability of the draw, converges to the max value of 0.30, after the benchmark of x = 0.3.\n",
    "In other word, if the poisson prabability is 0.35 or 0.45, the reality is that, both numbers actually correspond to a 30% probablity."
   ]
  },
  {
   "cell_type": "markdown",
   "metadata": {},
   "source": [
    "# Distribution of draw probability"
   ]
  },
  {
   "cell_type": "code",
   "execution_count": 83,
   "metadata": {},
   "outputs": [
    {
     "data": {
      "image/png": "[encoded data removed]",
      "text/plain": [
       "<Figure size 432x288 with 1 Axes>"
      ]
     },
     "metadata": {
      "needs_background": "light"
     },
     "output_type": "display_data"
    }
   ],
   "source": [
    "sns.distplot(df['draw_prob'],kde=False)\n",
    "plt.title('Distribution of draw_prob')\n",
    "plt.show()"
   ]
  },
  {
   "cell_type": "raw",
   "metadata": {},
   "source": [
    "A second comment is that it seems the draw probabilities, follow a normal distribution."
   ]
  },
  {
   "cell_type": "markdown",
   "metadata": {},
   "source": [
    "# The full matrix of the probabilities with the N(size) of observations and the aggregated avg"
   ]
  },
  {
   "cell_type": "code",
   "execution_count": 84,
   "metadata": {
    "scrolled": false
   },
   "outputs": [
    {
     "data": {
      "text/html": [
       "<div>\n",
       "<style scoped>\n",
       "    .dataframe tbody tr th:only-of-type {\n",
       "        vertical-align: middle;\n",
       "    }\n",
       "\n",
       "    .dataframe tbody tr th {\n",
       "        vertical-align: top;\n",
       "    }\n",
       "\n",
       "    .dataframe thead th {\n",
       "        text-align: right;\n",
       "    }\n",
       "</style>\n",
       "<table border=\"1\" class=\"dataframe\">\n",
       "  <thead>\n",
       "    <tr style=\"text-align: right;\">\n",
       "      <th></th>\n",
       "      <th>draw_prob</th>\n",
       "      <th>size</th>\n",
       "      <th>draw_mean</th>\n",
       "    </tr>\n",
       "  </thead>\n",
       "  <tbody>\n",
       "    <tr>\n",
       "      <th>0</th>\n",
       "      <td>0.00</td>\n",
       "      <td>110</td>\n",
       "      <td>0.07</td>\n",
       "    </tr>\n",
       "    <tr>\n",
       "      <th>1</th>\n",
       "      <td>0.01</td>\n",
       "      <td>152</td>\n",
       "      <td>0.09</td>\n",
       "    </tr>\n",
       "    <tr>\n",
       "      <th>2</th>\n",
       "      <td>0.02</td>\n",
       "      <td>302</td>\n",
       "      <td>0.08</td>\n",
       "    </tr>\n",
       "    <tr>\n",
       "      <th>3</th>\n",
       "      <td>0.03</td>\n",
       "      <td>378</td>\n",
       "      <td>0.11</td>\n",
       "    </tr>\n",
       "    <tr>\n",
       "      <th>4</th>\n",
       "      <td>0.04</td>\n",
       "      <td>455</td>\n",
       "      <td>0.11</td>\n",
       "    </tr>\n",
       "    <tr>\n",
       "      <th>5</th>\n",
       "      <td>0.05</td>\n",
       "      <td>576</td>\n",
       "      <td>0.11</td>\n",
       "    </tr>\n",
       "    <tr>\n",
       "      <th>6</th>\n",
       "      <td>0.06</td>\n",
       "      <td>695</td>\n",
       "      <td>0.14</td>\n",
       "    </tr>\n",
       "    <tr>\n",
       "      <th>7</th>\n",
       "      <td>0.07</td>\n",
       "      <td>821</td>\n",
       "      <td>0.15</td>\n",
       "    </tr>\n",
       "    <tr>\n",
       "      <th>8</th>\n",
       "      <td>0.08</td>\n",
       "      <td>916</td>\n",
       "      <td>0.18</td>\n",
       "    </tr>\n",
       "    <tr>\n",
       "      <th>9</th>\n",
       "      <td>0.09</td>\n",
       "      <td>1158</td>\n",
       "      <td>0.16</td>\n",
       "    </tr>\n",
       "    <tr>\n",
       "      <th>10</th>\n",
       "      <td>0.10</td>\n",
       "      <td>1251</td>\n",
       "      <td>0.16</td>\n",
       "    </tr>\n",
       "    <tr>\n",
       "      <th>11</th>\n",
       "      <td>0.11</td>\n",
       "      <td>1372</td>\n",
       "      <td>0.18</td>\n",
       "    </tr>\n",
       "    <tr>\n",
       "      <th>12</th>\n",
       "      <td>0.12</td>\n",
       "      <td>1731</td>\n",
       "      <td>0.18</td>\n",
       "    </tr>\n",
       "    <tr>\n",
       "      <th>13</th>\n",
       "      <td>0.13</td>\n",
       "      <td>1862</td>\n",
       "      <td>0.18</td>\n",
       "    </tr>\n",
       "    <tr>\n",
       "      <th>14</th>\n",
       "      <td>0.14</td>\n",
       "      <td>2157</td>\n",
       "      <td>0.19</td>\n",
       "    </tr>\n",
       "    <tr>\n",
       "      <th>15</th>\n",
       "      <td>0.15</td>\n",
       "      <td>2573</td>\n",
       "      <td>0.20</td>\n",
       "    </tr>\n",
       "    <tr>\n",
       "      <th>16</th>\n",
       "      <td>0.16</td>\n",
       "      <td>2939</td>\n",
       "      <td>0.19</td>\n",
       "    </tr>\n",
       "    <tr>\n",
       "      <th>17</th>\n",
       "      <td>0.17</td>\n",
       "      <td>3271</td>\n",
       "      <td>0.21</td>\n",
       "    </tr>\n",
       "    <tr>\n",
       "      <th>18</th>\n",
       "      <td>0.18</td>\n",
       "      <td>4103</td>\n",
       "      <td>0.21</td>\n",
       "    </tr>\n",
       "    <tr>\n",
       "      <th>19</th>\n",
       "      <td>0.19</td>\n",
       "      <td>4605</td>\n",
       "      <td>0.23</td>\n",
       "    </tr>\n",
       "    <tr>\n",
       "      <th>20</th>\n",
       "      <td>0.20</td>\n",
       "      <td>5588</td>\n",
       "      <td>0.24</td>\n",
       "    </tr>\n",
       "    <tr>\n",
       "      <th>21</th>\n",
       "      <td>0.21</td>\n",
       "      <td>6199</td>\n",
       "      <td>0.24</td>\n",
       "    </tr>\n",
       "    <tr>\n",
       "      <th>22</th>\n",
       "      <td>0.22</td>\n",
       "      <td>6633</td>\n",
       "      <td>0.24</td>\n",
       "    </tr>\n",
       "    <tr>\n",
       "      <th>23</th>\n",
       "      <td>0.23</td>\n",
       "      <td>7407</td>\n",
       "      <td>0.24</td>\n",
       "    </tr>\n",
       "    <tr>\n",
       "      <th>24</th>\n",
       "      <td>0.24</td>\n",
       "      <td>6971</td>\n",
       "      <td>0.25</td>\n",
       "    </tr>\n",
       "    <tr>\n",
       "      <th>25</th>\n",
       "      <td>0.25</td>\n",
       "      <td>6707</td>\n",
       "      <td>0.27</td>\n",
       "    </tr>\n",
       "    <tr>\n",
       "      <th>26</th>\n",
       "      <td>0.26</td>\n",
       "      <td>6687</td>\n",
       "      <td>0.27</td>\n",
       "    </tr>\n",
       "    <tr>\n",
       "      <th>27</th>\n",
       "      <td>0.27</td>\n",
       "      <td>6152</td>\n",
       "      <td>0.27</td>\n",
       "    </tr>\n",
       "    <tr>\n",
       "      <th>28</th>\n",
       "      <td>0.28</td>\n",
       "      <td>5515</td>\n",
       "      <td>0.27</td>\n",
       "    </tr>\n",
       "    <tr>\n",
       "      <th>29</th>\n",
       "      <td>0.29</td>\n",
       "      <td>4502</td>\n",
       "      <td>0.28</td>\n",
       "    </tr>\n",
       "    <tr>\n",
       "      <th>30</th>\n",
       "      <td>0.30</td>\n",
       "      <td>4450</td>\n",
       "      <td>0.28</td>\n",
       "    </tr>\n",
       "    <tr>\n",
       "      <th>31</th>\n",
       "      <td>0.31</td>\n",
       "      <td>3398</td>\n",
       "      <td>0.28</td>\n",
       "    </tr>\n",
       "    <tr>\n",
       "      <th>32</th>\n",
       "      <td>0.32</td>\n",
       "      <td>2926</td>\n",
       "      <td>0.30</td>\n",
       "    </tr>\n",
       "    <tr>\n",
       "      <th>33</th>\n",
       "      <td>0.33</td>\n",
       "      <td>2430</td>\n",
       "      <td>0.28</td>\n",
       "    </tr>\n",
       "    <tr>\n",
       "      <th>34</th>\n",
       "      <td>0.34</td>\n",
       "      <td>2155</td>\n",
       "      <td>0.30</td>\n",
       "    </tr>\n",
       "    <tr>\n",
       "      <th>35</th>\n",
       "      <td>0.35</td>\n",
       "      <td>1755</td>\n",
       "      <td>0.29</td>\n",
       "    </tr>\n",
       "    <tr>\n",
       "      <th>36</th>\n",
       "      <td>0.36</td>\n",
       "      <td>1447</td>\n",
       "      <td>0.29</td>\n",
       "    </tr>\n",
       "    <tr>\n",
       "      <th>37</th>\n",
       "      <td>0.37</td>\n",
       "      <td>1215</td>\n",
       "      <td>0.31</td>\n",
       "    </tr>\n",
       "    <tr>\n",
       "      <th>38</th>\n",
       "      <td>0.38</td>\n",
       "      <td>1014</td>\n",
       "      <td>0.31</td>\n",
       "    </tr>\n",
       "    <tr>\n",
       "      <th>39</th>\n",
       "      <td>0.39</td>\n",
       "      <td>850</td>\n",
       "      <td>0.30</td>\n",
       "    </tr>\n",
       "    <tr>\n",
       "      <th>40</th>\n",
       "      <td>0.40</td>\n",
       "      <td>695</td>\n",
       "      <td>0.28</td>\n",
       "    </tr>\n",
       "    <tr>\n",
       "      <th>41</th>\n",
       "      <td>0.41</td>\n",
       "      <td>568</td>\n",
       "      <td>0.28</td>\n",
       "    </tr>\n",
       "    <tr>\n",
       "      <th>42</th>\n",
       "      <td>0.42</td>\n",
       "      <td>521</td>\n",
       "      <td>0.32</td>\n",
       "    </tr>\n",
       "    <tr>\n",
       "      <th>43</th>\n",
       "      <td>0.43</td>\n",
       "      <td>372</td>\n",
       "      <td>0.34</td>\n",
       "    </tr>\n",
       "    <tr>\n",
       "      <th>44</th>\n",
       "      <td>0.44</td>\n",
       "      <td>331</td>\n",
       "      <td>0.34</td>\n",
       "    </tr>\n",
       "    <tr>\n",
       "      <th>45</th>\n",
       "      <td>0.45</td>\n",
       "      <td>262</td>\n",
       "      <td>0.27</td>\n",
       "    </tr>\n",
       "    <tr>\n",
       "      <th>46</th>\n",
       "      <td>0.46</td>\n",
       "      <td>256</td>\n",
       "      <td>0.23</td>\n",
       "    </tr>\n",
       "    <tr>\n",
       "      <th>47</th>\n",
       "      <td>0.47</td>\n",
       "      <td>158</td>\n",
       "      <td>0.25</td>\n",
       "    </tr>\n",
       "    <tr>\n",
       "      <th>48</th>\n",
       "      <td>0.48</td>\n",
       "      <td>136</td>\n",
       "      <td>0.35</td>\n",
       "    </tr>\n",
       "    <tr>\n",
       "      <th>49</th>\n",
       "      <td>0.49</td>\n",
       "      <td>138</td>\n",
       "      <td>0.33</td>\n",
       "    </tr>\n",
       "    <tr>\n",
       "      <th>50</th>\n",
       "      <td>0.50</td>\n",
       "      <td>115</td>\n",
       "      <td>0.30</td>\n",
       "    </tr>\n",
       "    <tr>\n",
       "      <th>51</th>\n",
       "      <td>0.51</td>\n",
       "      <td>96</td>\n",
       "      <td>0.23</td>\n",
       "    </tr>\n",
       "    <tr>\n",
       "      <th>52</th>\n",
       "      <td>0.52</td>\n",
       "      <td>81</td>\n",
       "      <td>0.23</td>\n",
       "    </tr>\n",
       "    <tr>\n",
       "      <th>53</th>\n",
       "      <td>0.53</td>\n",
       "      <td>80</td>\n",
       "      <td>0.22</td>\n",
       "    </tr>\n",
       "    <tr>\n",
       "      <th>55</th>\n",
       "      <td>0.55</td>\n",
       "      <td>61</td>\n",
       "      <td>0.38</td>\n",
       "    </tr>\n",
       "    <tr>\n",
       "      <th>56</th>\n",
       "      <td>0.56</td>\n",
       "      <td>56</td>\n",
       "      <td>0.36</td>\n",
       "    </tr>\n",
       "  </tbody>\n",
       "</table>\n",
       "</div>"
      ],
      "text/plain": [
       "    draw_prob  size  draw_mean\n",
       "0        0.00   110       0.07\n",
       "1        0.01   152       0.09\n",
       "2        0.02   302       0.08\n",
       "3        0.03   378       0.11\n",
       "4        0.04   455       0.11\n",
       "5        0.05   576       0.11\n",
       "6        0.06   695       0.14\n",
       "7        0.07   821       0.15\n",
       "8        0.08   916       0.18\n",
       "9        0.09  1158       0.16\n",
       "10       0.10  1251       0.16\n",
       "11       0.11  1372       0.18\n",
       "12       0.12  1731       0.18\n",
       "13       0.13  1862       0.18\n",
       "14       0.14  2157       0.19\n",
       "15       0.15  2573       0.20\n",
       "16       0.16  2939       0.19\n",
       "17       0.17  3271       0.21\n",
       "18       0.18  4103       0.21\n",
       "19       0.19  4605       0.23\n",
       "20       0.20  5588       0.24\n",
       "21       0.21  6199       0.24\n",
       "22       0.22  6633       0.24\n",
       "23       0.23  7407       0.24\n",
       "24       0.24  6971       0.25\n",
       "25       0.25  6707       0.27\n",
       "26       0.26  6687       0.27\n",
       "27       0.27  6152       0.27\n",
       "28       0.28  5515       0.27\n",
       "29       0.29  4502       0.28\n",
       "30       0.30  4450       0.28\n",
       "31       0.31  3398       0.28\n",
       "32       0.32  2926       0.30\n",
       "33       0.33  2430       0.28\n",
       "34       0.34  2155       0.30\n",
       "35       0.35  1755       0.29\n",
       "36       0.36  1447       0.29\n",
       "37       0.37  1215       0.31\n",
       "38       0.38  1014       0.31\n",
       "39       0.39   850       0.30\n",
       "40       0.40   695       0.28\n",
       "41       0.41   568       0.28\n",
       "42       0.42   521       0.32\n",
       "43       0.43   372       0.34\n",
       "44       0.44   331       0.34\n",
       "45       0.45   262       0.27\n",
       "46       0.46   256       0.23\n",
       "47       0.47   158       0.25\n",
       "48       0.48   136       0.35\n",
       "49       0.49   138       0.33\n",
       "50       0.50   115       0.30\n",
       "51       0.51    96       0.23\n",
       "52       0.52    81       0.23\n",
       "53       0.53    80       0.22\n",
       "55       0.55    61       0.38\n",
       "56       0.56    56       0.36"
      ]
     },
     "execution_count": 84,
     "metadata": {},
     "output_type": "execute_result"
    }
   ],
   "source": [
    "b"
   ]
  },
  {
   "cell_type": "markdown",
   "metadata": {},
   "source": [
    "# CORRECTED DRAW PROBABILITIES SECTOR"
   ]
  },
  {
   "cell_type": "raw",
   "metadata": {},
   "source": [
    "By using the previously calculated linear or polynomial regressions, the corrected probabilities for the above scores are calculated, and recreation of the graph is done, hopefully noticing a better representation of the reality."
   ]
  },
  {
   "cell_type": "code",
   "execution_count": 85,
   "metadata": {},
   "outputs": [],
   "source": [
    "%%capture\n",
    "df['home0goalscorrected'] = 0.083 + 0.66293381 * df['home_0_goals_poisson_prob'] -0.29706873 * df['home_0_goals_poisson_prob']**2 -0.07378268* df['home_0_goals_poisson_prob']**3 "
   ]
  },
  {
   "cell_type": "code",
   "execution_count": 86,
   "metadata": {
    "scrolled": true
   },
   "outputs": [],
   "source": [
    "%%capture\n",
    "df['home1goalscorrected'] = 0.159 + 0.56448554 * df['home_1_goals_poisson_prob']\n",
    "df['home2goalscorrected'] = 0.163 + 0.33004926 * df['home_2_goals_poisson_prob']\n",
    "df['home3goalscorrected'] = 0.065 + 0.49110672 * df['home_3_goals_poisson_prob']\n",
    "df['home4goalscorrected'] = 0.022 + 0.54025974 * df['home_4_goals_poisson_prob']"
   ]
  },
  {
   "cell_type": "code",
   "execution_count": 87,
   "metadata": {},
   "outputs": [],
   "source": [
    "%%capture\n",
    "df['away0goalscorrected'] = 0.115 + 0.83848732 * df['away_0_goals_poisson_prob'] -0.73197347 * df['away_0_goals_poisson_prob']**2  + 0.25794387 * df['away_0_goals_poisson_prob']**3 \n",
    "df['away1goalscorrected'] = 0.158 + 1.66689253 * df['away_1_goals_poisson_prob'] -5.84229036 * df['away_1_goals_poisson_prob']**2  + 7.63748442 * df['away_1_goals_poisson_prob']**3 "
   ]
  },
  {
   "cell_type": "code",
   "execution_count": 88,
   "metadata": {},
   "outputs": [],
   "source": [
    "%%capture\n",
    "df['away2goalscorrected'] = 0.128 + 0.39135194 * df['away_2_goals_poisson_prob']\n",
    "df['away3goalscorrected'] = 0.046 + 0.47332016 * df['away_3_goals_poisson_prob']\n",
    "df['away4goalscorrected'] = 0.012 + 0.5038961  * df['away_4_goals_poisson_prob']"
   ]
  },
  {
   "cell_type": "code",
   "execution_count": 89,
   "metadata": {},
   "outputs": [],
   "source": [
    "%%capture\n",
    "df['0-0new'] = df['home0goalscorrected']  *  df['away0goalscorrected']\n",
    "\n",
    "df['1-1new'] = df['home1goalscorrected']  *  df['away1goalscorrected']\n",
    "\n",
    "df['2-2new'] = df['home2goalscorrected']  *  df['away2goalscorrected']\n",
    "\n",
    "df['3-3new'] = df['home3goalscorrected']  *  df['away3goalscorrected']\n",
    "\n",
    "df['4-4new'] = df['home4goalscorrected']  *  df['away4goalscorrected']\n",
    "\n",
    "df['draw_prob_new'] = df['0-0new'] + df['1-1new'] + df['2-2new'] + df['3-3new'] + df['4-4new']\n",
    "df['draw_prob_new'] = round(df['draw_prob_new'], 2)"
   ]
  },
  {
   "cell_type": "markdown",
   "metadata": {},
   "source": [
    "# Aggregating by the newly corrected draw probability"
   ]
  },
  {
   "cell_type": "code",
   "execution_count": 97,
   "metadata": {
    "scrolled": true
   },
   "outputs": [
    {
     "name": "stderr",
     "output_type": "stream",
     "text": [
      "<ipython-input-97-828de5bd0e85>:8: SettingWithCopyWarning: \n",
      "A value is trying to be set on a copy of a slice from a DataFrame.\n",
      "Try using .loc[row_indexer,col_indexer] = value instead\n",
      "\n",
      "See the caveats in the documentation: https://pandas.pydata.org/pandas-docs/stable/user_guide/indexing.html#returning-a-view-versus-a-copy\n",
      "  b['draw_mean'] = round(b['draw_mean'],2)\n"
     ]
    },
    {
     "data": {
      "image/png": "[encoded data removed]",
      "text/plain": [
       "<Figure size 432x288 with 1 Axes>"
      ]
     },
     "metadata": {
      "needs_background": "light"
     },
     "output_type": "display_data"
    }
   ],
   "source": [
    "\n",
    "groupbycol = 'draw_prob_new'\n",
    "a = df.groupby([groupbycol]).agg({'draw' : [np.size,np.mean],  \n",
    "                                            }).reset_index()\n",
    "a.columns = a.columns.droplevel()\n",
    "a.columns = [groupbycol] + [ 'size','draw_mean',  ]\n",
    "\n",
    "b = a[a['size'] > 50]\n",
    "b['draw_mean'] = round(b['draw_mean'],2)\n",
    "\n",
    "plt.scatter(x = b[groupbycol], y = b['draw_mean'])\n",
    "\n",
    "plt.title('DRAW')\n",
    "plt.xlabel('Poisson Draw Prediction')\n",
    "plt.ylabel('Reality - aggregated avg')\n",
    "plt.xlim(0, 0.7)\n",
    "plt.plot([0,1],[0,1], 'r')\n",
    "plt.show()\n",
    "plt.show()\n"
   ]
  },
  {
   "cell_type": "markdown",
   "metadata": {},
   "source": [
    "# The full matrix of the corrected probabilities with the N(size) of observations and the aggregated avg"
   ]
  },
  {
   "cell_type": "code",
   "execution_count": 91,
   "metadata": {
    "scrolled": false
   },
   "outputs": [
    {
     "data": {
      "text/html": [
       "<div>\n",
       "<style scoped>\n",
       "    .dataframe tbody tr th:only-of-type {\n",
       "        vertical-align: middle;\n",
       "    }\n",
       "\n",
       "    .dataframe tbody tr th {\n",
       "        vertical-align: top;\n",
       "    }\n",
       "\n",
       "    .dataframe thead th {\n",
       "        text-align: right;\n",
       "    }\n",
       "</style>\n",
       "<table border=\"1\" class=\"dataframe\">\n",
       "  <thead>\n",
       "    <tr style=\"text-align: right;\">\n",
       "      <th></th>\n",
       "      <th>draw_prob_new</th>\n",
       "      <th>size</th>\n",
       "      <th>draw_mean</th>\n",
       "    </tr>\n",
       "  </thead>\n",
       "  <tbody>\n",
       "    <tr>\n",
       "      <th>3</th>\n",
       "      <td>0.12</td>\n",
       "      <td>119</td>\n",
       "      <td>0.10</td>\n",
       "    </tr>\n",
       "    <tr>\n",
       "      <th>4</th>\n",
       "      <td>0.13</td>\n",
       "      <td>268</td>\n",
       "      <td>0.08</td>\n",
       "    </tr>\n",
       "    <tr>\n",
       "      <th>5</th>\n",
       "      <td>0.14</td>\n",
       "      <td>498</td>\n",
       "      <td>0.08</td>\n",
       "    </tr>\n",
       "    <tr>\n",
       "      <th>6</th>\n",
       "      <td>0.15</td>\n",
       "      <td>835</td>\n",
       "      <td>0.13</td>\n",
       "    </tr>\n",
       "    <tr>\n",
       "      <th>7</th>\n",
       "      <td>0.16</td>\n",
       "      <td>1222</td>\n",
       "      <td>0.15</td>\n",
       "    </tr>\n",
       "    <tr>\n",
       "      <th>8</th>\n",
       "      <td>0.17</td>\n",
       "      <td>1730</td>\n",
       "      <td>0.16</td>\n",
       "    </tr>\n",
       "    <tr>\n",
       "      <th>9</th>\n",
       "      <td>0.18</td>\n",
       "      <td>2435</td>\n",
       "      <td>0.17</td>\n",
       "    </tr>\n",
       "    <tr>\n",
       "      <th>10</th>\n",
       "      <td>0.19</td>\n",
       "      <td>3376</td>\n",
       "      <td>0.18</td>\n",
       "    </tr>\n",
       "    <tr>\n",
       "      <th>11</th>\n",
       "      <td>0.20</td>\n",
       "      <td>4508</td>\n",
       "      <td>0.19</td>\n",
       "    </tr>\n",
       "    <tr>\n",
       "      <th>12</th>\n",
       "      <td>0.21</td>\n",
       "      <td>6047</td>\n",
       "      <td>0.20</td>\n",
       "    </tr>\n",
       "    <tr>\n",
       "      <th>13</th>\n",
       "      <td>0.22</td>\n",
       "      <td>7965</td>\n",
       "      <td>0.22</td>\n",
       "    </tr>\n",
       "    <tr>\n",
       "      <th>14</th>\n",
       "      <td>0.23</td>\n",
       "      <td>10567</td>\n",
       "      <td>0.23</td>\n",
       "    </tr>\n",
       "    <tr>\n",
       "      <th>15</th>\n",
       "      <td>0.24</td>\n",
       "      <td>13323</td>\n",
       "      <td>0.24</td>\n",
       "    </tr>\n",
       "    <tr>\n",
       "      <th>16</th>\n",
       "      <td>0.25</td>\n",
       "      <td>14497</td>\n",
       "      <td>0.26</td>\n",
       "    </tr>\n",
       "    <tr>\n",
       "      <th>17</th>\n",
       "      <td>0.26</td>\n",
       "      <td>15416</td>\n",
       "      <td>0.27</td>\n",
       "    </tr>\n",
       "    <tr>\n",
       "      <th>18</th>\n",
       "      <td>0.27</td>\n",
       "      <td>14641</td>\n",
       "      <td>0.27</td>\n",
       "    </tr>\n",
       "    <tr>\n",
       "      <th>19</th>\n",
       "      <td>0.28</td>\n",
       "      <td>12218</td>\n",
       "      <td>0.28</td>\n",
       "    </tr>\n",
       "    <tr>\n",
       "      <th>20</th>\n",
       "      <td>0.29</td>\n",
       "      <td>9846</td>\n",
       "      <td>0.30</td>\n",
       "    </tr>\n",
       "    <tr>\n",
       "      <th>21</th>\n",
       "      <td>0.30</td>\n",
       "      <td>130</td>\n",
       "      <td>0.24</td>\n",
       "    </tr>\n",
       "  </tbody>\n",
       "</table>\n",
       "</div>"
      ],
      "text/plain": [
       "    draw_prob_new   size  draw_mean\n",
       "3            0.12    119       0.10\n",
       "4            0.13    268       0.08\n",
       "5            0.14    498       0.08\n",
       "6            0.15    835       0.13\n",
       "7            0.16   1222       0.15\n",
       "8            0.17   1730       0.16\n",
       "9            0.18   2435       0.17\n",
       "10           0.19   3376       0.18\n",
       "11           0.20   4508       0.19\n",
       "12           0.21   6047       0.20\n",
       "13           0.22   7965       0.22\n",
       "14           0.23  10567       0.23\n",
       "15           0.24  13323       0.24\n",
       "16           0.25  14497       0.26\n",
       "17           0.26  15416       0.27\n",
       "18           0.27  14641       0.27\n",
       "19           0.28  12218       0.28\n",
       "20           0.29   9846       0.30\n",
       "21           0.30    130       0.24"
      ]
     },
     "execution_count": 91,
     "metadata": {},
     "output_type": "execute_result"
    }
   ],
   "source": [
    "b"
   ]
  },
  {
   "cell_type": "markdown",
   "metadata": {},
   "source": [
    "# THE LAST TWO GRAPHS ON THE SAME CANVAS"
   ]
  },
  {
   "cell_type": "code",
   "execution_count": 98,
   "metadata": {},
   "outputs": [
    {
     "name": "stderr",
     "output_type": "stream",
     "text": [
      "<ipython-input-98-e324c53ae127>:8: SettingWithCopyWarning: \n",
      "A value is trying to be set on a copy of a slice from a DataFrame.\n",
      "Try using .loc[row_indexer,col_indexer] = value instead\n",
      "\n",
      "See the caveats in the documentation: https://pandas.pydata.org/pandas-docs/stable/user_guide/indexing.html#returning-a-view-versus-a-copy\n",
      "  b['draw_mean'] = round(b['draw_mean'],2)\n",
      "<ipython-input-98-e324c53ae127>:21: SettingWithCopyWarning: \n",
      "A value is trying to be set on a copy of a slice from a DataFrame.\n",
      "Try using .loc[row_indexer,col_indexer] = value instead\n",
      "\n",
      "See the caveats in the documentation: https://pandas.pydata.org/pandas-docs/stable/user_guide/indexing.html#returning-a-view-versus-a-copy\n",
      "  b['draw_mean'] = round(b['draw_mean'],2)\n"
     ]
    },
    {
     "data": {
      "image/png": "[encoded data removed]",
      "text/plain": [
       "<Figure size 432x288 with 1 Axes>"
      ]
     },
     "metadata": {
      "needs_background": "light"
     },
     "output_type": "display_data"
    }
   ],
   "source": [
    "\n",
    "groupbycol = 'draw_prob'\n",
    "a = df.groupby([groupbycol]).agg({'draw' : [np.size,np.mean],  \n",
    "                                            }).reset_index()\n",
    "a.columns = a.columns.droplevel()\n",
    "a.columns = [groupbycol] + [ 'size','draw_mean',  ]\n",
    "\n",
    "b = a[a['size'] > 50]\n",
    "b['draw_mean'] = round(b['draw_mean'],2)\n",
    "\n",
    "c = b\n",
    "\n",
    "plt.scatter(x = c[groupbycol], y = c['draw_mean'], color = 'y')\n",
    "\n",
    "groupbycol = 'draw_prob_new'\n",
    "a = df.groupby([groupbycol]).agg({'draw' : [np.size,np.mean],  \n",
    "                                            }).reset_index()\n",
    "a.columns = a.columns.droplevel()\n",
    "a.columns = [groupbycol] + [ 'size','draw_mean',  ]\n",
    "\n",
    "b = a[a['size'] > 50]\n",
    "b['draw_mean'] = round(b['draw_mean'],2)\n",
    "\n",
    "plt.scatter(x = b[groupbycol], y = b['draw_mean'])\n",
    "\n",
    "plt.title('DRAW')\n",
    "plt.xlabel('Poisson Draw Prediction')\n",
    "plt.ylabel('Reality - aggregated avg')\n",
    "plt.xlim(0, 0.7)\n",
    "plt.plot([0,1],[0,1], 'g')\n",
    "plt.show()\n",
    "\n",
    "\n",
    "\n",
    "\n",
    "\n",
    "\n"
   ]
  },
  {
   "cell_type": "raw",
   "metadata": {},
   "source": [
    "The yellow dots, represent the aggregation without corrections, and the blue dots are the 'corrected' dots, falling onto the ideal y = x line.\n",
    "\n",
    "The most important thing to be noted is that, there is no probability below 0.10 or above 0.30. All the not corrected - pure poisson bivariate distribution probabilities, below 0.10 or above 0.30, have been converged - corrected due to the regression lines we have already calculated,to the actual probabilities, and as one can see from the yellow dots, there was no probability below 0.10, or greater than 0.38. "
   ]
  },
  {
   "cell_type": "markdown",
   "metadata": {},
   "source": [
    "# Hypothesis "
   ]
  },
  {
   "cell_type": "raw",
   "metadata": {},
   "source": [
    "Let's have a look at the possibility of being able to earn some profit by beating the oddsmakers odds.Supposing that one selects the 11137 games with the top probability ending with a draw, which is 0.29. For all those games, the max draw odd online is provided. \n"
   ]
  },
  {
   "cell_type": "code",
   "execution_count": 93,
   "metadata": {},
   "outputs": [],
   "source": [
    "# Subset of high draws\n",
    "sub = df[df['draw_prob_new'] == 0.29]"
   ]
  },
  {
   "cell_type": "markdown",
   "metadata": {},
   "source": [
    "# Average max odds on this subset"
   ]
  },
  {
   "cell_type": "code",
   "execution_count": 94,
   "metadata": {},
   "outputs": [
    {
     "data": {
      "text/plain": [
       "3.3172699573430897"
      ]
     },
     "execution_count": 94,
     "metadata": {},
     "output_type": "execute_result"
    }
   ],
   "source": [
    "sub['ODDX_max'].mean()"
   ]
  },
  {
   "cell_type": "markdown",
   "metadata": {},
   "source": [
    "# Distribution of ODDX_max"
   ]
  },
  {
   "cell_type": "code",
   "execution_count": 95,
   "metadata": {},
   "outputs": [
    {
     "data": {
      "image/png": "[encoded data removed]",
      "text/plain": [
       "<Figure size 432x288 with 1 Axes>"
      ]
     },
     "metadata": {
      "needs_background": "light"
     },
     "output_type": "display_data"
    }
   ],
   "source": [
    "sns.distplot(sub['ODDX_max'],kde=False)\n",
    "plt.title('Distribution of ODDX_max')\n",
    "plt.xlim(0,8)\n",
    "plt.show()"
   ]
  },
  {
   "cell_type": "markdown",
   "metadata": {},
   "source": [
    "# Comment"
   ]
  },
  {
   "cell_type": "raw",
   "metadata": {},
   "source": [
    "To bet, there should be some value, in doing so. The probability is 0.29. Dividing 1 / 0.29, one can find the minimum odd below which he should not place a bet. The min odd is 3.45. Therefore, a second subset should be, all those games that actually have value in betting on the draw"
   ]
  },
  {
   "cell_type": "code",
   "execution_count": 96,
   "metadata": {},
   "outputs": [
    {
     "name": "stdout",
     "output_type": "stream",
     "text": [
      "Number of games with value : 2952\n",
      "Number of games that actually ended as a draw: 735\n",
      "Percentage of succesfull draws having value: 0.24898373983739838\n",
      "Net Return :  2783.4\n"
     ]
    }
   ],
   "source": [
    "sub2 = sub[sub['ODDX_max'] >= 3.44]\n",
    "print('Number of games with value :', len(sub2))\n",
    "print('Number of games that actually ended as a draw:',sub2['draw'].sum())\n",
    "print('Percentage of succesfull draws having value:',sub2['draw'].sum() / len(sub2))\n",
    "print('Net Return : ', sub2[sub2['draw'] == 1]['ODDX_max'].sum())"
   ]
  },
  {
   "cell_type": "markdown",
   "metadata": {},
   "source": [
    "# Comment"
   ]
  },
  {
   "cell_type": "raw",
   "metadata": {},
   "source": [
    "As we can see, by selecting the value bet games, the correct prediction % falls from the original 29% to 25%. It is a good indicator that the oddsmakers,probably do their job correctly. Having placed a bet on all the games that had value, which were 3556, the return would be ~ 3383. So The ROI would be negative, at -4.9%."
   ]
  },
  {
   "cell_type": "markdown",
   "metadata": {},
   "source": [
    "# Conclusion"
   ]
  },
  {
   "cell_type": "raw",
   "metadata": {},
   "source": [
    "This is an effort, that incorporates web scraping, data analysis, and aggregations, to shed some more light, with much more data than usual, on the performance of usage of  Bivariate Poisson Distribution to predict football teams probabilities to score. \n",
    "\n",
    "Based on τhe analysis, the Bivariate Poisson Distribution fails to correctly calculate the probabilities of the exact home team goals and away team goals, as depicted by the numerous graphs and calculations above.Although there are some ranges of probabilities that have a very low error, the majority of them overestimate or underestimate the actual probablities.\n",
    "\n",
    "\n",
    "                                        Comments and findings\n",
    "                                        \n",
    "Regarding the home and away team, 0 goals probabilities, whose range is the full[0,1], the findings show that, the Poisson distibution underestimates the probability of exactly 0 goals, up to the 0.30 benchmark, and afterwards overestimates the probability of exactly 0 goals. In both cases a 3rd degree polynomial linear regression was used to correct the discrepancies, R squared  0.935 and 0.952 correspondingly.\n",
    "\n",
    "About the home and away team 1 goal probabilities, whose range is [0, 0.37] and both follow left skewed distributions, the findings show that,the Poisson distibution underestimates the probability of the teams scoring one goal up till the 0.30 benchmark, whereas after that, they are pretty close to reality. In the case of the home team 1 goal prediction  linear regression was used to correct any discrepancies, with R square of 0.938, In the case of away team 1 goal prediction a 3rd degree polynomial linear regression was used to correct the discrepancies with R squared 0.851. \n",
    "                                        \n",
    "\n",
    "Regarding the rest exact home and away goals probabilities, the findings are below:\n",
    "\n",
    "Home Team 2 goals: \n",
    "•\tLeft Skewed, , the range of probabilities [0 , 0.27]\n",
    "•\tunderestimates the probability of the home team scoring two goals up till probability of ~ 0.20, \n",
    "•\tA linear regression was used to correct it, R squared > 0.9\n",
    "\n",
    "Home Team 3 goals: \n",
    "•\tmore close to reality predictions, but still underestimating when predicting low probabilities\n",
    "•\tthe range of probabilities [0 , 0.22], \n",
    "•\tA linear regression was used to correct it, R squared > 0.9\n",
    "\n",
    "Home Team 4 goals: \n",
    "•\tRight Skewed, probably the most accurate case, but still underestimating when predicting low probabilities.\n",
    "•\tThe range of probabilities [0 , 0.2],\n",
    "•\t A linear regression was used to correct it, R squared > 0.9\n",
    "\n",
    "\n",
    "Away Team 2 goals: \n",
    "•\tLeft Skewed, underestimates the probability of the home team scoring two goals up till probability of ~ 0.20\n",
    "•\tthe range of probabilities [0 , 0.27]\n",
    "•\tA linear regression was used to correct it, R squared > 0.9\n",
    "\n",
    "Away Team 3 goals:\n",
    "•\tRight Skewed, close to reality predictions, but still underestimating when predicting low probabilities,\n",
    "•\tthe range of probabilities [0 , 0.22],\n",
    "•\tA linear regression was used to correct it, R squared > 0.9\n",
    "\n",
    "Away Team 4 goals: \n",
    "•\tRight Skewed, probably the most accurate case,  but still underestimating when predicting low probabilities\n",
    "•\tthe range of probabilities [0 , 0.2], \n",
    "•\tA linear regression was used to correct it, R squared > 0.9\n",
    "\n",
    "\n",
    "\n",
    "As prementioned, effort was  put to optimize the  probabilities of the Poisson distribution, by calculating linear or polynomial regression lines, where the  goal was to correct the overestimation or underestimation errors of the distribution probabilities. In all of the cases, a linear or 3rd degree polynomial regression was used, with all the R squared metrics being over 0.85 and a very good fit was obtained.\n",
    "\n",
    "\n",
    "Furthermore, an experiment was conducted, to calculate possible positive ROI(Return On Investment), by selecting the top matches in terms of draw probability and placing bets on the max draw odd, whenever there was value in the odd. 11137 games with the top probability (0.29) ending with a draw were selected. For all those games, the max draw odd online was provided. To place a  bet, odds greater than 3.45 were selected, resulting in 3556 games with value. 889 games actually ended as a draw and the net return was 3382.92, thus a - 4.9 %  ROI. \n",
    "\n",
    "\n",
    "\n",
    "Limitations of the model\n",
    "•\tΤhe averages used, are the averages from the start of the season up to the date of the game. In that way, the recent form averages(meaning the last 4,5,6 matches), which in many cases differ substantially from the all year averages( as the team might have changed squad members,may have hired a coach with a more offensive/defensive mentality, etc..), are not take into consideration. Possibly an analysis using the last N games averages could end up with a better result\n",
    "•\tQualitative limitations that affect the outcome such as, onesided motivation of one team winning, weather conditions, pitch conditions, recent manager substitutions, important players missing from the squad, random luck, poor team performance - a bad day of team, the evolution of the match state( who takes the lead and when), red cards, etc\n",
    "\n"
   ]
  },
  {
   "cell_type": "code",
   "execution_count": null,
   "metadata": {},
   "outputs": [],
   "source": []
  },
  {
   "cell_type": "code",
   "execution_count": null,
   "metadata": {},
   "outputs": [],
   "source": []
  }
 ],
 "metadata": {
  "kernelspec": {
   "display_name": "Python 3",
   "language": "python",
   "name": "python3"
  },
  "language_info": {
   "codemirror_mode": {
    "name": "ipython",
    "version": 3
   },
   "file_extension": ".py",
   "mimetype": "text/x-python",
   "name": "python",
   "nbconvert_exporter": "python",
   "pygments_lexer": "ipython3",
   "version": "3.8.3"
  }
 },
 "nbformat": 4,
 "nbformat_minor": 4
}
